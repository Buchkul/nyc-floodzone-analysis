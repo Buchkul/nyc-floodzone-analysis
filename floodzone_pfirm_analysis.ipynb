{
 "cells": [
  {
   "cell_type": "markdown",
   "metadata": {},
   "source": [
    "# New York City's Flood Zone Exploratory Data Analysis\n",
    "Author: Mark Bauer"
   ]
  },
  {
   "cell_type": "markdown",
   "metadata": {},
   "source": [
    "# 1. Introduction\n",
    "\n",
    "I've wanted to do this project for some time now, and I'm finally happy to share this open source project. This notebook demonstrates how to analyze FEMA's Preliminary Flood Insurance Rate Map (i.e. PFIRM), sometimes known as '*flood zone*.' The flood zone is for New York City (all five boroughs). Let's see what cool things we can discover about this dataset!"
   ]
  },
  {
   "cell_type": "markdown",
   "metadata": {},
   "source": [
    "# Libraries"
   ]
  },
  {
   "cell_type": "code",
   "execution_count": 1,
   "metadata": {},
   "outputs": [],
   "source": [
    "import numpy as np\n",
    "import pandas as pd\n",
    "import seaborn as sns\n",
    "import matplotlib.pyplot as plt\n",
    "import geopandas as gpd\n",
    "import urllib.request\n",
    "from zipfile import ZipFile\n",
    "\n",
    "plt.rcParams['savefig.facecolor'] = 'white'\n",
    "%matplotlib inline"
   ]
  },
  {
   "cell_type": "code",
   "execution_count": 2,
   "metadata": {},
   "outputs": [
    {
     "name": "stdout",
     "output_type": "stream",
     "text": [
      "printing packages and versions:\n",
      "\n",
      "CPython 3.7.1\n",
      "IPython 7.20.0\n",
      "\n",
      "numpy 1.19.2\n",
      "pandas 1.2.1\n",
      "seaborn 0.11.1\n",
      "matplotlib.pyplot 3.3.2\n",
      "geopandas 0.8.1\n"
     ]
    }
   ],
   "source": [
    "print('printing packages and versions:\\n')\n",
    "\n",
    "%reload_ext watermark\n",
    "\n",
    "%watermark -v -p numpy,pandas,seaborn,matplotlib.pyplot,geopandas"
   ]
  },
  {
   "cell_type": "markdown",
   "metadata": {},
   "source": [
    "**Uncomment the code below to download the files from the web.**"
   ]
  },
  {
   "cell_type": "code",
   "execution_count": 3,
   "metadata": {},
   "outputs": [
    {
     "name": "stdout",
     "output_type": "stream",
     "text": [
      "listing the new downloaded file in our directory:\n",
      "LICENSE                         \u001b[34mpfirm_nyc\u001b[m\u001b[m/\r\n",
      "README.md                       pfirm_nyc.zip\r\n",
      "floodzone_pfirm_analysis.ipynb\r\n"
     ]
    }
   ],
   "source": [
    "# # url path from the web\n",
    "# url = 'https://msc.fema.gov/portal/downloadProduct?productID=360497_PRELIMDB'\n",
    "# print('data url path:', url)\n",
    "\n",
    "# # assigning file name as 'pfirm_nyc.zip'\n",
    "# urllib.request.urlretrieve(url, 'pfirm_nyc.zip')\n",
    "\n",
    "# listing files in our directory\n",
    "print('listing the new downloaded file in our directory:')\n",
    "%ls"
   ]
  },
  {
   "cell_type": "markdown",
   "metadata": {},
   "source": [
    "**Uncomment the code below to unzip and extract the files from the zip file.**"
   ]
  },
  {
   "cell_type": "code",
   "execution_count": 4,
   "metadata": {},
   "outputs": [
    {
     "name": "stdout",
     "output_type": "stream",
     "text": [
      "listing items after unzipping the file:\n",
      "\n",
      "360497_PRELIM_metadata.txt  s_fld_haz_ar.shx\r\n",
      "360497_PRELIM_metadata.xml  s_fld_haz_ln.dbf\r\n",
      "L_PAN_REVIS.dbf             s_fld_haz_ln.shp\r\n",
      "L_POL_FHBM.dbf              s_fld_haz_ln.shx\r\n",
      "S_BASE_INDEX.prj            s_gen_struct.dbf\r\n",
      "S_BFE.prj                   s_gen_struct.shp\r\n",
      "S_CBRS.prj                  s_gen_struct.shx\r\n",
      "S_CST_TSCT_LN.dbf           s_label_ld.dbf\r\n",
      "S_CST_TSCT_LN.prj           s_label_ld.prj\r\n",
      "S_CST_TSCT_LN.shp           s_label_ld.sbn\r\n",
      "S_CST_TSCT_LN.shx           s_label_ld.sbx\r\n",
      "S_FIRM_PAN.prj              s_label_ld.shp\r\n",
      "S_FLD_HAZ_AR.prj            s_label_ld.shx\r\n",
      "S_FLD_HAZ_LN.prj            s_label_pt.dbf\r\n",
      "S_GEN_STRUCT.prj            s_label_pt.prj\r\n",
      "S_LiMWA.dbf                 s_label_pt.sbn\r\n",
      "S_LiMWA.prj                 s_label_pt.sbx\r\n",
      "S_LiMWA.shp                 s_label_pt.shp\r\n",
      "S_LiMWA.shx                 s_label_pt.shx\r\n",
      "S_PERM_BMK.prj              s_perm_bmk.dbf\r\n",
      "S_POL_AR.prj                s_perm_bmk.shp\r\n",
      "S_POL_LN.prj                s_perm_bmk.shx\r\n",
      "S_QUAD_INDEX.prj            s_pol_ar.dbf\r\n",
      "S_WTR_AR.prj                s_pol_ar.shp\r\n",
      "S_WTR_LN.prj                s_pol_ar.shx\r\n",
      "S_XS.prj                    s_pol_ln.dbf\r\n",
      "l_comm_info.dbf             s_pol_ln.shp\r\n",
      "l_stn_start.dbf             s_pol_ln.shx\r\n",
      "s_base_index.dbf            s_quad_index.dbf\r\n",
      "s_base_index.shp            s_quad_index.shp\r\n",
      "s_base_index.shx            s_quad_index.shx\r\n",
      "s_bfe.dbf                   s_wtr_ar.dbf\r\n",
      "s_bfe.shp                   s_wtr_ar.shp\r\n",
      "s_bfe.shx                   s_wtr_ar.shx\r\n",
      "s_cbrs.dbf                  s_wtr_ln.dbf\r\n",
      "s_cbrs.shp                  s_wtr_ln.shp\r\n",
      "s_cbrs.shx                  s_wtr_ln.shx\r\n",
      "s_firm_pan.dbf              s_xs.dbf\r\n",
      "s_firm_pan.shp              s_xs.shp\r\n",
      "s_firm_pan.shx              s_xs.shx\r\n",
      "s_fld_haz_ar.dbf            study_info.dbf\r\n",
      "s_fld_haz_ar.shp\r\n"
     ]
    }
   ],
   "source": [
    "# path = 'pfirm_nyc.zip'\n",
    "# print('name of zip file:', path)\n",
    "\n",
    "# # opening zip using 'with' keyword in read mode\n",
    "# with zipfile.ZipFile(path, 'r') as file:\n",
    "#     # extracing all items in our zipfile\n",
    "#     # naming our file 'pfirm_nyc'\n",
    "#     file.extractall('pfirm_nyc')\n",
    "\n",
    "print('listing items after unzipping the file:\\n')\n",
    "%ls pfirm_nyc/    "
   ]
  },
  {
   "cell_type": "markdown",
   "metadata": {},
   "source": [
    "# 2. The files\n",
    "\n",
    "For this analysis, we are interested in the special flood hazard area shapefile - `s_fld_haz_area.shp`. This contains information about the flood zone. A shapefile is geospatial vector data for geographic information system software and stores geometric location and associated attribute information."
   ]
  },
  {
   "cell_type": "markdown",
   "metadata": {},
   "source": [
    "## 2.1 Inspecting the data"
   ]
  },
  {
   "cell_type": "code",
   "execution_count": 5,
   "metadata": {},
   "outputs": [
    {
     "data": {
      "text/html": [
       "<div>\n",
       "<style scoped>\n",
       "    .dataframe tbody tr th:only-of-type {\n",
       "        vertical-align: middle;\n",
       "    }\n",
       "\n",
       "    .dataframe tbody tr th {\n",
       "        vertical-align: top;\n",
       "    }\n",
       "\n",
       "    .dataframe thead th {\n",
       "        text-align: right;\n",
       "    }\n",
       "</style>\n",
       "<table border=\"1\" class=\"dataframe\">\n",
       "  <thead>\n",
       "    <tr style=\"text-align: right;\">\n",
       "      <th></th>\n",
       "      <th>FLD_AR_ID</th>\n",
       "      <th>FLD_ZONE</th>\n",
       "      <th>FLOODWAY</th>\n",
       "      <th>SFHA_TF</th>\n",
       "      <th>STATIC_BFE</th>\n",
       "      <th>V_DATUM</th>\n",
       "      <th>DEPTH</th>\n",
       "      <th>LEN_UNIT</th>\n",
       "      <th>VELOCITY</th>\n",
       "      <th>VEL_UNIT</th>\n",
       "      <th>AR_REVERT</th>\n",
       "      <th>BFE_REVERT</th>\n",
       "      <th>DEP_REVERT</th>\n",
       "      <th>SOURCE_CIT</th>\n",
       "      <th>geometry</th>\n",
       "    </tr>\n",
       "  </thead>\n",
       "  <tbody>\n",
       "    <tr>\n",
       "      <th>0</th>\n",
       "      <td>81</td>\n",
       "      <td>AE</td>\n",
       "      <td>None</td>\n",
       "      <td>T</td>\n",
       "      <td>13.0</td>\n",
       "      <td>NAVD88</td>\n",
       "      <td>-9999.0</td>\n",
       "      <td>FEET</td>\n",
       "      <td>-9999.0</td>\n",
       "      <td>None</td>\n",
       "      <td>None</td>\n",
       "      <td>-9999.0</td>\n",
       "      <td>-9999.0</td>\n",
       "      <td>STUDY4</td>\n",
       "      <td>POLYGON ((1032001.691 263867.839, 1032006.047 ...</td>\n",
       "    </tr>\n",
       "    <tr>\n",
       "      <th>1</th>\n",
       "      <td>82</td>\n",
       "      <td>X</td>\n",
       "      <td>None</td>\n",
       "      <td>F</td>\n",
       "      <td>-9999.0</td>\n",
       "      <td>None</td>\n",
       "      <td>-9999.0</td>\n",
       "      <td>None</td>\n",
       "      <td>-9999.0</td>\n",
       "      <td>None</td>\n",
       "      <td>None</td>\n",
       "      <td>-9999.0</td>\n",
       "      <td>-9999.0</td>\n",
       "      <td>STUDY4</td>\n",
       "      <td>POLYGON ((1033748.952 263778.464, 1033752.656 ...</td>\n",
       "    </tr>\n",
       "    <tr>\n",
       "      <th>2</th>\n",
       "      <td>83</td>\n",
       "      <td>0.2 PCT ANNUAL CHANCE FLOOD HAZARD</td>\n",
       "      <td>None</td>\n",
       "      <td>F</td>\n",
       "      <td>-9999.0</td>\n",
       "      <td>None</td>\n",
       "      <td>-9999.0</td>\n",
       "      <td>None</td>\n",
       "      <td>-9999.0</td>\n",
       "      <td>None</td>\n",
       "      <td>None</td>\n",
       "      <td>-9999.0</td>\n",
       "      <td>-9999.0</td>\n",
       "      <td>STUDY4</td>\n",
       "      <td>POLYGON ((1033309.701 263544.181, 1033322.210 ...</td>\n",
       "    </tr>\n",
       "    <tr>\n",
       "      <th>3</th>\n",
       "      <td>84</td>\n",
       "      <td>0.2 PCT ANNUAL CHANCE FLOOD HAZARD</td>\n",
       "      <td>None</td>\n",
       "      <td>F</td>\n",
       "      <td>-9999.0</td>\n",
       "      <td>None</td>\n",
       "      <td>-9999.0</td>\n",
       "      <td>None</td>\n",
       "      <td>-9999.0</td>\n",
       "      <td>None</td>\n",
       "      <td>None</td>\n",
       "      <td>-9999.0</td>\n",
       "      <td>-9999.0</td>\n",
       "      <td>STUDY4</td>\n",
       "      <td>POLYGON ((1033414.148 262658.868, 1033414.934 ...</td>\n",
       "    </tr>\n",
       "    <tr>\n",
       "      <th>4</th>\n",
       "      <td>85</td>\n",
       "      <td>0.2 PCT ANNUAL CHANCE FLOOD HAZARD</td>\n",
       "      <td>None</td>\n",
       "      <td>F</td>\n",
       "      <td>-9999.0</td>\n",
       "      <td>None</td>\n",
       "      <td>-9999.0</td>\n",
       "      <td>None</td>\n",
       "      <td>-9999.0</td>\n",
       "      <td>None</td>\n",
       "      <td>None</td>\n",
       "      <td>-9999.0</td>\n",
       "      <td>-9999.0</td>\n",
       "      <td>STUDY4</td>\n",
       "      <td>POLYGON ((1034089.115 262466.034, 1034089.402 ...</td>\n",
       "    </tr>\n",
       "  </tbody>\n",
       "</table>\n",
       "</div>"
      ],
      "text/plain": [
       "  FLD_AR_ID                            FLD_ZONE FLOODWAY SFHA_TF  STATIC_BFE  \\\n",
       "0        81                                  AE     None       T        13.0   \n",
       "1        82                                   X     None       F     -9999.0   \n",
       "2        83  0.2 PCT ANNUAL CHANCE FLOOD HAZARD     None       F     -9999.0   \n",
       "3        84  0.2 PCT ANNUAL CHANCE FLOOD HAZARD     None       F     -9999.0   \n",
       "4        85  0.2 PCT ANNUAL CHANCE FLOOD HAZARD     None       F     -9999.0   \n",
       "\n",
       "  V_DATUM   DEPTH LEN_UNIT  VELOCITY VEL_UNIT AR_REVERT  BFE_REVERT  \\\n",
       "0  NAVD88 -9999.0     FEET   -9999.0     None      None     -9999.0   \n",
       "1    None -9999.0     None   -9999.0     None      None     -9999.0   \n",
       "2    None -9999.0     None   -9999.0     None      None     -9999.0   \n",
       "3    None -9999.0     None   -9999.0     None      None     -9999.0   \n",
       "4    None -9999.0     None   -9999.0     None      None     -9999.0   \n",
       "\n",
       "   DEP_REVERT SOURCE_CIT                                           geometry  \n",
       "0     -9999.0     STUDY4  POLYGON ((1032001.691 263867.839, 1032006.047 ...  \n",
       "1     -9999.0     STUDY4  POLYGON ((1033748.952 263778.464, 1033752.656 ...  \n",
       "2     -9999.0     STUDY4  POLYGON ((1033309.701 263544.181, 1033322.210 ...  \n",
       "3     -9999.0     STUDY4  POLYGON ((1033414.148 262658.868, 1033414.934 ...  \n",
       "4     -9999.0     STUDY4  POLYGON ((1034089.115 262466.034, 1034089.402 ...  "
      ]
     },
     "execution_count": 5,
     "metadata": {},
     "output_type": "execute_result"
    }
   ],
   "source": [
    "# reading in shape file\n",
    "path = 'pfirm_nyc/s_fld_haz_ar.shp'\n",
    "pfirm_df = gpd.read_file(path)\n",
    "\n",
    "# previewing first five rorws of data\n",
    "pfirm_df.head()"
   ]
  },
  {
   "cell_type": "code",
   "execution_count": 6,
   "metadata": {},
   "outputs": [
    {
     "data": {
      "text/html": [
       "<div>\n",
       "<style scoped>\n",
       "    .dataframe tbody tr th:only-of-type {\n",
       "        vertical-align: middle;\n",
       "    }\n",
       "\n",
       "    .dataframe tbody tr th {\n",
       "        vertical-align: top;\n",
       "    }\n",
       "\n",
       "    .dataframe thead th {\n",
       "        text-align: right;\n",
       "    }\n",
       "</style>\n",
       "<table border=\"1\" class=\"dataframe\">\n",
       "  <thead>\n",
       "    <tr style=\"text-align: right;\">\n",
       "      <th></th>\n",
       "      <th>FLD_AR_ID</th>\n",
       "      <th>FLD_ZONE</th>\n",
       "      <th>FLOODWAY</th>\n",
       "      <th>SFHA_TF</th>\n",
       "      <th>STATIC_BFE</th>\n",
       "      <th>V_DATUM</th>\n",
       "      <th>DEPTH</th>\n",
       "      <th>LEN_UNIT</th>\n",
       "      <th>VELOCITY</th>\n",
       "      <th>VEL_UNIT</th>\n",
       "      <th>AR_REVERT</th>\n",
       "      <th>BFE_REVERT</th>\n",
       "      <th>DEP_REVERT</th>\n",
       "      <th>SOURCE_CIT</th>\n",
       "      <th>geometry</th>\n",
       "    </tr>\n",
       "  </thead>\n",
       "  <tbody>\n",
       "    <tr>\n",
       "      <th>3980</th>\n",
       "      <td>4061</td>\n",
       "      <td>AE</td>\n",
       "      <td>FLOODWAY</td>\n",
       "      <td>T</td>\n",
       "      <td>-9999.0</td>\n",
       "      <td>None</td>\n",
       "      <td>-9999.0</td>\n",
       "      <td>None</td>\n",
       "      <td>-9999.0</td>\n",
       "      <td>None</td>\n",
       "      <td>None</td>\n",
       "      <td>-9999.0</td>\n",
       "      <td>-9999.0</td>\n",
       "      <td>STUDY3</td>\n",
       "      <td>POLYGON ((948012.835 151530.411, 948018.441 15...</td>\n",
       "    </tr>\n",
       "    <tr>\n",
       "      <th>3981</th>\n",
       "      <td>4062</td>\n",
       "      <td>AE</td>\n",
       "      <td>None</td>\n",
       "      <td>T</td>\n",
       "      <td>-9999.0</td>\n",
       "      <td>None</td>\n",
       "      <td>-9999.0</td>\n",
       "      <td>None</td>\n",
       "      <td>-9999.0</td>\n",
       "      <td>None</td>\n",
       "      <td>None</td>\n",
       "      <td>-9999.0</td>\n",
       "      <td>-9999.0</td>\n",
       "      <td>STUDY3</td>\n",
       "      <td>POLYGON ((1019981.024 235220.224, 1019960.066 ...</td>\n",
       "    </tr>\n",
       "    <tr>\n",
       "      <th>3982</th>\n",
       "      <td>4063</td>\n",
       "      <td>AE</td>\n",
       "      <td>None</td>\n",
       "      <td>T</td>\n",
       "      <td>13.0</td>\n",
       "      <td>NAVD88</td>\n",
       "      <td>-9999.0</td>\n",
       "      <td>FEET</td>\n",
       "      <td>-9999.0</td>\n",
       "      <td>None</td>\n",
       "      <td>None</td>\n",
       "      <td>-9999.0</td>\n",
       "      <td>-9999.0</td>\n",
       "      <td>STUDY4</td>\n",
       "      <td>POLYGON ((1019888.296 235113.767, 1019910.519 ...</td>\n",
       "    </tr>\n",
       "    <tr>\n",
       "      <th>3983</th>\n",
       "      <td>4064</td>\n",
       "      <td>AE</td>\n",
       "      <td>None</td>\n",
       "      <td>T</td>\n",
       "      <td>-9999.0</td>\n",
       "      <td>None</td>\n",
       "      <td>-9999.0</td>\n",
       "      <td>None</td>\n",
       "      <td>-9999.0</td>\n",
       "      <td>None</td>\n",
       "      <td>None</td>\n",
       "      <td>-9999.0</td>\n",
       "      <td>-9999.0</td>\n",
       "      <td>STUDY3</td>\n",
       "      <td>POLYGON ((1020681.583 235274.734, 1020618.617 ...</td>\n",
       "    </tr>\n",
       "    <tr>\n",
       "      <th>3984</th>\n",
       "      <td>4065</td>\n",
       "      <td>AE</td>\n",
       "      <td>None</td>\n",
       "      <td>T</td>\n",
       "      <td>13.0</td>\n",
       "      <td>NAVD88</td>\n",
       "      <td>-9999.0</td>\n",
       "      <td>FEET</td>\n",
       "      <td>-9999.0</td>\n",
       "      <td>None</td>\n",
       "      <td>None</td>\n",
       "      <td>-9999.0</td>\n",
       "      <td>-9999.0</td>\n",
       "      <td>STUDY4</td>\n",
       "      <td>POLYGON ((1020681.583 235274.734, 1020700.681 ...</td>\n",
       "    </tr>\n",
       "  </tbody>\n",
       "</table>\n",
       "</div>"
      ],
      "text/plain": [
       "     FLD_AR_ID FLD_ZONE  FLOODWAY SFHA_TF  STATIC_BFE V_DATUM   DEPTH  \\\n",
       "3980      4061       AE  FLOODWAY       T     -9999.0    None -9999.0   \n",
       "3981      4062       AE      None       T     -9999.0    None -9999.0   \n",
       "3982      4063       AE      None       T        13.0  NAVD88 -9999.0   \n",
       "3983      4064       AE      None       T     -9999.0    None -9999.0   \n",
       "3984      4065       AE      None       T        13.0  NAVD88 -9999.0   \n",
       "\n",
       "     LEN_UNIT  VELOCITY VEL_UNIT AR_REVERT  BFE_REVERT  DEP_REVERT SOURCE_CIT  \\\n",
       "3980     None   -9999.0     None      None     -9999.0     -9999.0     STUDY3   \n",
       "3981     None   -9999.0     None      None     -9999.0     -9999.0     STUDY3   \n",
       "3982     FEET   -9999.0     None      None     -9999.0     -9999.0     STUDY4   \n",
       "3983     None   -9999.0     None      None     -9999.0     -9999.0     STUDY3   \n",
       "3984     FEET   -9999.0     None      None     -9999.0     -9999.0     STUDY4   \n",
       "\n",
       "                                               geometry  \n",
       "3980  POLYGON ((948012.835 151530.411, 948018.441 15...  \n",
       "3981  POLYGON ((1019981.024 235220.224, 1019960.066 ...  \n",
       "3982  POLYGON ((1019888.296 235113.767, 1019910.519 ...  \n",
       "3983  POLYGON ((1020681.583 235274.734, 1020618.617 ...  \n",
       "3984  POLYGON ((1020681.583 235274.734, 1020700.681 ...  "
      ]
     },
     "execution_count": 6,
     "metadata": {},
     "output_type": "execute_result"
    }
   ],
   "source": [
    "# previewing last five rorws of data\n",
    "pfirm_df.tail()"
   ]
  },
  {
   "cell_type": "code",
   "execution_count": 7,
   "metadata": {},
   "outputs": [
    {
     "name": "stdout",
     "output_type": "stream",
     "text": [
      "dataframe shape:\n",
      "\n",
      "number of rows: 3,985.\n",
      "number of columns: 15.\n"
     ]
    }
   ],
   "source": [
    "print('dataframe shape:\\n')\n",
    "\n",
    "rows = pfirm_df.shape[0]\n",
    "columns = pfirm_df.shape[1]\n",
    "\n",
    "print('number of rows: {:,}.\\nnumber of columns: {}.'.format(rows, columns))"
   ]
  },
  {
   "cell_type": "markdown",
   "metadata": {},
   "source": [
    "In this dataset, each row is a flood zone geometry. The type of flood zone can be inspected under the `FLD_ZONE` column. Additionally, there are 15 columns that contain information about each flood zone row."
   ]
  },
  {
   "cell_type": "code",
   "execution_count": 8,
   "metadata": {},
   "outputs": [
    {
     "name": "stdout",
     "output_type": "stream",
     "text": [
      "type of python object:\n",
      "\n",
      "<class 'geopandas.geodataframe.GeoDataFrame'>\n"
     ]
    }
   ],
   "source": [
    "print('type of python object:\\n\\n{}'.format(type(pfirm_df)))"
   ]
  },
  {
   "cell_type": "markdown",
   "metadata": {},
   "source": [
    "We read the shapefile into Python as a GeoDataFrame. This type is similar to a pandas dataframe, but incudes additional spatial information - mainly, our `geometry` column. The geometry column contains polygons that represent the physical space of each flood zone."
   ]
  },
  {
   "cell_type": "code",
   "execution_count": 9,
   "metadata": {},
   "outputs": [
    {
     "name": "stdout",
     "output_type": "stream",
     "text": [
      "quickly inspecting our map.\n"
     ]
    },
    {
     "data": {
      "text/plain": [
       "<AxesSubplot:>"
      ]
     },
     "execution_count": 9,
     "metadata": {},
     "output_type": "execute_result"
    },
    {
     "data": {
      "image/png": "[encoded data removed]",
      "text/plain": [
       "<Figure size 432x288 with 1 Axes>"
      ]
     },
     "metadata": {
      "needs_background": "light"
     },
     "output_type": "display_data"
    }
   ],
   "source": [
    "print('quickly inspecting our map.')\n",
    "pfirm_df.plot()"
   ]
  },
  {
   "cell_type": "code",
   "execution_count": 10,
   "metadata": {},
   "outputs": [
    {
     "name": "stdout",
     "output_type": "stream",
     "text": [
      "<class 'geopandas.geodataframe.GeoDataFrame'>\n",
      "RangeIndex: 3985 entries, 0 to 3984\n",
      "Data columns (total 15 columns):\n",
      " #   Column      Non-Null Count  Dtype   \n",
      "---  ------      --------------  -----   \n",
      " 0   FLD_AR_ID   3985 non-null   object  \n",
      " 1   FLD_ZONE    3985 non-null   object  \n",
      " 2   FLOODWAY    47 non-null     object  \n",
      " 3   SFHA_TF     3985 non-null   object  \n",
      " 4   STATIC_BFE  3985 non-null   float64 \n",
      " 5   V_DATUM     1153 non-null   object  \n",
      " 6   DEPTH       3985 non-null   float64 \n",
      " 7   LEN_UNIT    1165 non-null   object  \n",
      " 8   VELOCITY    3985 non-null   float64 \n",
      " 9   VEL_UNIT    0 non-null      object  \n",
      " 10  AR_REVERT   0 non-null      object  \n",
      " 11  BFE_REVERT  3985 non-null   float64 \n",
      " 12  DEP_REVERT  3985 non-null   float64 \n",
      " 13  SOURCE_CIT  3985 non-null   object  \n",
      " 14  geometry    3985 non-null   geometry\n",
      "dtypes: float64(5), geometry(1), object(9)\n",
      "memory usage: 467.1+ KB\n"
     ]
    }
   ],
   "source": [
    "# summary of the data\n",
    "pfirm_df.info()"
   ]
  },
  {
   "cell_type": "markdown",
   "metadata": {},
   "source": [
    "We notice that there are two columns that are completely null - `VEL_UNIT` and `AR_REVERT`. We may be able to safely drop them in the future."
   ]
  },
  {
   "cell_type": "code",
   "execution_count": 11,
   "metadata": {},
   "outputs": [
    {
     "name": "stdout",
     "output_type": "stream",
     "text": [
      "count of data types:\n"
     ]
    },
    {
     "data": {
      "text/plain": [
       "object      9\n",
       "float64     5\n",
       "geometry    1\n",
       "dtype: int64"
      ]
     },
     "execution_count": 11,
     "metadata": {},
     "output_type": "execute_result"
    }
   ],
   "source": [
    "print('count of data types:')\n",
    "pfirm_df.dtypes.value_counts()"
   ]
  },
  {
   "cell_type": "code",
   "execution_count": 12,
   "metadata": {},
   "outputs": [
    {
     "name": "stdout",
     "output_type": "stream",
     "text": [
      "summary statistics for numeric columns:\n"
     ]
    },
    {
     "data": {
      "text/html": [
       "<div>\n",
       "<style scoped>\n",
       "    .dataframe tbody tr th:only-of-type {\n",
       "        vertical-align: middle;\n",
       "    }\n",
       "\n",
       "    .dataframe tbody tr th {\n",
       "        vertical-align: top;\n",
       "    }\n",
       "\n",
       "    .dataframe thead th {\n",
       "        text-align: right;\n",
       "    }\n",
       "</style>\n",
       "<table border=\"1\" class=\"dataframe\">\n",
       "  <thead>\n",
       "    <tr style=\"text-align: right;\">\n",
       "      <th></th>\n",
       "      <th>STATIC_BFE</th>\n",
       "      <th>DEPTH</th>\n",
       "      <th>VELOCITY</th>\n",
       "      <th>BFE_REVERT</th>\n",
       "      <th>DEP_REVERT</th>\n",
       "    </tr>\n",
       "  </thead>\n",
       "  <tbody>\n",
       "    <tr>\n",
       "      <th>count</th>\n",
       "      <td>3985.000000</td>\n",
       "      <td>3985.000000</td>\n",
       "      <td>3985.0</td>\n",
       "      <td>3985.0</td>\n",
       "      <td>3985.0</td>\n",
       "    </tr>\n",
       "    <tr>\n",
       "      <th>mean</th>\n",
       "      <td>-7101.950314</td>\n",
       "      <td>-9968.883061</td>\n",
       "      <td>-9999.0</td>\n",
       "      <td>-9999.0</td>\n",
       "      <td>-9999.0</td>\n",
       "    </tr>\n",
       "    <tr>\n",
       "      <th>std</th>\n",
       "      <td>4540.905248</td>\n",
       "      <td>548.067414</td>\n",
       "      <td>0.0</td>\n",
       "      <td>0.0</td>\n",
       "      <td>0.0</td>\n",
       "    </tr>\n",
       "    <tr>\n",
       "      <th>min</th>\n",
       "      <td>-9999.000000</td>\n",
       "      <td>-9999.000000</td>\n",
       "      <td>-9999.0</td>\n",
       "      <td>-9999.0</td>\n",
       "      <td>-9999.0</td>\n",
       "    </tr>\n",
       "    <tr>\n",
       "      <th>25%</th>\n",
       "      <td>-9999.000000</td>\n",
       "      <td>-9999.000000</td>\n",
       "      <td>-9999.0</td>\n",
       "      <td>-9999.0</td>\n",
       "      <td>-9999.0</td>\n",
       "    </tr>\n",
       "    <tr>\n",
       "      <th>50%</th>\n",
       "      <td>-9999.000000</td>\n",
       "      <td>-9999.000000</td>\n",
       "      <td>-9999.0</td>\n",
       "      <td>-9999.0</td>\n",
       "      <td>-9999.0</td>\n",
       "    </tr>\n",
       "    <tr>\n",
       "      <th>75%</th>\n",
       "      <td>11.000000</td>\n",
       "      <td>-9999.000000</td>\n",
       "      <td>-9999.0</td>\n",
       "      <td>-9999.0</td>\n",
       "      <td>-9999.0</td>\n",
       "    </tr>\n",
       "    <tr>\n",
       "      <th>max</th>\n",
       "      <td>34.000000</td>\n",
       "      <td>3.000000</td>\n",
       "      <td>-9999.0</td>\n",
       "      <td>-9999.0</td>\n",
       "      <td>-9999.0</td>\n",
       "    </tr>\n",
       "  </tbody>\n",
       "</table>\n",
       "</div>"
      ],
      "text/plain": [
       "        STATIC_BFE        DEPTH  VELOCITY  BFE_REVERT  DEP_REVERT\n",
       "count  3985.000000  3985.000000    3985.0      3985.0      3985.0\n",
       "mean  -7101.950314 -9968.883061   -9999.0     -9999.0     -9999.0\n",
       "std    4540.905248   548.067414       0.0         0.0         0.0\n",
       "min   -9999.000000 -9999.000000   -9999.0     -9999.0     -9999.0\n",
       "25%   -9999.000000 -9999.000000   -9999.0     -9999.0     -9999.0\n",
       "50%   -9999.000000 -9999.000000   -9999.0     -9999.0     -9999.0\n",
       "75%      11.000000 -9999.000000   -9999.0     -9999.0     -9999.0\n",
       "max      34.000000     3.000000   -9999.0     -9999.0     -9999.0"
      ]
     },
     "execution_count": 12,
     "metadata": {},
     "output_type": "execute_result"
    }
   ],
   "source": [
    "print('summary statistics for numeric columns:')\n",
    "pfirm_df.describe()"
   ]
  },
  {
   "cell_type": "markdown",
   "metadata": {},
   "source": [
    "There seems to be weird values of -9999 in the numeric columns. Possibly placeholders for null values. We will inspect these values later."
   ]
  },
  {
   "cell_type": "code",
   "execution_count": 13,
   "metadata": {},
   "outputs": [
    {
     "name": "stdout",
     "output_type": "stream",
     "text": [
      "summary statistics for string/object columns:\n"
     ]
    },
    {
     "data": {
      "text/html": [
       "<div>\n",
       "<style scoped>\n",
       "    .dataframe tbody tr th:only-of-type {\n",
       "        vertical-align: middle;\n",
       "    }\n",
       "\n",
       "    .dataframe tbody tr th {\n",
       "        vertical-align: top;\n",
       "    }\n",
       "\n",
       "    .dataframe thead th {\n",
       "        text-align: right;\n",
       "    }\n",
       "</style>\n",
       "<table border=\"1\" class=\"dataframe\">\n",
       "  <thead>\n",
       "    <tr style=\"text-align: right;\">\n",
       "      <th></th>\n",
       "      <th>FLD_AR_ID</th>\n",
       "      <th>FLD_ZONE</th>\n",
       "      <th>FLOODWAY</th>\n",
       "      <th>SFHA_TF</th>\n",
       "      <th>V_DATUM</th>\n",
       "      <th>LEN_UNIT</th>\n",
       "      <th>VEL_UNIT</th>\n",
       "      <th>AR_REVERT</th>\n",
       "      <th>SOURCE_CIT</th>\n",
       "    </tr>\n",
       "  </thead>\n",
       "  <tbody>\n",
       "    <tr>\n",
       "      <th>count</th>\n",
       "      <td>3985</td>\n",
       "      <td>3985</td>\n",
       "      <td>47</td>\n",
       "      <td>3985</td>\n",
       "      <td>1153</td>\n",
       "      <td>1165</td>\n",
       "      <td>0</td>\n",
       "      <td>0</td>\n",
       "      <td>3985</td>\n",
       "    </tr>\n",
       "    <tr>\n",
       "      <th>unique</th>\n",
       "      <td>3985</td>\n",
       "      <td>7</td>\n",
       "      <td>1</td>\n",
       "      <td>2</td>\n",
       "      <td>1</td>\n",
       "      <td>1</td>\n",
       "      <td>0</td>\n",
       "      <td>0</td>\n",
       "      <td>3</td>\n",
       "    </tr>\n",
       "    <tr>\n",
       "      <th>top</th>\n",
       "      <td>3952</td>\n",
       "      <td>0.2 PCT ANNUAL CHANCE FLOOD HAZARD</td>\n",
       "      <td>FLOODWAY</td>\n",
       "      <td>F</td>\n",
       "      <td>NAVD88</td>\n",
       "      <td>FEET</td>\n",
       "      <td>NaN</td>\n",
       "      <td>NaN</td>\n",
       "      <td>STUDY4</td>\n",
       "    </tr>\n",
       "    <tr>\n",
       "      <th>freq</th>\n",
       "      <td>1</td>\n",
       "      <td>1726</td>\n",
       "      <td>47</td>\n",
       "      <td>2263</td>\n",
       "      <td>1153</td>\n",
       "      <td>1165</td>\n",
       "      <td>NaN</td>\n",
       "      <td>NaN</td>\n",
       "      <td>2937</td>\n",
       "    </tr>\n",
       "  </tbody>\n",
       "</table>\n",
       "</div>"
      ],
      "text/plain": [
       "       FLD_AR_ID                            FLD_ZONE  FLOODWAY SFHA_TF  \\\n",
       "count       3985                                3985        47    3985   \n",
       "unique      3985                                   7         1       2   \n",
       "top         3952  0.2 PCT ANNUAL CHANCE FLOOD HAZARD  FLOODWAY       F   \n",
       "freq           1                                1726        47    2263   \n",
       "\n",
       "       V_DATUM LEN_UNIT VEL_UNIT AR_REVERT SOURCE_CIT  \n",
       "count     1153     1165        0         0       3985  \n",
       "unique       1        1        0         0          3  \n",
       "top     NAVD88     FEET      NaN       NaN     STUDY4  \n",
       "freq      1153     1165      NaN       NaN       2937  "
      ]
     },
     "execution_count": 13,
     "metadata": {},
     "output_type": "execute_result"
    }
   ],
   "source": [
    "print('summary statistics for string/object columns:')\n",
    "pfirm_df.describe(include='object')"
   ]
  },
  {
   "cell_type": "code",
   "execution_count": 14,
   "metadata": {},
   "outputs": [
    {
     "name": "stdout",
     "output_type": "stream",
     "text": [
      "summary statistics for all column types:\n"
     ]
    },
    {
     "data": {
      "text/html": [
       "<div>\n",
       "<style scoped>\n",
       "    .dataframe tbody tr th:only-of-type {\n",
       "        vertical-align: middle;\n",
       "    }\n",
       "\n",
       "    .dataframe tbody tr th {\n",
       "        vertical-align: top;\n",
       "    }\n",
       "\n",
       "    .dataframe thead th {\n",
       "        text-align: right;\n",
       "    }\n",
       "</style>\n",
       "<table border=\"1\" class=\"dataframe\">\n",
       "  <thead>\n",
       "    <tr style=\"text-align: right;\">\n",
       "      <th></th>\n",
       "      <th>count</th>\n",
       "      <th>unique</th>\n",
       "      <th>top</th>\n",
       "      <th>freq</th>\n",
       "      <th>mean</th>\n",
       "      <th>std</th>\n",
       "      <th>min</th>\n",
       "      <th>25%</th>\n",
       "      <th>50%</th>\n",
       "      <th>75%</th>\n",
       "      <th>max</th>\n",
       "    </tr>\n",
       "  </thead>\n",
       "  <tbody>\n",
       "    <tr>\n",
       "      <th>FLD_AR_ID</th>\n",
       "      <td>3985</td>\n",
       "      <td>3985</td>\n",
       "      <td>3952</td>\n",
       "      <td>1</td>\n",
       "      <td>NaN</td>\n",
       "      <td>NaN</td>\n",
       "      <td>NaN</td>\n",
       "      <td>NaN</td>\n",
       "      <td>NaN</td>\n",
       "      <td>NaN</td>\n",
       "      <td>NaN</td>\n",
       "    </tr>\n",
       "    <tr>\n",
       "      <th>FLD_ZONE</th>\n",
       "      <td>3985</td>\n",
       "      <td>7</td>\n",
       "      <td>0.2 PCT ANNUAL CHANCE FLOOD HAZARD</td>\n",
       "      <td>1726</td>\n",
       "      <td>NaN</td>\n",
       "      <td>NaN</td>\n",
       "      <td>NaN</td>\n",
       "      <td>NaN</td>\n",
       "      <td>NaN</td>\n",
       "      <td>NaN</td>\n",
       "      <td>NaN</td>\n",
       "    </tr>\n",
       "    <tr>\n",
       "      <th>FLOODWAY</th>\n",
       "      <td>47</td>\n",
       "      <td>1</td>\n",
       "      <td>FLOODWAY</td>\n",
       "      <td>47</td>\n",
       "      <td>NaN</td>\n",
       "      <td>NaN</td>\n",
       "      <td>NaN</td>\n",
       "      <td>NaN</td>\n",
       "      <td>NaN</td>\n",
       "      <td>NaN</td>\n",
       "      <td>NaN</td>\n",
       "    </tr>\n",
       "    <tr>\n",
       "      <th>SFHA_TF</th>\n",
       "      <td>3985</td>\n",
       "      <td>2</td>\n",
       "      <td>F</td>\n",
       "      <td>2263</td>\n",
       "      <td>NaN</td>\n",
       "      <td>NaN</td>\n",
       "      <td>NaN</td>\n",
       "      <td>NaN</td>\n",
       "      <td>NaN</td>\n",
       "      <td>NaN</td>\n",
       "      <td>NaN</td>\n",
       "    </tr>\n",
       "    <tr>\n",
       "      <th>STATIC_BFE</th>\n",
       "      <td>3985.0</td>\n",
       "      <td>NaN</td>\n",
       "      <td>NaN</td>\n",
       "      <td>NaN</td>\n",
       "      <td>-7101.950314</td>\n",
       "      <td>4540.905248</td>\n",
       "      <td>-9999.0</td>\n",
       "      <td>-9999.0</td>\n",
       "      <td>-9999.0</td>\n",
       "      <td>11.0</td>\n",
       "      <td>34.0</td>\n",
       "    </tr>\n",
       "    <tr>\n",
       "      <th>V_DATUM</th>\n",
       "      <td>1153</td>\n",
       "      <td>1</td>\n",
       "      <td>NAVD88</td>\n",
       "      <td>1153</td>\n",
       "      <td>NaN</td>\n",
       "      <td>NaN</td>\n",
       "      <td>NaN</td>\n",
       "      <td>NaN</td>\n",
       "      <td>NaN</td>\n",
       "      <td>NaN</td>\n",
       "      <td>NaN</td>\n",
       "    </tr>\n",
       "    <tr>\n",
       "      <th>DEPTH</th>\n",
       "      <td>3985.0</td>\n",
       "      <td>NaN</td>\n",
       "      <td>NaN</td>\n",
       "      <td>NaN</td>\n",
       "      <td>-9968.883061</td>\n",
       "      <td>548.067414</td>\n",
       "      <td>-9999.0</td>\n",
       "      <td>-9999.0</td>\n",
       "      <td>-9999.0</td>\n",
       "      <td>-9999.0</td>\n",
       "      <td>3.0</td>\n",
       "    </tr>\n",
       "    <tr>\n",
       "      <th>LEN_UNIT</th>\n",
       "      <td>1165</td>\n",
       "      <td>1</td>\n",
       "      <td>FEET</td>\n",
       "      <td>1165</td>\n",
       "      <td>NaN</td>\n",
       "      <td>NaN</td>\n",
       "      <td>NaN</td>\n",
       "      <td>NaN</td>\n",
       "      <td>NaN</td>\n",
       "      <td>NaN</td>\n",
       "      <td>NaN</td>\n",
       "    </tr>\n",
       "    <tr>\n",
       "      <th>VELOCITY</th>\n",
       "      <td>3985.0</td>\n",
       "      <td>NaN</td>\n",
       "      <td>NaN</td>\n",
       "      <td>NaN</td>\n",
       "      <td>-9999.0</td>\n",
       "      <td>0.0</td>\n",
       "      <td>-9999.0</td>\n",
       "      <td>-9999.0</td>\n",
       "      <td>-9999.0</td>\n",
       "      <td>-9999.0</td>\n",
       "      <td>-9999.0</td>\n",
       "    </tr>\n",
       "    <tr>\n",
       "      <th>VEL_UNIT</th>\n",
       "      <td>0</td>\n",
       "      <td>0</td>\n",
       "      <td>NaN</td>\n",
       "      <td>NaN</td>\n",
       "      <td>NaN</td>\n",
       "      <td>NaN</td>\n",
       "      <td>NaN</td>\n",
       "      <td>NaN</td>\n",
       "      <td>NaN</td>\n",
       "      <td>NaN</td>\n",
       "      <td>NaN</td>\n",
       "    </tr>\n",
       "    <tr>\n",
       "      <th>AR_REVERT</th>\n",
       "      <td>0</td>\n",
       "      <td>0</td>\n",
       "      <td>NaN</td>\n",
       "      <td>NaN</td>\n",
       "      <td>NaN</td>\n",
       "      <td>NaN</td>\n",
       "      <td>NaN</td>\n",
       "      <td>NaN</td>\n",
       "      <td>NaN</td>\n",
       "      <td>NaN</td>\n",
       "      <td>NaN</td>\n",
       "    </tr>\n",
       "    <tr>\n",
       "      <th>BFE_REVERT</th>\n",
       "      <td>3985.0</td>\n",
       "      <td>NaN</td>\n",
       "      <td>NaN</td>\n",
       "      <td>NaN</td>\n",
       "      <td>-9999.0</td>\n",
       "      <td>0.0</td>\n",
       "      <td>-9999.0</td>\n",
       "      <td>-9999.0</td>\n",
       "      <td>-9999.0</td>\n",
       "      <td>-9999.0</td>\n",
       "      <td>-9999.0</td>\n",
       "    </tr>\n",
       "    <tr>\n",
       "      <th>DEP_REVERT</th>\n",
       "      <td>3985.0</td>\n",
       "      <td>NaN</td>\n",
       "      <td>NaN</td>\n",
       "      <td>NaN</td>\n",
       "      <td>-9999.0</td>\n",
       "      <td>0.0</td>\n",
       "      <td>-9999.0</td>\n",
       "      <td>-9999.0</td>\n",
       "      <td>-9999.0</td>\n",
       "      <td>-9999.0</td>\n",
       "      <td>-9999.0</td>\n",
       "    </tr>\n",
       "    <tr>\n",
       "      <th>SOURCE_CIT</th>\n",
       "      <td>3985</td>\n",
       "      <td>3</td>\n",
       "      <td>STUDY4</td>\n",
       "      <td>2937</td>\n",
       "      <td>NaN</td>\n",
       "      <td>NaN</td>\n",
       "      <td>NaN</td>\n",
       "      <td>NaN</td>\n",
       "      <td>NaN</td>\n",
       "      <td>NaN</td>\n",
       "      <td>NaN</td>\n",
       "    </tr>\n",
       "  </tbody>\n",
       "</table>\n",
       "</div>"
      ],
      "text/plain": [
       "             count unique                                 top  freq  \\\n",
       "FLD_AR_ID     3985   3985                                3952     1   \n",
       "FLD_ZONE      3985      7  0.2 PCT ANNUAL CHANCE FLOOD HAZARD  1726   \n",
       "FLOODWAY        47      1                            FLOODWAY    47   \n",
       "SFHA_TF       3985      2                                   F  2263   \n",
       "STATIC_BFE  3985.0    NaN                                 NaN   NaN   \n",
       "V_DATUM       1153      1                              NAVD88  1153   \n",
       "DEPTH       3985.0    NaN                                 NaN   NaN   \n",
       "LEN_UNIT      1165      1                                FEET  1165   \n",
       "VELOCITY    3985.0    NaN                                 NaN   NaN   \n",
       "VEL_UNIT         0      0                                 NaN   NaN   \n",
       "AR_REVERT        0      0                                 NaN   NaN   \n",
       "BFE_REVERT  3985.0    NaN                                 NaN   NaN   \n",
       "DEP_REVERT  3985.0    NaN                                 NaN   NaN   \n",
       "SOURCE_CIT    3985      3                              STUDY4  2937   \n",
       "\n",
       "                   mean          std     min     25%     50%     75%     max  \n",
       "FLD_AR_ID           NaN          NaN     NaN     NaN     NaN     NaN     NaN  \n",
       "FLD_ZONE            NaN          NaN     NaN     NaN     NaN     NaN     NaN  \n",
       "FLOODWAY            NaN          NaN     NaN     NaN     NaN     NaN     NaN  \n",
       "SFHA_TF             NaN          NaN     NaN     NaN     NaN     NaN     NaN  \n",
       "STATIC_BFE -7101.950314  4540.905248 -9999.0 -9999.0 -9999.0    11.0    34.0  \n",
       "V_DATUM             NaN          NaN     NaN     NaN     NaN     NaN     NaN  \n",
       "DEPTH      -9968.883061   548.067414 -9999.0 -9999.0 -9999.0 -9999.0     3.0  \n",
       "LEN_UNIT            NaN          NaN     NaN     NaN     NaN     NaN     NaN  \n",
       "VELOCITY        -9999.0          0.0 -9999.0 -9999.0 -9999.0 -9999.0 -9999.0  \n",
       "VEL_UNIT            NaN          NaN     NaN     NaN     NaN     NaN     NaN  \n",
       "AR_REVERT           NaN          NaN     NaN     NaN     NaN     NaN     NaN  \n",
       "BFE_REVERT      -9999.0          0.0 -9999.0 -9999.0 -9999.0 -9999.0 -9999.0  \n",
       "DEP_REVERT      -9999.0          0.0 -9999.0 -9999.0 -9999.0 -9999.0 -9999.0  \n",
       "SOURCE_CIT          NaN          NaN     NaN     NaN     NaN     NaN     NaN  "
      ]
     },
     "execution_count": 14,
     "metadata": {},
     "output_type": "execute_result"
    }
   ],
   "source": [
    "print('summary statistics for all column types:')\n",
    "pfirm_df.drop(columns='geometry').describe(include='all').T"
   ]
  },
  {
   "cell_type": "code",
   "execution_count": 15,
   "metadata": {},
   "outputs": [
    {
     "name": "stdout",
     "output_type": "stream",
     "text": [
      "null statistics of each column:\n"
     ]
    },
    {
     "data": {
      "text/html": [
       "<div>\n",
       "<style scoped>\n",
       "    .dataframe tbody tr th:only-of-type {\n",
       "        vertical-align: middle;\n",
       "    }\n",
       "\n",
       "    .dataframe tbody tr th {\n",
       "        vertical-align: top;\n",
       "    }\n",
       "\n",
       "    .dataframe thead th {\n",
       "        text-align: right;\n",
       "    }\n",
       "</style>\n",
       "<table border=\"1\" class=\"dataframe\">\n",
       "  <thead>\n",
       "    <tr style=\"text-align: right;\">\n",
       "      <th></th>\n",
       "      <th>count_null</th>\n",
       "      <th>normalized</th>\n",
       "    </tr>\n",
       "  </thead>\n",
       "  <tbody>\n",
       "    <tr>\n",
       "      <th>VEL_UNIT</th>\n",
       "      <td>3985</td>\n",
       "      <td>1.000</td>\n",
       "    </tr>\n",
       "    <tr>\n",
       "      <th>AR_REVERT</th>\n",
       "      <td>3985</td>\n",
       "      <td>1.000</td>\n",
       "    </tr>\n",
       "    <tr>\n",
       "      <th>FLOODWAY</th>\n",
       "      <td>3938</td>\n",
       "      <td>0.988</td>\n",
       "    </tr>\n",
       "    <tr>\n",
       "      <th>V_DATUM</th>\n",
       "      <td>2832</td>\n",
       "      <td>0.711</td>\n",
       "    </tr>\n",
       "    <tr>\n",
       "      <th>LEN_UNIT</th>\n",
       "      <td>2820</td>\n",
       "      <td>0.708</td>\n",
       "    </tr>\n",
       "    <tr>\n",
       "      <th>FLD_AR_ID</th>\n",
       "      <td>0</td>\n",
       "      <td>0.000</td>\n",
       "    </tr>\n",
       "    <tr>\n",
       "      <th>FLD_ZONE</th>\n",
       "      <td>0</td>\n",
       "      <td>0.000</td>\n",
       "    </tr>\n",
       "    <tr>\n",
       "      <th>SFHA_TF</th>\n",
       "      <td>0</td>\n",
       "      <td>0.000</td>\n",
       "    </tr>\n",
       "    <tr>\n",
       "      <th>STATIC_BFE</th>\n",
       "      <td>0</td>\n",
       "      <td>0.000</td>\n",
       "    </tr>\n",
       "    <tr>\n",
       "      <th>DEPTH</th>\n",
       "      <td>0</td>\n",
       "      <td>0.000</td>\n",
       "    </tr>\n",
       "    <tr>\n",
       "      <th>VELOCITY</th>\n",
       "      <td>0</td>\n",
       "      <td>0.000</td>\n",
       "    </tr>\n",
       "    <tr>\n",
       "      <th>BFE_REVERT</th>\n",
       "      <td>0</td>\n",
       "      <td>0.000</td>\n",
       "    </tr>\n",
       "    <tr>\n",
       "      <th>DEP_REVERT</th>\n",
       "      <td>0</td>\n",
       "      <td>0.000</td>\n",
       "    </tr>\n",
       "    <tr>\n",
       "      <th>SOURCE_CIT</th>\n",
       "      <td>0</td>\n",
       "      <td>0.000</td>\n",
       "    </tr>\n",
       "    <tr>\n",
       "      <th>geometry</th>\n",
       "      <td>0</td>\n",
       "      <td>0.000</td>\n",
       "    </tr>\n",
       "  </tbody>\n",
       "</table>\n",
       "</div>"
      ],
      "text/plain": [
       "            count_null  normalized\n",
       "VEL_UNIT          3985       1.000\n",
       "AR_REVERT         3985       1.000\n",
       "FLOODWAY          3938       0.988\n",
       "V_DATUM           2832       0.711\n",
       "LEN_UNIT          2820       0.708\n",
       "FLD_AR_ID            0       0.000\n",
       "FLD_ZONE             0       0.000\n",
       "SFHA_TF              0       0.000\n",
       "STATIC_BFE           0       0.000\n",
       "DEPTH                0       0.000\n",
       "VELOCITY             0       0.000\n",
       "BFE_REVERT           0       0.000\n",
       "DEP_REVERT           0       0.000\n",
       "SOURCE_CIT           0       0.000\n",
       "geometry             0       0.000"
      ]
     },
     "execution_count": 15,
     "metadata": {},
     "output_type": "execute_result"
    }
   ],
   "source": [
    "s1 = pfirm_df.isnull().sum().sort_values(ascending=False)\n",
    "s2 = round(pfirm_df.isnull().sum().sort_values(ascending=False) / len(pfirm_df), 3)\n",
    "\n",
    "print('null statistics of each column:')\n",
    "pd.concat([s1.rename('count_null'), s2.rename('normalized')], axis=1)"
   ]
  },
  {
   "cell_type": "code",
   "execution_count": 16,
   "metadata": {},
   "outputs": [
    {
     "name": "stdout",
     "output_type": "stream",
     "text": [
      "total number of nulls in data: 17,560.\n"
     ]
    }
   ],
   "source": [
    "print('total number of nulls in data: {:,}.'.format(pfirm_df.isnull().sum().sum()))"
   ]
  },
  {
   "cell_type": "markdown",
   "metadata": {},
   "source": [
    "Now that we have a better understanding of our data, let's come back to those 100% null value columns and see if we can safely drop them"
   ]
  },
  {
   "cell_type": "markdown",
   "metadata": {},
   "source": [
    "## 2.2 Dropping unnecessary columns"
   ]
  },
  {
   "cell_type": "code",
   "execution_count": 17,
   "metadata": {},
   "outputs": [
    {
     "data": {
      "text/html": [
       "<div>\n",
       "<style scoped>\n",
       "    .dataframe tbody tr th:only-of-type {\n",
       "        vertical-align: middle;\n",
       "    }\n",
       "\n",
       "    .dataframe tbody tr th {\n",
       "        vertical-align: top;\n",
       "    }\n",
       "\n",
       "    .dataframe thead th {\n",
       "        text-align: right;\n",
       "    }\n",
       "</style>\n",
       "<table border=\"1\" class=\"dataframe\">\n",
       "  <thead>\n",
       "    <tr style=\"text-align: right;\">\n",
       "      <th></th>\n",
       "      <th>VEL_UNIT</th>\n",
       "      <th>AR_REVERT</th>\n",
       "    </tr>\n",
       "  </thead>\n",
       "  <tbody>\n",
       "    <tr>\n",
       "      <th>0</th>\n",
       "      <td>None</td>\n",
       "      <td>None</td>\n",
       "    </tr>\n",
       "    <tr>\n",
       "      <th>1</th>\n",
       "      <td>None</td>\n",
       "      <td>None</td>\n",
       "    </tr>\n",
       "    <tr>\n",
       "      <th>2</th>\n",
       "      <td>None</td>\n",
       "      <td>None</td>\n",
       "    </tr>\n",
       "    <tr>\n",
       "      <th>3</th>\n",
       "      <td>None</td>\n",
       "      <td>None</td>\n",
       "    </tr>\n",
       "    <tr>\n",
       "      <th>4</th>\n",
       "      <td>None</td>\n",
       "      <td>None</td>\n",
       "    </tr>\n",
       "  </tbody>\n",
       "</table>\n",
       "</div>"
      ],
      "text/plain": [
       "  VEL_UNIT AR_REVERT\n",
       "0     None      None\n",
       "1     None      None\n",
       "2     None      None\n",
       "3     None      None\n",
       "4     None      None"
      ]
     },
     "execution_count": 17,
     "metadata": {},
     "output_type": "execute_result"
    }
   ],
   "source": [
    "# previewing columns that are 100% null\n",
    "pfirm_df[['VEL_UNIT', 'AR_REVERT']].head()"
   ]
  },
  {
   "cell_type": "code",
   "execution_count": 18,
   "metadata": {},
   "outputs": [
    {
     "name": "stdout",
     "output_type": "stream",
     "text": [
      "Series([], Name: VEL_UNIT, dtype: int64)\n",
      "Series([], Name: AR_REVERT, dtype: int64)\n"
     ]
    }
   ],
   "source": [
    "# inspecting items within these columns\n",
    "for col in ['VEL_UNIT', 'AR_REVERT']:\n",
    "    print(pfirm_df[col].value_counts())"
   ]
  },
  {
   "cell_type": "markdown",
   "metadata": {},
   "source": [
    "There are no values besides `None` in these columns, and we can safely drop these."
   ]
  },
  {
   "cell_type": "code",
   "execution_count": 19,
   "metadata": {},
   "outputs": [
    {
     "name": "stdout",
     "output_type": "stream",
     "text": [
      "number of columns: 15\n",
      "new number of columns: 13\n",
      "\n"
     ]
    },
    {
     "data": {
      "text/html": [
       "<div>\n",
       "<style scoped>\n",
       "    .dataframe tbody tr th:only-of-type {\n",
       "        vertical-align: middle;\n",
       "    }\n",
       "\n",
       "    .dataframe tbody tr th {\n",
       "        vertical-align: top;\n",
       "    }\n",
       "\n",
       "    .dataframe thead th {\n",
       "        text-align: right;\n",
       "    }\n",
       "</style>\n",
       "<table border=\"1\" class=\"dataframe\">\n",
       "  <thead>\n",
       "    <tr style=\"text-align: right;\">\n",
       "      <th></th>\n",
       "      <th>FLD_AR_ID</th>\n",
       "      <th>FLD_ZONE</th>\n",
       "      <th>FLOODWAY</th>\n",
       "      <th>SFHA_TF</th>\n",
       "      <th>STATIC_BFE</th>\n",
       "      <th>V_DATUM</th>\n",
       "      <th>DEPTH</th>\n",
       "      <th>LEN_UNIT</th>\n",
       "      <th>VELOCITY</th>\n",
       "      <th>BFE_REVERT</th>\n",
       "      <th>DEP_REVERT</th>\n",
       "      <th>SOURCE_CIT</th>\n",
       "      <th>geometry</th>\n",
       "    </tr>\n",
       "  </thead>\n",
       "  <tbody>\n",
       "    <tr>\n",
       "      <th>0</th>\n",
       "      <td>81</td>\n",
       "      <td>AE</td>\n",
       "      <td>None</td>\n",
       "      <td>T</td>\n",
       "      <td>13.0</td>\n",
       "      <td>NAVD88</td>\n",
       "      <td>-9999.0</td>\n",
       "      <td>FEET</td>\n",
       "      <td>-9999.0</td>\n",
       "      <td>-9999.0</td>\n",
       "      <td>-9999.0</td>\n",
       "      <td>STUDY4</td>\n",
       "      <td>POLYGON ((1032001.691 263867.839, 1032006.047 ...</td>\n",
       "    </tr>\n",
       "    <tr>\n",
       "      <th>1</th>\n",
       "      <td>82</td>\n",
       "      <td>X</td>\n",
       "      <td>None</td>\n",
       "      <td>F</td>\n",
       "      <td>-9999.0</td>\n",
       "      <td>None</td>\n",
       "      <td>-9999.0</td>\n",
       "      <td>None</td>\n",
       "      <td>-9999.0</td>\n",
       "      <td>-9999.0</td>\n",
       "      <td>-9999.0</td>\n",
       "      <td>STUDY4</td>\n",
       "      <td>POLYGON ((1033748.952 263778.464, 1033752.656 ...</td>\n",
       "    </tr>\n",
       "    <tr>\n",
       "      <th>2</th>\n",
       "      <td>83</td>\n",
       "      <td>0.2 PCT ANNUAL CHANCE FLOOD HAZARD</td>\n",
       "      <td>None</td>\n",
       "      <td>F</td>\n",
       "      <td>-9999.0</td>\n",
       "      <td>None</td>\n",
       "      <td>-9999.0</td>\n",
       "      <td>None</td>\n",
       "      <td>-9999.0</td>\n",
       "      <td>-9999.0</td>\n",
       "      <td>-9999.0</td>\n",
       "      <td>STUDY4</td>\n",
       "      <td>POLYGON ((1033309.701 263544.181, 1033322.210 ...</td>\n",
       "    </tr>\n",
       "    <tr>\n",
       "      <th>3</th>\n",
       "      <td>84</td>\n",
       "      <td>0.2 PCT ANNUAL CHANCE FLOOD HAZARD</td>\n",
       "      <td>None</td>\n",
       "      <td>F</td>\n",
       "      <td>-9999.0</td>\n",
       "      <td>None</td>\n",
       "      <td>-9999.0</td>\n",
       "      <td>None</td>\n",
       "      <td>-9999.0</td>\n",
       "      <td>-9999.0</td>\n",
       "      <td>-9999.0</td>\n",
       "      <td>STUDY4</td>\n",
       "      <td>POLYGON ((1033414.148 262658.868, 1033414.934 ...</td>\n",
       "    </tr>\n",
       "    <tr>\n",
       "      <th>4</th>\n",
       "      <td>85</td>\n",
       "      <td>0.2 PCT ANNUAL CHANCE FLOOD HAZARD</td>\n",
       "      <td>None</td>\n",
       "      <td>F</td>\n",
       "      <td>-9999.0</td>\n",
       "      <td>None</td>\n",
       "      <td>-9999.0</td>\n",
       "      <td>None</td>\n",
       "      <td>-9999.0</td>\n",
       "      <td>-9999.0</td>\n",
       "      <td>-9999.0</td>\n",
       "      <td>STUDY4</td>\n",
       "      <td>POLYGON ((1034089.115 262466.034, 1034089.402 ...</td>\n",
       "    </tr>\n",
       "  </tbody>\n",
       "</table>\n",
       "</div>"
      ],
      "text/plain": [
       "  FLD_AR_ID                            FLD_ZONE FLOODWAY SFHA_TF  STATIC_BFE  \\\n",
       "0        81                                  AE     None       T        13.0   \n",
       "1        82                                   X     None       F     -9999.0   \n",
       "2        83  0.2 PCT ANNUAL CHANCE FLOOD HAZARD     None       F     -9999.0   \n",
       "3        84  0.2 PCT ANNUAL CHANCE FLOOD HAZARD     None       F     -9999.0   \n",
       "4        85  0.2 PCT ANNUAL CHANCE FLOOD HAZARD     None       F     -9999.0   \n",
       "\n",
       "  V_DATUM   DEPTH LEN_UNIT  VELOCITY  BFE_REVERT  DEP_REVERT SOURCE_CIT  \\\n",
       "0  NAVD88 -9999.0     FEET   -9999.0     -9999.0     -9999.0     STUDY4   \n",
       "1    None -9999.0     None   -9999.0     -9999.0     -9999.0     STUDY4   \n",
       "2    None -9999.0     None   -9999.0     -9999.0     -9999.0     STUDY4   \n",
       "3    None -9999.0     None   -9999.0     -9999.0     -9999.0     STUDY4   \n",
       "4    None -9999.0     None   -9999.0     -9999.0     -9999.0     STUDY4   \n",
       "\n",
       "                                            geometry  \n",
       "0  POLYGON ((1032001.691 263867.839, 1032006.047 ...  \n",
       "1  POLYGON ((1033748.952 263778.464, 1033752.656 ...  \n",
       "2  POLYGON ((1033309.701 263544.181, 1033322.210 ...  \n",
       "3  POLYGON ((1033414.148 262658.868, 1033414.934 ...  \n",
       "4  POLYGON ((1034089.115 262466.034, 1034089.402 ...  "
      ]
     },
     "execution_count": 19,
     "metadata": {},
     "output_type": "execute_result"
    }
   ],
   "source": [
    "print('number of columns: {}'.format(pfirm_df.shape[1]))\n",
    "\n",
    "# dropping 100% null columns\n",
    "pfirm_df = pfirm_df.drop(columns=['VEL_UNIT', 'AR_REVERT'])\n",
    "print('new number of columns: {}\\n'.format(pfirm_df.shape[1]))\n",
    "\n",
    "pfirm_df.head()"
   ]
  },
  {
   "cell_type": "code",
   "execution_count": 20,
   "metadata": {},
   "outputs": [
    {
     "name": "stdout",
     "output_type": "stream",
     "text": [
      "null statistics:\n"
     ]
    },
    {
     "data": {
      "text/html": [
       "<div>\n",
       "<style scoped>\n",
       "    .dataframe tbody tr th:only-of-type {\n",
       "        vertical-align: middle;\n",
       "    }\n",
       "\n",
       "    .dataframe tbody tr th {\n",
       "        vertical-align: top;\n",
       "    }\n",
       "\n",
       "    .dataframe thead th {\n",
       "        text-align: right;\n",
       "    }\n",
       "</style>\n",
       "<table border=\"1\" class=\"dataframe\">\n",
       "  <thead>\n",
       "    <tr style=\"text-align: right;\">\n",
       "      <th></th>\n",
       "      <th>count_null</th>\n",
       "      <th>normalized</th>\n",
       "    </tr>\n",
       "  </thead>\n",
       "  <tbody>\n",
       "    <tr>\n",
       "      <th>FLOODWAY</th>\n",
       "      <td>3938</td>\n",
       "      <td>0.99</td>\n",
       "    </tr>\n",
       "    <tr>\n",
       "      <th>V_DATUM</th>\n",
       "      <td>2832</td>\n",
       "      <td>0.71</td>\n",
       "    </tr>\n",
       "    <tr>\n",
       "      <th>LEN_UNIT</th>\n",
       "      <td>2820</td>\n",
       "      <td>0.71</td>\n",
       "    </tr>\n",
       "    <tr>\n",
       "      <th>FLD_AR_ID</th>\n",
       "      <td>0</td>\n",
       "      <td>0.00</td>\n",
       "    </tr>\n",
       "    <tr>\n",
       "      <th>FLD_ZONE</th>\n",
       "      <td>0</td>\n",
       "      <td>0.00</td>\n",
       "    </tr>\n",
       "    <tr>\n",
       "      <th>SFHA_TF</th>\n",
       "      <td>0</td>\n",
       "      <td>0.00</td>\n",
       "    </tr>\n",
       "    <tr>\n",
       "      <th>STATIC_BFE</th>\n",
       "      <td>0</td>\n",
       "      <td>0.00</td>\n",
       "    </tr>\n",
       "    <tr>\n",
       "      <th>DEPTH</th>\n",
       "      <td>0</td>\n",
       "      <td>0.00</td>\n",
       "    </tr>\n",
       "    <tr>\n",
       "      <th>VELOCITY</th>\n",
       "      <td>0</td>\n",
       "      <td>0.00</td>\n",
       "    </tr>\n",
       "    <tr>\n",
       "      <th>BFE_REVERT</th>\n",
       "      <td>0</td>\n",
       "      <td>0.00</td>\n",
       "    </tr>\n",
       "    <tr>\n",
       "      <th>DEP_REVERT</th>\n",
       "      <td>0</td>\n",
       "      <td>0.00</td>\n",
       "    </tr>\n",
       "    <tr>\n",
       "      <th>SOURCE_CIT</th>\n",
       "      <td>0</td>\n",
       "      <td>0.00</td>\n",
       "    </tr>\n",
       "    <tr>\n",
       "      <th>geometry</th>\n",
       "      <td>0</td>\n",
       "      <td>0.00</td>\n",
       "    </tr>\n",
       "  </tbody>\n",
       "</table>\n",
       "</div>"
      ],
      "text/plain": [
       "            count_null  normalized\n",
       "FLOODWAY          3938        0.99\n",
       "V_DATUM           2832        0.71\n",
       "LEN_UNIT          2820        0.71\n",
       "FLD_AR_ID            0        0.00\n",
       "FLD_ZONE             0        0.00\n",
       "SFHA_TF              0        0.00\n",
       "STATIC_BFE           0        0.00\n",
       "DEPTH                0        0.00\n",
       "VELOCITY             0        0.00\n",
       "BFE_REVERT           0        0.00\n",
       "DEP_REVERT           0        0.00\n",
       "SOURCE_CIT           0        0.00\n",
       "geometry             0        0.00"
      ]
     },
     "execution_count": 20,
     "metadata": {},
     "output_type": "execute_result"
    }
   ],
   "source": [
    "# let's preview our null counts after droppping those columns\n",
    "s1 = pfirm_df.isnull().sum().sort_values(ascending=False)\n",
    "s2 = round(pfirm_df.isnull().sum().sort_values(ascending=False) / len(pfirm_df), 2)\n",
    "\n",
    "print('null statistics:')\n",
    "pd.concat([s1.rename('count_null'), s2.rename('normalized')], axis=1)"
   ]
  },
  {
   "cell_type": "code",
   "execution_count": 21,
   "metadata": {},
   "outputs": [
    {
     "name": "stdout",
     "output_type": "stream",
     "text": [
      "reviewing items in FLOODWAY column that is almost 100% null\n"
     ]
    },
    {
     "data": {
      "text/plain": [
       "NaN         3938\n",
       "FLOODWAY      47\n",
       "Name: FLOODWAY, dtype: int64"
      ]
     },
     "execution_count": 21,
     "metadata": {},
     "output_type": "execute_result"
    }
   ],
   "source": [
    "print('reviewing items in FLOODWAY column that is almost 100% null')\n",
    "pfirm_df['FLOODWAY'].value_counts(dropna=False)"
   ]
  },
  {
   "cell_type": "markdown",
   "metadata": {},
   "source": [
    "Although `FLOODWAY` is 99% null, it still has non-null values. Let's keep the column."
   ]
  },
  {
   "cell_type": "code",
   "execution_count": 22,
   "metadata": {},
   "outputs": [
    {
     "data": {
      "image/png": "[encoded data removed]",
      "text/plain": [
       "<Figure size 864x864 with 6 Axes>"
      ]
     },
     "metadata": {
      "needs_background": "light"
     },
     "output_type": "display_data"
    }
   ],
   "source": [
    "# plotting histograms of numeric columns\n",
    "pfirm_df.hist(figsize=(12,12))\n",
    "plt.tight_layout()"
   ]
  },
  {
   "cell_type": "markdown",
   "metadata": {},
   "source": [
    "There seems to be some outliers in these columns. Let's inspect them."
   ]
  },
  {
   "cell_type": "code",
   "execution_count": 23,
   "metadata": {
    "scrolled": false
   },
   "outputs": [
    {
     "name": "stdout",
     "output_type": "stream",
     "text": [
      "previewing items within each column. hopefully we'll find columns that are\n",
      "not 100% null but are still not useful for this analysis.\n",
      "\n",
      "FLD_AR_ID value counts:\n",
      "3952    0.000251\n",
      "705     0.000251\n",
      "819     0.000251\n",
      "1657    0.000251\n",
      "1771    0.000251\n",
      "Name: FLD_AR_ID, dtype: float64\n",
      "\n",
      "FLD_ZONE value counts:\n",
      "0.2 PCT ANNUAL CHANCE FLOOD HAZARD    0.433124\n",
      "AE                                    0.318444\n",
      "X                                     0.132748\n",
      "VE                                    0.105395\n",
      "A                                     0.005270\n",
      "Name: FLD_ZONE, dtype: float64\n",
      "\n",
      "FLOODWAY value counts:\n",
      "NaN         0.988206\n",
      "FLOODWAY    0.011794\n",
      "Name: FLOODWAY, dtype: float64\n",
      "\n",
      "SFHA_TF value counts:\n",
      "F    0.56788\n",
      "T    0.43212\n",
      "Name: SFHA_TF, dtype: float64\n",
      "\n",
      "STATIC_BFE value counts:\n",
      "-9999.0    0.710665\n",
      " 13.0      0.055458\n",
      " 14.0      0.038896\n",
      " 11.0      0.036888\n",
      " 12.0      0.036136\n",
      "Name: STATIC_BFE, dtype: float64\n",
      "\n",
      "V_DATUM value counts:\n",
      "NaN       0.710665\n",
      "NAVD88    0.289335\n",
      "Name: V_DATUM, dtype: float64\n",
      "\n",
      "DEPTH value counts:\n",
      "-9999.0    0.996989\n",
      " 3.0       0.001757\n",
      " 1.0       0.000753\n",
      " 2.0       0.000502\n",
      "Name: DEPTH, dtype: float64\n",
      "\n",
      "LEN_UNIT value counts:\n",
      "NaN     0.707654\n",
      "FEET    0.292346\n",
      "Name: LEN_UNIT, dtype: float64\n",
      "\n",
      "VELOCITY value counts:\n",
      "-9999.0    1.0\n",
      "Name: VELOCITY, dtype: float64\n",
      "\n",
      "BFE_REVERT value counts:\n",
      "-9999.0    1.0\n",
      "Name: BFE_REVERT, dtype: float64\n",
      "\n",
      "DEP_REVERT value counts:\n",
      "-9999.0    1.0\n",
      "Name: DEP_REVERT, dtype: float64\n",
      "\n",
      "SOURCE_CIT value counts:\n",
      "STUDY4    0.737014\n",
      "STUDY3    0.257716\n",
      "STUDY5    0.005270\n",
      "Name: SOURCE_CIT, dtype: float64\n",
      "\n"
     ]
    }
   ],
   "source": [
    "print(\"previewing items within each column. hopefully we'll \\\n",
    "find columns that are\\n\\\n",
    "not 100% null but are still not useful for this analysis.\\n\")\n",
    "\n",
    "for col in pfirm_df.columns:\n",
    "    # geometry type does not have a .value_counts() method\n",
    "    if col == 'geometry':\n",
    "        continue\n",
    "    print(col, 'value counts:')    \n",
    "    print(pfirm_df[col].value_counts(dropna=False, normalize=True).head())\n",
    "    print()"
   ]
  },
  {
   "cell_type": "markdown",
   "metadata": {},
   "source": [
    "Reviewing possible columns to drop. After reviewing items within each column, there are a few columns that have only one value as well as values that look off (e.g. -9999.0.). Let's continue to inspect these columns."
   ]
  },
  {
   "cell_type": "code",
   "execution_count": 24,
   "metadata": {},
   "outputs": [
    {
     "data": {
      "text/html": [
       "<div>\n",
       "<style scoped>\n",
       "    .dataframe tbody tr th:only-of-type {\n",
       "        vertical-align: middle;\n",
       "    }\n",
       "\n",
       "    .dataframe tbody tr th {\n",
       "        vertical-align: top;\n",
       "    }\n",
       "\n",
       "    .dataframe thead th {\n",
       "        text-align: right;\n",
       "    }\n",
       "</style>\n",
       "<table border=\"1\" class=\"dataframe\">\n",
       "  <thead>\n",
       "    <tr style=\"text-align: right;\">\n",
       "      <th></th>\n",
       "      <th>VELOCITY</th>\n",
       "      <th>BFE_REVERT</th>\n",
       "      <th>DEP_REVERT</th>\n",
       "      <th>SOURCE_CIT</th>\n",
       "    </tr>\n",
       "  </thead>\n",
       "  <tbody>\n",
       "    <tr>\n",
       "      <th>0</th>\n",
       "      <td>-9999.0</td>\n",
       "      <td>-9999.0</td>\n",
       "      <td>-9999.0</td>\n",
       "      <td>STUDY4</td>\n",
       "    </tr>\n",
       "    <tr>\n",
       "      <th>1</th>\n",
       "      <td>-9999.0</td>\n",
       "      <td>-9999.0</td>\n",
       "      <td>-9999.0</td>\n",
       "      <td>STUDY4</td>\n",
       "    </tr>\n",
       "    <tr>\n",
       "      <th>2</th>\n",
       "      <td>-9999.0</td>\n",
       "      <td>-9999.0</td>\n",
       "      <td>-9999.0</td>\n",
       "      <td>STUDY4</td>\n",
       "    </tr>\n",
       "    <tr>\n",
       "      <th>3</th>\n",
       "      <td>-9999.0</td>\n",
       "      <td>-9999.0</td>\n",
       "      <td>-9999.0</td>\n",
       "      <td>STUDY4</td>\n",
       "    </tr>\n",
       "    <tr>\n",
       "      <th>4</th>\n",
       "      <td>-9999.0</td>\n",
       "      <td>-9999.0</td>\n",
       "      <td>-9999.0</td>\n",
       "      <td>STUDY4</td>\n",
       "    </tr>\n",
       "  </tbody>\n",
       "</table>\n",
       "</div>"
      ],
      "text/plain": [
       "   VELOCITY  BFE_REVERT  DEP_REVERT SOURCE_CIT\n",
       "0   -9999.0     -9999.0     -9999.0     STUDY4\n",
       "1   -9999.0     -9999.0     -9999.0     STUDY4\n",
       "2   -9999.0     -9999.0     -9999.0     STUDY4\n",
       "3   -9999.0     -9999.0     -9999.0     STUDY4\n",
       "4   -9999.0     -9999.0     -9999.0     STUDY4"
      ]
     },
     "execution_count": 24,
     "metadata": {},
     "output_type": "execute_result"
    }
   ],
   "source": [
    "pfirm_df.iloc[:, -5:-1].head()"
   ]
  },
  {
   "cell_type": "code",
   "execution_count": 25,
   "metadata": {},
   "outputs": [
    {
     "data": {
      "text/html": [
       "<div>\n",
       "<style scoped>\n",
       "    .dataframe tbody tr th:only-of-type {\n",
       "        vertical-align: middle;\n",
       "    }\n",
       "\n",
       "    .dataframe tbody tr th {\n",
       "        vertical-align: top;\n",
       "    }\n",
       "\n",
       "    .dataframe thead th {\n",
       "        text-align: right;\n",
       "    }\n",
       "</style>\n",
       "<table border=\"1\" class=\"dataframe\">\n",
       "  <thead>\n",
       "    <tr style=\"text-align: right;\">\n",
       "      <th></th>\n",
       "      <th>VELOCITY</th>\n",
       "      <th>BFE_REVERT</th>\n",
       "      <th>DEP_REVERT</th>\n",
       "    </tr>\n",
       "  </thead>\n",
       "  <tbody>\n",
       "    <tr>\n",
       "      <th>count</th>\n",
       "      <td>3985.0</td>\n",
       "      <td>3985.0</td>\n",
       "      <td>3985.0</td>\n",
       "    </tr>\n",
       "    <tr>\n",
       "      <th>mean</th>\n",
       "      <td>-9999.0</td>\n",
       "      <td>-9999.0</td>\n",
       "      <td>-9999.0</td>\n",
       "    </tr>\n",
       "    <tr>\n",
       "      <th>std</th>\n",
       "      <td>0.0</td>\n",
       "      <td>0.0</td>\n",
       "      <td>0.0</td>\n",
       "    </tr>\n",
       "    <tr>\n",
       "      <th>min</th>\n",
       "      <td>-9999.0</td>\n",
       "      <td>-9999.0</td>\n",
       "      <td>-9999.0</td>\n",
       "    </tr>\n",
       "    <tr>\n",
       "      <th>25%</th>\n",
       "      <td>-9999.0</td>\n",
       "      <td>-9999.0</td>\n",
       "      <td>-9999.0</td>\n",
       "    </tr>\n",
       "    <tr>\n",
       "      <th>50%</th>\n",
       "      <td>-9999.0</td>\n",
       "      <td>-9999.0</td>\n",
       "      <td>-9999.0</td>\n",
       "    </tr>\n",
       "    <tr>\n",
       "      <th>75%</th>\n",
       "      <td>-9999.0</td>\n",
       "      <td>-9999.0</td>\n",
       "      <td>-9999.0</td>\n",
       "    </tr>\n",
       "    <tr>\n",
       "      <th>max</th>\n",
       "      <td>-9999.0</td>\n",
       "      <td>-9999.0</td>\n",
       "      <td>-9999.0</td>\n",
       "    </tr>\n",
       "  </tbody>\n",
       "</table>\n",
       "</div>"
      ],
      "text/plain": [
       "       VELOCITY  BFE_REVERT  DEP_REVERT\n",
       "count    3985.0      3985.0      3985.0\n",
       "mean    -9999.0     -9999.0     -9999.0\n",
       "std         0.0         0.0         0.0\n",
       "min     -9999.0     -9999.0     -9999.0\n",
       "25%     -9999.0     -9999.0     -9999.0\n",
       "50%     -9999.0     -9999.0     -9999.0\n",
       "75%     -9999.0     -9999.0     -9999.0\n",
       "max     -9999.0     -9999.0     -9999.0"
      ]
     },
     "execution_count": 25,
     "metadata": {},
     "output_type": "execute_result"
    }
   ],
   "source": [
    "# summary statistics of possible columns to drop\n",
    "pfirm_df.iloc[:, -5:-1].describe()"
   ]
  },
  {
   "cell_type": "markdown",
   "metadata": {},
   "source": [
    "these columns don't appear to be useful in this analysis, so I'll drop them."
   ]
  },
  {
   "cell_type": "code",
   "execution_count": 26,
   "metadata": {},
   "outputs": [
    {
     "name": "stdout",
     "output_type": "stream",
     "text": [
      "number of initial columns: 13\n",
      "columns to drop: ['VELOCITY', 'BFE_REVERT', 'DEP_REVERT', 'SOURCE_CIT']\n",
      "number of new columns: 9\n"
     ]
    },
    {
     "data": {
      "text/html": [
       "<div>\n",
       "<style scoped>\n",
       "    .dataframe tbody tr th:only-of-type {\n",
       "        vertical-align: middle;\n",
       "    }\n",
       "\n",
       "    .dataframe tbody tr th {\n",
       "        vertical-align: top;\n",
       "    }\n",
       "\n",
       "    .dataframe thead th {\n",
       "        text-align: right;\n",
       "    }\n",
       "</style>\n",
       "<table border=\"1\" class=\"dataframe\">\n",
       "  <thead>\n",
       "    <tr style=\"text-align: right;\">\n",
       "      <th></th>\n",
       "      <th>FLD_AR_ID</th>\n",
       "      <th>FLD_ZONE</th>\n",
       "      <th>FLOODWAY</th>\n",
       "      <th>SFHA_TF</th>\n",
       "      <th>STATIC_BFE</th>\n",
       "      <th>V_DATUM</th>\n",
       "      <th>DEPTH</th>\n",
       "      <th>LEN_UNIT</th>\n",
       "      <th>geometry</th>\n",
       "    </tr>\n",
       "  </thead>\n",
       "  <tbody>\n",
       "    <tr>\n",
       "      <th>0</th>\n",
       "      <td>81</td>\n",
       "      <td>AE</td>\n",
       "      <td>None</td>\n",
       "      <td>T</td>\n",
       "      <td>13.0</td>\n",
       "      <td>NAVD88</td>\n",
       "      <td>-9999.0</td>\n",
       "      <td>FEET</td>\n",
       "      <td>POLYGON ((1032001.691 263867.839, 1032006.047 ...</td>\n",
       "    </tr>\n",
       "    <tr>\n",
       "      <th>1</th>\n",
       "      <td>82</td>\n",
       "      <td>X</td>\n",
       "      <td>None</td>\n",
       "      <td>F</td>\n",
       "      <td>-9999.0</td>\n",
       "      <td>None</td>\n",
       "      <td>-9999.0</td>\n",
       "      <td>None</td>\n",
       "      <td>POLYGON ((1033748.952 263778.464, 1033752.656 ...</td>\n",
       "    </tr>\n",
       "    <tr>\n",
       "      <th>2</th>\n",
       "      <td>83</td>\n",
       "      <td>0.2 PCT ANNUAL CHANCE FLOOD HAZARD</td>\n",
       "      <td>None</td>\n",
       "      <td>F</td>\n",
       "      <td>-9999.0</td>\n",
       "      <td>None</td>\n",
       "      <td>-9999.0</td>\n",
       "      <td>None</td>\n",
       "      <td>POLYGON ((1033309.701 263544.181, 1033322.210 ...</td>\n",
       "    </tr>\n",
       "    <tr>\n",
       "      <th>3</th>\n",
       "      <td>84</td>\n",
       "      <td>0.2 PCT ANNUAL CHANCE FLOOD HAZARD</td>\n",
       "      <td>None</td>\n",
       "      <td>F</td>\n",
       "      <td>-9999.0</td>\n",
       "      <td>None</td>\n",
       "      <td>-9999.0</td>\n",
       "      <td>None</td>\n",
       "      <td>POLYGON ((1033414.148 262658.868, 1033414.934 ...</td>\n",
       "    </tr>\n",
       "    <tr>\n",
       "      <th>4</th>\n",
       "      <td>85</td>\n",
       "      <td>0.2 PCT ANNUAL CHANCE FLOOD HAZARD</td>\n",
       "      <td>None</td>\n",
       "      <td>F</td>\n",
       "      <td>-9999.0</td>\n",
       "      <td>None</td>\n",
       "      <td>-9999.0</td>\n",
       "      <td>None</td>\n",
       "      <td>POLYGON ((1034089.115 262466.034, 1034089.402 ...</td>\n",
       "    </tr>\n",
       "  </tbody>\n",
       "</table>\n",
       "</div>"
      ],
      "text/plain": [
       "  FLD_AR_ID                            FLD_ZONE FLOODWAY SFHA_TF  STATIC_BFE  \\\n",
       "0        81                                  AE     None       T        13.0   \n",
       "1        82                                   X     None       F     -9999.0   \n",
       "2        83  0.2 PCT ANNUAL CHANCE FLOOD HAZARD     None       F     -9999.0   \n",
       "3        84  0.2 PCT ANNUAL CHANCE FLOOD HAZARD     None       F     -9999.0   \n",
       "4        85  0.2 PCT ANNUAL CHANCE FLOOD HAZARD     None       F     -9999.0   \n",
       "\n",
       "  V_DATUM   DEPTH LEN_UNIT                                           geometry  \n",
       "0  NAVD88 -9999.0     FEET  POLYGON ((1032001.691 263867.839, 1032006.047 ...  \n",
       "1    None -9999.0     None  POLYGON ((1033748.952 263778.464, 1033752.656 ...  \n",
       "2    None -9999.0     None  POLYGON ((1033309.701 263544.181, 1033322.210 ...  \n",
       "3    None -9999.0     None  POLYGON ((1033414.148 262658.868, 1033414.934 ...  \n",
       "4    None -9999.0     None  POLYGON ((1034089.115 262466.034, 1034089.402 ...  "
      ]
     },
     "execution_count": 26,
     "metadata": {},
     "output_type": "execute_result"
    }
   ],
   "source": [
    "print('number of initial columns: {}'.format(pfirm_df.shape[1]))\n",
    "\n",
    "col_drop = pfirm_df.iloc[:, -5:-1].columns\n",
    "print('columns to drop:', col_drop.to_list())\n",
    "\n",
    "pfirm_df = pfirm_df.drop(columns=col_drop)\n",
    "print('number of new columns: {}'.format(pfirm_df.shape[1]))\n",
    "\n",
    "pfirm_df.head()"
   ]
  },
  {
   "cell_type": "markdown",
   "metadata": {},
   "source": [
    "Let's continue inspecting our data"
   ]
  },
  {
   "cell_type": "code",
   "execution_count": 27,
   "metadata": {},
   "outputs": [
    {
     "name": "stdout",
     "output_type": "stream",
     "text": [
      "<class 'geopandas.geodataframe.GeoDataFrame'>\n",
      "RangeIndex: 3985 entries, 0 to 3984\n",
      "Data columns (total 9 columns):\n",
      " #   Column      Non-Null Count  Dtype   \n",
      "---  ------      --------------  -----   \n",
      " 0   FLD_AR_ID   3985 non-null   object  \n",
      " 1   FLD_ZONE    3985 non-null   object  \n",
      " 2   FLOODWAY    47 non-null     object  \n",
      " 3   SFHA_TF     3985 non-null   object  \n",
      " 4   STATIC_BFE  3985 non-null   float64 \n",
      " 5   V_DATUM     1153 non-null   object  \n",
      " 6   DEPTH       3985 non-null   float64 \n",
      " 7   LEN_UNIT    1165 non-null   object  \n",
      " 8   geometry    3985 non-null   geometry\n",
      "dtypes: float64(2), geometry(1), object(6)\n",
      "memory usage: 280.3+ KB\n"
     ]
    }
   ],
   "source": [
    "# inspecting our data\n",
    "pfirm_df.info()"
   ]
  },
  {
   "cell_type": "code",
   "execution_count": 28,
   "metadata": {},
   "outputs": [
    {
     "name": "stdout",
     "output_type": "stream",
     "text": [
      "null statistics:\n"
     ]
    },
    {
     "data": {
      "text/html": [
       "<div>\n",
       "<style scoped>\n",
       "    .dataframe tbody tr th:only-of-type {\n",
       "        vertical-align: middle;\n",
       "    }\n",
       "\n",
       "    .dataframe tbody tr th {\n",
       "        vertical-align: top;\n",
       "    }\n",
       "\n",
       "    .dataframe thead th {\n",
       "        text-align: right;\n",
       "    }\n",
       "</style>\n",
       "<table border=\"1\" class=\"dataframe\">\n",
       "  <thead>\n",
       "    <tr style=\"text-align: right;\">\n",
       "      <th></th>\n",
       "      <th>count_null</th>\n",
       "      <th>normalized</th>\n",
       "    </tr>\n",
       "  </thead>\n",
       "  <tbody>\n",
       "    <tr>\n",
       "      <th>FLOODWAY</th>\n",
       "      <td>3938</td>\n",
       "      <td>0.99</td>\n",
       "    </tr>\n",
       "    <tr>\n",
       "      <th>V_DATUM</th>\n",
       "      <td>2832</td>\n",
       "      <td>0.71</td>\n",
       "    </tr>\n",
       "    <tr>\n",
       "      <th>LEN_UNIT</th>\n",
       "      <td>2820</td>\n",
       "      <td>0.71</td>\n",
       "    </tr>\n",
       "    <tr>\n",
       "      <th>FLD_AR_ID</th>\n",
       "      <td>0</td>\n",
       "      <td>0.00</td>\n",
       "    </tr>\n",
       "    <tr>\n",
       "      <th>FLD_ZONE</th>\n",
       "      <td>0</td>\n",
       "      <td>0.00</td>\n",
       "    </tr>\n",
       "    <tr>\n",
       "      <th>SFHA_TF</th>\n",
       "      <td>0</td>\n",
       "      <td>0.00</td>\n",
       "    </tr>\n",
       "    <tr>\n",
       "      <th>STATIC_BFE</th>\n",
       "      <td>0</td>\n",
       "      <td>0.00</td>\n",
       "    </tr>\n",
       "    <tr>\n",
       "      <th>DEPTH</th>\n",
       "      <td>0</td>\n",
       "      <td>0.00</td>\n",
       "    </tr>\n",
       "    <tr>\n",
       "      <th>geometry</th>\n",
       "      <td>0</td>\n",
       "      <td>0.00</td>\n",
       "    </tr>\n",
       "  </tbody>\n",
       "</table>\n",
       "</div>"
      ],
      "text/plain": [
       "            count_null  normalized\n",
       "FLOODWAY          3938        0.99\n",
       "V_DATUM           2832        0.71\n",
       "LEN_UNIT          2820        0.71\n",
       "FLD_AR_ID            0        0.00\n",
       "FLD_ZONE             0        0.00\n",
       "SFHA_TF              0        0.00\n",
       "STATIC_BFE           0        0.00\n",
       "DEPTH                0        0.00\n",
       "geometry             0        0.00"
      ]
     },
     "execution_count": 28,
     "metadata": {},
     "output_type": "execute_result"
    }
   ],
   "source": [
    "s1 = pfirm_df.isnull().sum().sort_values(ascending=False)\n",
    "s2 = round(pfirm_df.isnull().sum().sort_values(ascending=False) / len(pfirm_df), 2)\n",
    "\n",
    "print('null statistics:')\n",
    "pd.concat([s1.rename('count_null'), s2.rename('normalized')], axis=1)"
   ]
  },
  {
   "cell_type": "markdown",
   "metadata": {},
   "source": [
    "We've inspecting most of our columns, and even dropped some that didn't have any values stored in them. We did see wierd values such as -9999, but for now, let's turn our attention to our geometry column."
   ]
  },
  {
   "cell_type": "markdown",
   "metadata": {},
   "source": [
    "## 2.3 Inspecting our geometry column"
   ]
  },
  {
   "cell_type": "markdown",
   "metadata": {},
   "source": [
    "Lastly, let's inspect our geometry column, which is a type provided by the shapefile (.shp) format."
   ]
  },
  {
   "cell_type": "code",
   "execution_count": 29,
   "metadata": {},
   "outputs": [
    {
     "name": "stdout",
     "output_type": "stream",
     "text": [
      "reviewing geometry column:\n"
     ]
    },
    {
     "data": {
      "text/html": [
       "<div>\n",
       "<style scoped>\n",
       "    .dataframe tbody tr th:only-of-type {\n",
       "        vertical-align: middle;\n",
       "    }\n",
       "\n",
       "    .dataframe tbody tr th {\n",
       "        vertical-align: top;\n",
       "    }\n",
       "\n",
       "    .dataframe thead th {\n",
       "        text-align: right;\n",
       "    }\n",
       "</style>\n",
       "<table border=\"1\" class=\"dataframe\">\n",
       "  <thead>\n",
       "    <tr style=\"text-align: right;\">\n",
       "      <th></th>\n",
       "      <th>geometry</th>\n",
       "    </tr>\n",
       "  </thead>\n",
       "  <tbody>\n",
       "    <tr>\n",
       "      <th>0</th>\n",
       "      <td>POLYGON ((1032001.691 263867.839, 1032006.047 ...</td>\n",
       "    </tr>\n",
       "    <tr>\n",
       "      <th>1</th>\n",
       "      <td>POLYGON ((1033748.952 263778.464, 1033752.656 ...</td>\n",
       "    </tr>\n",
       "    <tr>\n",
       "      <th>2</th>\n",
       "      <td>POLYGON ((1033309.701 263544.181, 1033322.210 ...</td>\n",
       "    </tr>\n",
       "    <tr>\n",
       "      <th>3</th>\n",
       "      <td>POLYGON ((1033414.148 262658.868, 1033414.934 ...</td>\n",
       "    </tr>\n",
       "    <tr>\n",
       "      <th>4</th>\n",
       "      <td>POLYGON ((1034089.115 262466.034, 1034089.402 ...</td>\n",
       "    </tr>\n",
       "  </tbody>\n",
       "</table>\n",
       "</div>"
      ],
      "text/plain": [
       "                                            geometry\n",
       "0  POLYGON ((1032001.691 263867.839, 1032006.047 ...\n",
       "1  POLYGON ((1033748.952 263778.464, 1033752.656 ...\n",
       "2  POLYGON ((1033309.701 263544.181, 1033322.210 ...\n",
       "3  POLYGON ((1033414.148 262658.868, 1033414.934 ...\n",
       "4  POLYGON ((1034089.115 262466.034, 1034089.402 ..."
      ]
     },
     "execution_count": 29,
     "metadata": {},
     "output_type": "execute_result"
    }
   ],
   "source": [
    "print('reviewing geometry column:')\n",
    "pfirm_df[['geometry']].head()"
   ]
  },
  {
   "cell_type": "code",
   "execution_count": 30,
   "metadata": {},
   "outputs": [
    {
     "name": "stdout",
     "output_type": "stream",
     "text": [
      "<class 'geopandas.geodataframe.GeoDataFrame'>\n",
      "RangeIndex: 3985 entries, 0 to 3984\n",
      "Data columns (total 1 columns):\n",
      " #   Column    Non-Null Count  Dtype   \n",
      "---  ------    --------------  -----   \n",
      " 0   geometry  3985 non-null   geometry\n",
      "dtypes: geometry(1)\n",
      "memory usage: 31.3 KB\n"
     ]
    }
   ],
   "source": [
    "pfirm_df[['geometry']].info()"
   ]
  },
  {
   "cell_type": "code",
   "execution_count": 31,
   "metadata": {},
   "outputs": [
    {
     "name": "stdout",
     "output_type": "stream",
     "text": [
      "reviewing the geometry's coordinate referance system (CRS).\n"
     ]
    },
    {
     "data": {
      "text/plain": [
       "<Projected CRS: EPSG:2263>\n",
       "Name: NAD83 / New York Long Island (ftUS)\n",
       "Axis Info [cartesian]:\n",
       "- X[east]: Easting (US survey foot)\n",
       "- Y[north]: Northing (US survey foot)\n",
       "Area of Use:\n",
       "- name: USA - New York - SPCS - Long Island\n",
       "- bounds: (-74.26, 40.47, -71.8, 41.3)\n",
       "Coordinate Operation:\n",
       "- name: SPCS83 New York Long Island zone (US Survey feet)\n",
       "- method: Lambert Conic Conformal (2SP)\n",
       "Datum: North American Datum 1983\n",
       "- Ellipsoid: GRS 1980\n",
       "- Prime Meridian: Greenwich"
      ]
     },
     "execution_count": 31,
     "metadata": {},
     "output_type": "execute_result"
    }
   ],
   "source": [
    "print(\"reviewing the geometry's coordinate referance system (CRS).\")\n",
    "pfirm_df.crs"
   ]
  },
  {
   "cell_type": "markdown",
   "metadata": {},
   "source": [
    "From the `.crs` attribute above, our geometry's CRS is *NAD83 / New York Long Island (ftUS)* - code 2263.\n",
    "Our units are in feet."
   ]
  },
  {
   "cell_type": "code",
   "execution_count": 32,
   "metadata": {},
   "outputs": [
    {
     "data": {
      "text/plain": [
       "NAVD88    1153\n",
       "Name: V_DATUM, dtype: int64"
      ]
     },
     "execution_count": 32,
     "metadata": {},
     "output_type": "execute_result"
    }
   ],
   "source": [
    "# looking at the values in the V_DATUM column\n",
    "pfirm_df['V_DATUM'].value_counts()"
   ]
  },
  {
   "cell_type": "markdown",
   "metadata": {},
   "source": [
    "We could potentially drop this column and just record the vertical datum on the page, but this does provide useful information. Let's keep it."
   ]
  },
  {
   "cell_type": "code",
   "execution_count": 33,
   "metadata": {},
   "outputs": [
    {
     "name": "stdout",
     "output_type": "stream",
     "text": [
      "the vertical datum for this geometry is: NAVD88.\n"
     ]
    }
   ],
   "source": [
    "v_datum = pfirm_df['V_DATUM'].value_counts().index[0]\n",
    "\n",
    "print('the vertical datum for this geometry is: {}.'.format(v_datum))"
   ]
  },
  {
   "cell_type": "markdown",
   "metadata": {},
   "source": [
    "There's a lot of useful information stored in our geometry column, but for now, let's continue and inspect our flood zone values."
   ]
  },
  {
   "cell_type": "markdown",
   "metadata": {},
   "source": [
    "# 3. Inspecting flood zones and static base flood elevation values"
   ]
  },
  {
   "cell_type": "code",
   "execution_count": 34,
   "metadata": {},
   "outputs": [
    {
     "name": "stdout",
     "output_type": "stream",
     "text": [
      "reviewing items in the FLD_ZONE column:\n"
     ]
    },
    {
     "data": {
      "text/plain": [
       "0.2 PCT ANNUAL CHANCE FLOOD HAZARD    1726\n",
       "AE                                    1269\n",
       "X                                      529\n",
       "VE                                     420\n",
       "A                                       21\n",
       "AO                                      12\n",
       "OPEN WATER                               8\n",
       "Name: FLD_ZONE, dtype: int64"
      ]
     },
     "execution_count": 34,
     "metadata": {},
     "output_type": "execute_result"
    }
   ],
   "source": [
    "print('reviewing items in the FLD_ZONE column:')\n",
    "\n",
    "pfirm_df['FLD_ZONE'].value_counts()"
   ]
  },
  {
   "cell_type": "code",
   "execution_count": 35,
   "metadata": {},
   "outputs": [
    {
     "name": "stdout",
     "output_type": "stream",
     "text": [
      "the unique values in our flood zone column are:\n",
      "\n",
      "['AE' 'X' '0.2 PCT ANNUAL CHANCE FLOOD HAZARD' 'VE' 'OPEN WATER' 'AO' 'A']\n"
     ]
    }
   ],
   "source": [
    "zone_vals = pfirm_df['FLD_ZONE'].unique()\n",
    "\n",
    "print('the unique values in our flood zone column are:\\n\\n{}'.format(zone_vals))"
   ]
  },
  {
   "cell_type": "markdown",
   "metadata": {},
   "source": [
    "From a quick glance, we can probably drop the `OPEN WATER` value, as this is probably only the outline of a water boundary. Additionally, zone 'X' doesn't tell us any information about flood zones."
   ]
  },
  {
   "cell_type": "code",
   "execution_count": 36,
   "metadata": {},
   "outputs": [
    {
     "data": {
      "image/png": "[encoded data removed]",
      "text/plain": [
       "<Figure size 720x720 with 2 Axes>"
      ]
     },
     "metadata": {
      "needs_background": "light"
     },
     "output_type": "display_data"
    }
   ],
   "source": [
    "zone_checks = ['OPEN WATER', 'X']\n",
    "\n",
    "fig, axs = plt.subplots(2, 1, figsize=(10,10))\n",
    "\n",
    "for zone, ax in zip(zone_checks, axs):\n",
    "    pfirm_df[pfirm_df['FLD_ZONE'].isin([zone])].plot(ax=ax)\n",
    "    ax.set_title('FLD_ZONE = {}.'.format(zone))"
   ]
  },
  {
   "cell_type": "markdown",
   "metadata": {},
   "source": [
    "Let's look at some summary statistics."
   ]
  },
  {
   "cell_type": "code",
   "execution_count": 37,
   "metadata": {},
   "outputs": [
    {
     "name": "stdout",
     "output_type": "stream",
     "text": [
      "reviewing summary statistics for base flood elevations by flood zone:\n"
     ]
    },
    {
     "data": {
      "text/html": [
       "<div>\n",
       "<style scoped>\n",
       "    .dataframe tbody tr th:only-of-type {\n",
       "        vertical-align: middle;\n",
       "    }\n",
       "\n",
       "    .dataframe tbody tr th {\n",
       "        vertical-align: top;\n",
       "    }\n",
       "\n",
       "    .dataframe thead th {\n",
       "        text-align: right;\n",
       "    }\n",
       "</style>\n",
       "<table border=\"1\" class=\"dataframe\">\n",
       "  <thead>\n",
       "    <tr style=\"text-align: right;\">\n",
       "      <th></th>\n",
       "      <th>count</th>\n",
       "      <th>mean</th>\n",
       "      <th>std</th>\n",
       "      <th>min</th>\n",
       "      <th>25%</th>\n",
       "      <th>50%</th>\n",
       "      <th>75%</th>\n",
       "      <th>max</th>\n",
       "    </tr>\n",
       "    <tr>\n",
       "      <th>FLD_ZONE</th>\n",
       "      <th></th>\n",
       "      <th></th>\n",
       "      <th></th>\n",
       "      <th></th>\n",
       "      <th></th>\n",
       "      <th></th>\n",
       "      <th></th>\n",
       "      <th></th>\n",
       "    </tr>\n",
       "  </thead>\n",
       "  <tbody>\n",
       "    <tr>\n",
       "      <th>0.2 PCT ANNUAL CHANCE FLOOD HAZARD</th>\n",
       "      <td>1726.0</td>\n",
       "      <td>-9999.000000</td>\n",
       "      <td>0.000000</td>\n",
       "      <td>-9999.0</td>\n",
       "      <td>-9999.0</td>\n",
       "      <td>-9999.0</td>\n",
       "      <td>-9999.0</td>\n",
       "      <td>-9999.0</td>\n",
       "    </tr>\n",
       "    <tr>\n",
       "      <th>A</th>\n",
       "      <td>21.0</td>\n",
       "      <td>-9999.000000</td>\n",
       "      <td>0.000000</td>\n",
       "      <td>-9999.0</td>\n",
       "      <td>-9999.0</td>\n",
       "      <td>-9999.0</td>\n",
       "      <td>-9999.0</td>\n",
       "      <td>-9999.0</td>\n",
       "    </tr>\n",
       "    <tr>\n",
       "      <th>AE</th>\n",
       "      <td>1269.0</td>\n",
       "      <td>-4216.189125</td>\n",
       "      <td>4946.985064</td>\n",
       "      <td>-9999.0</td>\n",
       "      <td>-9999.0</td>\n",
       "      <td>10.0</td>\n",
       "      <td>13.0</td>\n",
       "      <td>23.0</td>\n",
       "    </tr>\n",
       "    <tr>\n",
       "      <th>AO</th>\n",
       "      <td>12.0</td>\n",
       "      <td>-9999.000000</td>\n",
       "      <td>0.000000</td>\n",
       "      <td>-9999.0</td>\n",
       "      <td>-9999.0</td>\n",
       "      <td>-9999.0</td>\n",
       "      <td>-9999.0</td>\n",
       "      <td>-9999.0</td>\n",
       "    </tr>\n",
       "    <tr>\n",
       "      <th>OPEN WATER</th>\n",
       "      <td>8.0</td>\n",
       "      <td>-9999.000000</td>\n",
       "      <td>0.000000</td>\n",
       "      <td>-9999.0</td>\n",
       "      <td>-9999.0</td>\n",
       "      <td>-9999.0</td>\n",
       "      <td>-9999.0</td>\n",
       "      <td>-9999.0</td>\n",
       "    </tr>\n",
       "    <tr>\n",
       "      <th>VE</th>\n",
       "      <td>420.0</td>\n",
       "      <td>16.133333</td>\n",
       "      <td>3.126045</td>\n",
       "      <td>11.0</td>\n",
       "      <td>14.0</td>\n",
       "      <td>16.0</td>\n",
       "      <td>17.0</td>\n",
       "      <td>34.0</td>\n",
       "    </tr>\n",
       "    <tr>\n",
       "      <th>X</th>\n",
       "      <td>529.0</td>\n",
       "      <td>-9999.000000</td>\n",
       "      <td>0.000000</td>\n",
       "      <td>-9999.0</td>\n",
       "      <td>-9999.0</td>\n",
       "      <td>-9999.0</td>\n",
       "      <td>-9999.0</td>\n",
       "      <td>-9999.0</td>\n",
       "    </tr>\n",
       "  </tbody>\n",
       "</table>\n",
       "</div>"
      ],
      "text/plain": [
       "                                     count         mean          std     min  \\\n",
       "FLD_ZONE                                                                       \n",
       "0.2 PCT ANNUAL CHANCE FLOOD HAZARD  1726.0 -9999.000000     0.000000 -9999.0   \n",
       "A                                     21.0 -9999.000000     0.000000 -9999.0   \n",
       "AE                                  1269.0 -4216.189125  4946.985064 -9999.0   \n",
       "AO                                    12.0 -9999.000000     0.000000 -9999.0   \n",
       "OPEN WATER                             8.0 -9999.000000     0.000000 -9999.0   \n",
       "VE                                   420.0    16.133333     3.126045    11.0   \n",
       "X                                    529.0 -9999.000000     0.000000 -9999.0   \n",
       "\n",
       "                                       25%     50%     75%     max  \n",
       "FLD_ZONE                                                            \n",
       "0.2 PCT ANNUAL CHANCE FLOOD HAZARD -9999.0 -9999.0 -9999.0 -9999.0  \n",
       "A                                  -9999.0 -9999.0 -9999.0 -9999.0  \n",
       "AE                                 -9999.0    10.0    13.0    23.0  \n",
       "AO                                 -9999.0 -9999.0 -9999.0 -9999.0  \n",
       "OPEN WATER                         -9999.0 -9999.0 -9999.0 -9999.0  \n",
       "VE                                    14.0    16.0    17.0    34.0  \n",
       "X                                  -9999.0 -9999.0 -9999.0 -9999.0  "
      ]
     },
     "execution_count": 37,
     "metadata": {},
     "output_type": "execute_result"
    }
   ],
   "source": [
    "print('reviewing summary statistics for base flood elevations by flood zone:')\n",
    "\n",
    "pfirm_df.groupby(by=['FLD_ZONE'])['STATIC_BFE'].describe()"
   ]
  },
  {
   "cell_type": "code",
   "execution_count": 38,
   "metadata": {},
   "outputs": [
    {
     "data": {
      "text/html": [
       "<div>\n",
       "<style scoped>\n",
       "    .dataframe tbody tr th:only-of-type {\n",
       "        vertical-align: middle;\n",
       "    }\n",
       "\n",
       "    .dataframe tbody tr th {\n",
       "        vertical-align: top;\n",
       "    }\n",
       "\n",
       "    .dataframe thead th {\n",
       "        text-align: right;\n",
       "    }\n",
       "</style>\n",
       "<table border=\"1\" class=\"dataframe\">\n",
       "  <thead>\n",
       "    <tr style=\"text-align: right;\">\n",
       "      <th></th>\n",
       "      <th>count</th>\n",
       "      <th>mean</th>\n",
       "      <th>std</th>\n",
       "      <th>min</th>\n",
       "      <th>25%</th>\n",
       "      <th>50%</th>\n",
       "      <th>75%</th>\n",
       "      <th>max</th>\n",
       "    </tr>\n",
       "    <tr>\n",
       "      <th>FLD_ZONE</th>\n",
       "      <th></th>\n",
       "      <th></th>\n",
       "      <th></th>\n",
       "      <th></th>\n",
       "      <th></th>\n",
       "      <th></th>\n",
       "      <th></th>\n",
       "      <th></th>\n",
       "    </tr>\n",
       "  </thead>\n",
       "  <tbody>\n",
       "    <tr>\n",
       "      <th>AE</th>\n",
       "      <td>1269.0</td>\n",
       "      <td>-4216.189125</td>\n",
       "      <td>4946.985064</td>\n",
       "      <td>-9999.0</td>\n",
       "      <td>-9999.0</td>\n",
       "      <td>10.0</td>\n",
       "      <td>13.0</td>\n",
       "      <td>23.0</td>\n",
       "    </tr>\n",
       "    <tr>\n",
       "      <th>VE</th>\n",
       "      <td>420.0</td>\n",
       "      <td>16.133333</td>\n",
       "      <td>3.126045</td>\n",
       "      <td>11.0</td>\n",
       "      <td>14.0</td>\n",
       "      <td>16.0</td>\n",
       "      <td>17.0</td>\n",
       "      <td>34.0</td>\n",
       "    </tr>\n",
       "  </tbody>\n",
       "</table>\n",
       "</div>"
      ],
      "text/plain": [
       "           count         mean          std     min     25%   50%   75%   max\n",
       "FLD_ZONE                                                                    \n",
       "AE        1269.0 -4216.189125  4946.985064 -9999.0 -9999.0  10.0  13.0  23.0\n",
       "VE         420.0    16.133333     3.126045    11.0    14.0  16.0  17.0  34.0"
      ]
     },
     "execution_count": 38,
     "metadata": {},
     "output_type": "execute_result"
    }
   ],
   "source": [
    "# zones with base flood elevations\n",
    "bfe_df = pfirm_df.groupby(by=['FLD_ZONE'])['STATIC_BFE'].describe()\n",
    "bfe_df[bfe_df['max'] > 0]"
   ]
  },
  {
   "cell_type": "code",
   "execution_count": 39,
   "metadata": {},
   "outputs": [
    {
     "name": "stdout",
     "output_type": "stream",
     "text": [
      "zones ['AE', 'VE'] are the only zones that have static base flood elevations.\n"
     ]
    }
   ],
   "source": [
    "zones = bfe_df[bfe_df['max'] > 0].index.to_list()\n",
    "\n",
    "print('zones {} are the only zones that have static base flood elevations.'.format(zones))"
   ]
  },
  {
   "cell_type": "markdown",
   "metadata": {},
   "source": [
    "The null placeholder of -9999 will be problematic in the future. We will want to replace these with nulls."
   ]
  },
  {
   "cell_type": "code",
   "execution_count": 40,
   "metadata": {},
   "outputs": [
    {
     "name": "stdout",
     "output_type": "stream",
     "text": [
      "reviewing summary statistics for depth elevations by flood zone:\n"
     ]
    },
    {
     "data": {
      "text/html": [
       "<div>\n",
       "<style scoped>\n",
       "    .dataframe tbody tr th:only-of-type {\n",
       "        vertical-align: middle;\n",
       "    }\n",
       "\n",
       "    .dataframe tbody tr th {\n",
       "        vertical-align: top;\n",
       "    }\n",
       "\n",
       "    .dataframe thead th {\n",
       "        text-align: right;\n",
       "    }\n",
       "</style>\n",
       "<table border=\"1\" class=\"dataframe\">\n",
       "  <thead>\n",
       "    <tr style=\"text-align: right;\">\n",
       "      <th></th>\n",
       "      <th>count</th>\n",
       "      <th>mean</th>\n",
       "      <th>std</th>\n",
       "      <th>min</th>\n",
       "      <th>25%</th>\n",
       "      <th>50%</th>\n",
       "      <th>75%</th>\n",
       "      <th>max</th>\n",
       "    </tr>\n",
       "    <tr>\n",
       "      <th>FLD_ZONE</th>\n",
       "      <th></th>\n",
       "      <th></th>\n",
       "      <th></th>\n",
       "      <th></th>\n",
       "      <th></th>\n",
       "      <th></th>\n",
       "      <th></th>\n",
       "      <th></th>\n",
       "    </tr>\n",
       "  </thead>\n",
       "  <tbody>\n",
       "    <tr>\n",
       "      <th>0.2 PCT ANNUAL CHANCE FLOOD HAZARD</th>\n",
       "      <td>1726.0</td>\n",
       "      <td>-9999.000000</td>\n",
       "      <td>0.000000</td>\n",
       "      <td>-9999.0</td>\n",
       "      <td>-9999.00</td>\n",
       "      <td>-9999.0</td>\n",
       "      <td>-9999.0</td>\n",
       "      <td>-9999.0</td>\n",
       "    </tr>\n",
       "    <tr>\n",
       "      <th>A</th>\n",
       "      <td>21.0</td>\n",
       "      <td>-9999.000000</td>\n",
       "      <td>0.000000</td>\n",
       "      <td>-9999.0</td>\n",
       "      <td>-9999.00</td>\n",
       "      <td>-9999.0</td>\n",
       "      <td>-9999.0</td>\n",
       "      <td>-9999.0</td>\n",
       "    </tr>\n",
       "    <tr>\n",
       "      <th>AE</th>\n",
       "      <td>1269.0</td>\n",
       "      <td>-9999.000000</td>\n",
       "      <td>0.000000</td>\n",
       "      <td>-9999.0</td>\n",
       "      <td>-9999.00</td>\n",
       "      <td>-9999.0</td>\n",
       "      <td>-9999.0</td>\n",
       "      <td>-9999.0</td>\n",
       "    </tr>\n",
       "    <tr>\n",
       "      <th>AO</th>\n",
       "      <td>12.0</td>\n",
       "      <td>2.333333</td>\n",
       "      <td>0.887625</td>\n",
       "      <td>1.0</td>\n",
       "      <td>1.75</td>\n",
       "      <td>3.0</td>\n",
       "      <td>3.0</td>\n",
       "      <td>3.0</td>\n",
       "    </tr>\n",
       "    <tr>\n",
       "      <th>OPEN WATER</th>\n",
       "      <td>8.0</td>\n",
       "      <td>-9999.000000</td>\n",
       "      <td>0.000000</td>\n",
       "      <td>-9999.0</td>\n",
       "      <td>-9999.00</td>\n",
       "      <td>-9999.0</td>\n",
       "      <td>-9999.0</td>\n",
       "      <td>-9999.0</td>\n",
       "    </tr>\n",
       "    <tr>\n",
       "      <th>VE</th>\n",
       "      <td>420.0</td>\n",
       "      <td>-9999.000000</td>\n",
       "      <td>0.000000</td>\n",
       "      <td>-9999.0</td>\n",
       "      <td>-9999.00</td>\n",
       "      <td>-9999.0</td>\n",
       "      <td>-9999.0</td>\n",
       "      <td>-9999.0</td>\n",
       "    </tr>\n",
       "    <tr>\n",
       "      <th>X</th>\n",
       "      <td>529.0</td>\n",
       "      <td>-9999.000000</td>\n",
       "      <td>0.000000</td>\n",
       "      <td>-9999.0</td>\n",
       "      <td>-9999.00</td>\n",
       "      <td>-9999.0</td>\n",
       "      <td>-9999.0</td>\n",
       "      <td>-9999.0</td>\n",
       "    </tr>\n",
       "  </tbody>\n",
       "</table>\n",
       "</div>"
      ],
      "text/plain": [
       "                                     count         mean       std     min  \\\n",
       "FLD_ZONE                                                                    \n",
       "0.2 PCT ANNUAL CHANCE FLOOD HAZARD  1726.0 -9999.000000  0.000000 -9999.0   \n",
       "A                                     21.0 -9999.000000  0.000000 -9999.0   \n",
       "AE                                  1269.0 -9999.000000  0.000000 -9999.0   \n",
       "AO                                    12.0     2.333333  0.887625     1.0   \n",
       "OPEN WATER                             8.0 -9999.000000  0.000000 -9999.0   \n",
       "VE                                   420.0 -9999.000000  0.000000 -9999.0   \n",
       "X                                    529.0 -9999.000000  0.000000 -9999.0   \n",
       "\n",
       "                                        25%     50%     75%     max  \n",
       "FLD_ZONE                                                             \n",
       "0.2 PCT ANNUAL CHANCE FLOOD HAZARD -9999.00 -9999.0 -9999.0 -9999.0  \n",
       "A                                  -9999.00 -9999.0 -9999.0 -9999.0  \n",
       "AE                                 -9999.00 -9999.0 -9999.0 -9999.0  \n",
       "AO                                     1.75     3.0     3.0     3.0  \n",
       "OPEN WATER                         -9999.00 -9999.0 -9999.0 -9999.0  \n",
       "VE                                 -9999.00 -9999.0 -9999.0 -9999.0  \n",
       "X                                  -9999.00 -9999.0 -9999.0 -9999.0  "
      ]
     },
     "execution_count": 40,
     "metadata": {},
     "output_type": "execute_result"
    }
   ],
   "source": [
    "print('reviewing summary statistics for depth elevations by flood zone:')\n",
    "\n",
    "pfirm_df.groupby(by=['FLD_ZONE'])['DEPTH'].describe()"
   ]
  },
  {
   "cell_type": "code",
   "execution_count": 41,
   "metadata": {},
   "outputs": [
    {
     "data": {
      "text/html": [
       "<div>\n",
       "<style scoped>\n",
       "    .dataframe tbody tr th:only-of-type {\n",
       "        vertical-align: middle;\n",
       "    }\n",
       "\n",
       "    .dataframe tbody tr th {\n",
       "        vertical-align: top;\n",
       "    }\n",
       "\n",
       "    .dataframe thead th {\n",
       "        text-align: right;\n",
       "    }\n",
       "</style>\n",
       "<table border=\"1\" class=\"dataframe\">\n",
       "  <thead>\n",
       "    <tr style=\"text-align: right;\">\n",
       "      <th></th>\n",
       "      <th>count</th>\n",
       "      <th>mean</th>\n",
       "      <th>std</th>\n",
       "      <th>min</th>\n",
       "      <th>25%</th>\n",
       "      <th>50%</th>\n",
       "      <th>75%</th>\n",
       "      <th>max</th>\n",
       "    </tr>\n",
       "    <tr>\n",
       "      <th>FLD_ZONE</th>\n",
       "      <th></th>\n",
       "      <th></th>\n",
       "      <th></th>\n",
       "      <th></th>\n",
       "      <th></th>\n",
       "      <th></th>\n",
       "      <th></th>\n",
       "      <th></th>\n",
       "    </tr>\n",
       "  </thead>\n",
       "  <tbody>\n",
       "    <tr>\n",
       "      <th>AO</th>\n",
       "      <td>12.0</td>\n",
       "      <td>2.333333</td>\n",
       "      <td>0.887625</td>\n",
       "      <td>1.0</td>\n",
       "      <td>1.75</td>\n",
       "      <td>3.0</td>\n",
       "      <td>3.0</td>\n",
       "      <td>3.0</td>\n",
       "    </tr>\n",
       "  </tbody>\n",
       "</table>\n",
       "</div>"
      ],
      "text/plain": [
       "          count      mean       std  min   25%  50%  75%  max\n",
       "FLD_ZONE                                                     \n",
       "AO         12.0  2.333333  0.887625  1.0  1.75  3.0  3.0  3.0"
      ]
     },
     "execution_count": 41,
     "metadata": {},
     "output_type": "execute_result"
    }
   ],
   "source": [
    "# zones with base flood elevations\n",
    "depths_df = pfirm_df.groupby(by=['FLD_ZONE'])['DEPTH'].describe()\n",
    "depths_df[depths_df['max'] > 0]"
   ]
  },
  {
   "cell_type": "code",
   "execution_count": 42,
   "metadata": {},
   "outputs": [
    {
     "name": "stdout",
     "output_type": "stream",
     "text": [
      "zone ['AO'] is the only zone that has a depth elevation.\n"
     ]
    }
   ],
   "source": [
    "depths = depths_df[depths_df['max'] > 0].index.to_list()\n",
    "\n",
    "print('zone {} is the only zone that has a depth elevation.'.format(depths))"
   ]
  },
  {
   "cell_type": "code",
   "execution_count": 43,
   "metadata": {},
   "outputs": [
    {
     "data": {
      "text/html": [
       "<div>\n",
       "<style scoped>\n",
       "    .dataframe tbody tr th:only-of-type {\n",
       "        vertical-align: middle;\n",
       "    }\n",
       "\n",
       "    .dataframe tbody tr th {\n",
       "        vertical-align: top;\n",
       "    }\n",
       "\n",
       "    .dataframe thead th {\n",
       "        text-align: right;\n",
       "    }\n",
       "</style>\n",
       "<table border=\"1\" class=\"dataframe\">\n",
       "  <thead>\n",
       "    <tr style=\"text-align: right;\">\n",
       "      <th></th>\n",
       "      <th></th>\n",
       "      <th>count</th>\n",
       "      <th>mean</th>\n",
       "      <th>std</th>\n",
       "      <th>min</th>\n",
       "      <th>25%</th>\n",
       "      <th>50%</th>\n",
       "      <th>75%</th>\n",
       "      <th>max</th>\n",
       "    </tr>\n",
       "    <tr>\n",
       "      <th>SFHA_TF</th>\n",
       "      <th>FLD_ZONE</th>\n",
       "      <th></th>\n",
       "      <th></th>\n",
       "      <th></th>\n",
       "      <th></th>\n",
       "      <th></th>\n",
       "      <th></th>\n",
       "      <th></th>\n",
       "      <th></th>\n",
       "    </tr>\n",
       "  </thead>\n",
       "  <tbody>\n",
       "    <tr>\n",
       "      <th rowspan=\"4\" valign=\"top\">T</th>\n",
       "      <th>A</th>\n",
       "      <td>21.0</td>\n",
       "      <td>-9999.000000</td>\n",
       "      <td>0.000000</td>\n",
       "      <td>-9999.0</td>\n",
       "      <td>-9999.0</td>\n",
       "      <td>-9999.0</td>\n",
       "      <td>-9999.0</td>\n",
       "      <td>-9999.0</td>\n",
       "    </tr>\n",
       "    <tr>\n",
       "      <th>AE</th>\n",
       "      <td>1269.0</td>\n",
       "      <td>-4216.189125</td>\n",
       "      <td>4946.985064</td>\n",
       "      <td>-9999.0</td>\n",
       "      <td>-9999.0</td>\n",
       "      <td>10.0</td>\n",
       "      <td>13.0</td>\n",
       "      <td>23.0</td>\n",
       "    </tr>\n",
       "    <tr>\n",
       "      <th>AO</th>\n",
       "      <td>12.0</td>\n",
       "      <td>-9999.000000</td>\n",
       "      <td>0.000000</td>\n",
       "      <td>-9999.0</td>\n",
       "      <td>-9999.0</td>\n",
       "      <td>-9999.0</td>\n",
       "      <td>-9999.0</td>\n",
       "      <td>-9999.0</td>\n",
       "    </tr>\n",
       "    <tr>\n",
       "      <th>VE</th>\n",
       "      <td>420.0</td>\n",
       "      <td>16.133333</td>\n",
       "      <td>3.126045</td>\n",
       "      <td>11.0</td>\n",
       "      <td>14.0</td>\n",
       "      <td>16.0</td>\n",
       "      <td>17.0</td>\n",
       "      <td>34.0</td>\n",
       "    </tr>\n",
       "    <tr>\n",
       "      <th rowspan=\"3\" valign=\"top\">F</th>\n",
       "      <th>0.2 PCT ANNUAL CHANCE FLOOD HAZARD</th>\n",
       "      <td>1726.0</td>\n",
       "      <td>-9999.000000</td>\n",
       "      <td>0.000000</td>\n",
       "      <td>-9999.0</td>\n",
       "      <td>-9999.0</td>\n",
       "      <td>-9999.0</td>\n",
       "      <td>-9999.0</td>\n",
       "      <td>-9999.0</td>\n",
       "    </tr>\n",
       "    <tr>\n",
       "      <th>OPEN WATER</th>\n",
       "      <td>8.0</td>\n",
       "      <td>-9999.000000</td>\n",
       "      <td>0.000000</td>\n",
       "      <td>-9999.0</td>\n",
       "      <td>-9999.0</td>\n",
       "      <td>-9999.0</td>\n",
       "      <td>-9999.0</td>\n",
       "      <td>-9999.0</td>\n",
       "    </tr>\n",
       "    <tr>\n",
       "      <th>X</th>\n",
       "      <td>529.0</td>\n",
       "      <td>-9999.000000</td>\n",
       "      <td>0.000000</td>\n",
       "      <td>-9999.0</td>\n",
       "      <td>-9999.0</td>\n",
       "      <td>-9999.0</td>\n",
       "      <td>-9999.0</td>\n",
       "      <td>-9999.0</td>\n",
       "    </tr>\n",
       "  </tbody>\n",
       "</table>\n",
       "</div>"
      ],
      "text/plain": [
       "                                             count         mean          std  \\\n",
       "SFHA_TF FLD_ZONE                                                               \n",
       "T       A                                     21.0 -9999.000000     0.000000   \n",
       "        AE                                  1269.0 -4216.189125  4946.985064   \n",
       "        AO                                    12.0 -9999.000000     0.000000   \n",
       "        VE                                   420.0    16.133333     3.126045   \n",
       "F       0.2 PCT ANNUAL CHANCE FLOOD HAZARD  1726.0 -9999.000000     0.000000   \n",
       "        OPEN WATER                             8.0 -9999.000000     0.000000   \n",
       "        X                                    529.0 -9999.000000     0.000000   \n",
       "\n",
       "                                               min     25%     50%     75%  \\\n",
       "SFHA_TF FLD_ZONE                                                             \n",
       "T       A                                  -9999.0 -9999.0 -9999.0 -9999.0   \n",
       "        AE                                 -9999.0 -9999.0    10.0    13.0   \n",
       "        AO                                 -9999.0 -9999.0 -9999.0 -9999.0   \n",
       "        VE                                    11.0    14.0    16.0    17.0   \n",
       "F       0.2 PCT ANNUAL CHANCE FLOOD HAZARD -9999.0 -9999.0 -9999.0 -9999.0   \n",
       "        OPEN WATER                         -9999.0 -9999.0 -9999.0 -9999.0   \n",
       "        X                                  -9999.0 -9999.0 -9999.0 -9999.0   \n",
       "\n",
       "                                               max  \n",
       "SFHA_TF FLD_ZONE                                    \n",
       "T       A                                  -9999.0  \n",
       "        AE                                    23.0  \n",
       "        AO                                 -9999.0  \n",
       "        VE                                    34.0  \n",
       "F       0.2 PCT ANNUAL CHANCE FLOOD HAZARD -9999.0  \n",
       "        OPEN WATER                         -9999.0  \n",
       "        X                                  -9999.0  "
      ]
     },
     "execution_count": 43,
     "metadata": {},
     "output_type": "execute_result"
    }
   ],
   "source": [
    "sfha_df = pfirm_df.groupby(by=['SFHA_TF', 'FLD_ZONE'])['STATIC_BFE'].describe()\n",
    "\n",
    "sfha_df.sort_values(by='SFHA_TF', ascending=False)"
   ]
  },
  {
   "cell_type": "markdown",
   "metadata": {},
   "source": [
    "Although zones A & AO don't have base flood elevations, they are inside the special flood hazard area (SFHA). Thus, we can not drop them. \n",
    "\n",
    "\n",
    "`T` stands for **True** and `F` stands for **False**."
   ]
  },
  {
   "cell_type": "markdown",
   "metadata": {},
   "source": [
    "## 3.1 Replacing -9999 values with null"
   ]
  },
  {
   "cell_type": "markdown",
   "metadata": {},
   "source": [
    "It seems to be that this dataset represents null values for certain numeric columns as -9999. Let's see what the values are if we exclude these values."
   ]
  },
  {
   "cell_type": "code",
   "execution_count": 44,
   "metadata": {},
   "outputs": [
    {
     "data": {
      "text/html": [
       "<div>\n",
       "<style scoped>\n",
       "    .dataframe tbody tr th:only-of-type {\n",
       "        vertical-align: middle;\n",
       "    }\n",
       "\n",
       "    .dataframe tbody tr th {\n",
       "        vertical-align: top;\n",
       "    }\n",
       "\n",
       "    .dataframe thead th {\n",
       "        text-align: right;\n",
       "    }\n",
       "</style>\n",
       "<table border=\"1\" class=\"dataframe\">\n",
       "  <thead>\n",
       "    <tr style=\"text-align: right;\">\n",
       "      <th></th>\n",
       "      <th>STATIC_BFE</th>\n",
       "    </tr>\n",
       "  </thead>\n",
       "  <tbody>\n",
       "    <tr>\n",
       "      <th>count</th>\n",
       "      <td>1153.000000</td>\n",
       "    </tr>\n",
       "    <tr>\n",
       "      <th>mean</th>\n",
       "      <td>13.786644</td>\n",
       "    </tr>\n",
       "    <tr>\n",
       "      <th>std</th>\n",
       "      <td>2.996455</td>\n",
       "    </tr>\n",
       "    <tr>\n",
       "      <th>min</th>\n",
       "      <td>8.000000</td>\n",
       "    </tr>\n",
       "    <tr>\n",
       "      <th>25%</th>\n",
       "      <td>12.000000</td>\n",
       "    </tr>\n",
       "    <tr>\n",
       "      <th>50%</th>\n",
       "      <td>13.000000</td>\n",
       "    </tr>\n",
       "    <tr>\n",
       "      <th>75%</th>\n",
       "      <td>15.000000</td>\n",
       "    </tr>\n",
       "    <tr>\n",
       "      <th>max</th>\n",
       "      <td>34.000000</td>\n",
       "    </tr>\n",
       "  </tbody>\n",
       "</table>\n",
       "</div>"
      ],
      "text/plain": [
       "        STATIC_BFE\n",
       "count  1153.000000\n",
       "mean     13.786644\n",
       "std       2.996455\n",
       "min       8.000000\n",
       "25%      12.000000\n",
       "50%      13.000000\n",
       "75%      15.000000\n",
       "max      34.000000"
      ]
     },
     "execution_count": 44,
     "metadata": {},
     "output_type": "execute_result"
    }
   ],
   "source": [
    "pfirm_df.loc[pfirm_df['STATIC_BFE'] > -9999][['STATIC_BFE']].describe()"
   ]
  },
  {
   "cell_type": "markdown",
   "metadata": {},
   "source": [
    "Those values look much better and are probably the real statistics of our static base flood elevation column. For this analysis, we can safely replace the -9999.0 values with nulls. Let's first track our replacement process."
   ]
  },
  {
   "cell_type": "code",
   "execution_count": 45,
   "metadata": {},
   "outputs": [
    {
     "name": "stdout",
     "output_type": "stream",
     "text": [
      "there are 2,832 values with null placeholders of -9999 for STATIC_BFE that need to be replaced with nulls.\n"
     ]
    }
   ],
   "source": [
    "null_length = len(pfirm_df.loc[pfirm_df['STATIC_BFE'] <= -9999])\n",
    "\n",
    "print('there are {:,} values with null placeholders of -9999 for STATIC_BFE that \\\n",
    "need to be replaced with nulls.'.format(null_length))"
   ]
  },
  {
   "cell_type": "code",
   "execution_count": 46,
   "metadata": {},
   "outputs": [
    {
     "name": "stdout",
     "output_type": "stream",
     "text": [
      "null statistics:\n",
      "total nulls in dataframe: 9,590.\n"
     ]
    },
    {
     "data": {
      "text/html": [
       "<div>\n",
       "<style scoped>\n",
       "    .dataframe tbody tr th:only-of-type {\n",
       "        vertical-align: middle;\n",
       "    }\n",
       "\n",
       "    .dataframe tbody tr th {\n",
       "        vertical-align: top;\n",
       "    }\n",
       "\n",
       "    .dataframe thead th {\n",
       "        text-align: right;\n",
       "    }\n",
       "</style>\n",
       "<table border=\"1\" class=\"dataframe\">\n",
       "  <thead>\n",
       "    <tr style=\"text-align: right;\">\n",
       "      <th></th>\n",
       "      <th>count_null</th>\n",
       "      <th>normalized</th>\n",
       "    </tr>\n",
       "  </thead>\n",
       "  <tbody>\n",
       "    <tr>\n",
       "      <th>FLOODWAY</th>\n",
       "      <td>3938</td>\n",
       "      <td>0.988</td>\n",
       "    </tr>\n",
       "    <tr>\n",
       "      <th>V_DATUM</th>\n",
       "      <td>2832</td>\n",
       "      <td>0.711</td>\n",
       "    </tr>\n",
       "    <tr>\n",
       "      <th>LEN_UNIT</th>\n",
       "      <td>2820</td>\n",
       "      <td>0.708</td>\n",
       "    </tr>\n",
       "    <tr>\n",
       "      <th>FLD_AR_ID</th>\n",
       "      <td>0</td>\n",
       "      <td>0.000</td>\n",
       "    </tr>\n",
       "    <tr>\n",
       "      <th>FLD_ZONE</th>\n",
       "      <td>0</td>\n",
       "      <td>0.000</td>\n",
       "    </tr>\n",
       "    <tr>\n",
       "      <th>SFHA_TF</th>\n",
       "      <td>0</td>\n",
       "      <td>0.000</td>\n",
       "    </tr>\n",
       "    <tr>\n",
       "      <th>STATIC_BFE</th>\n",
       "      <td>0</td>\n",
       "      <td>0.000</td>\n",
       "    </tr>\n",
       "    <tr>\n",
       "      <th>DEPTH</th>\n",
       "      <td>0</td>\n",
       "      <td>0.000</td>\n",
       "    </tr>\n",
       "    <tr>\n",
       "      <th>geometry</th>\n",
       "      <td>0</td>\n",
       "      <td>0.000</td>\n",
       "    </tr>\n",
       "  </tbody>\n",
       "</table>\n",
       "</div>"
      ],
      "text/plain": [
       "            count_null  normalized\n",
       "FLOODWAY          3938       0.988\n",
       "V_DATUM           2832       0.711\n",
       "LEN_UNIT          2820       0.708\n",
       "FLD_AR_ID            0       0.000\n",
       "FLD_ZONE             0       0.000\n",
       "SFHA_TF              0       0.000\n",
       "STATIC_BFE           0       0.000\n",
       "DEPTH                0       0.000\n",
       "geometry             0       0.000"
      ]
     },
     "execution_count": 46,
     "metadata": {},
     "output_type": "execute_result"
    }
   ],
   "source": [
    "s1 = pfirm_df.isnull().sum().sort_values(ascending=False)\n",
    "s2 = round(pfirm_df.isnull().sum().sort_values(ascending=False) / len(pfirm_df), 3)\n",
    "\n",
    "print('null statistics:')\n",
    "print('total nulls in dataframe: {:,}.'.format(s1.sum()))\n",
    "\n",
    "before_replace_df = pd.concat([s1.rename('count_null'), s2.rename('normalized')], axis=1)\n",
    "before_replace_df.head(len(before_replace_df))"
   ]
  },
  {
   "cell_type": "code",
   "execution_count": 47,
   "metadata": {},
   "outputs": [
    {
     "name": "stdout",
     "output_type": "stream",
     "text": [
      "replacing incorrectly inserted values (e.g. -9999) with nans.\n"
     ]
    },
    {
     "data": {
      "text/html": [
       "<div>\n",
       "<style scoped>\n",
       "    .dataframe tbody tr th:only-of-type {\n",
       "        vertical-align: middle;\n",
       "    }\n",
       "\n",
       "    .dataframe tbody tr th {\n",
       "        vertical-align: top;\n",
       "    }\n",
       "\n",
       "    .dataframe thead th {\n",
       "        text-align: right;\n",
       "    }\n",
       "</style>\n",
       "<table border=\"1\" class=\"dataframe\">\n",
       "  <thead>\n",
       "    <tr style=\"text-align: right;\">\n",
       "      <th></th>\n",
       "      <th>STATIC_BFE</th>\n",
       "      <th>DEPTH</th>\n",
       "    </tr>\n",
       "  </thead>\n",
       "  <tbody>\n",
       "    <tr>\n",
       "      <th>count</th>\n",
       "      <td>1153.000000</td>\n",
       "      <td>12.000000</td>\n",
       "    </tr>\n",
       "    <tr>\n",
       "      <th>mean</th>\n",
       "      <td>13.786644</td>\n",
       "      <td>2.333333</td>\n",
       "    </tr>\n",
       "    <tr>\n",
       "      <th>std</th>\n",
       "      <td>2.996455</td>\n",
       "      <td>0.887625</td>\n",
       "    </tr>\n",
       "    <tr>\n",
       "      <th>min</th>\n",
       "      <td>8.000000</td>\n",
       "      <td>1.000000</td>\n",
       "    </tr>\n",
       "    <tr>\n",
       "      <th>25%</th>\n",
       "      <td>12.000000</td>\n",
       "      <td>1.750000</td>\n",
       "    </tr>\n",
       "    <tr>\n",
       "      <th>50%</th>\n",
       "      <td>13.000000</td>\n",
       "      <td>3.000000</td>\n",
       "    </tr>\n",
       "    <tr>\n",
       "      <th>75%</th>\n",
       "      <td>15.000000</td>\n",
       "      <td>3.000000</td>\n",
       "    </tr>\n",
       "    <tr>\n",
       "      <th>max</th>\n",
       "      <td>34.000000</td>\n",
       "      <td>3.000000</td>\n",
       "    </tr>\n",
       "  </tbody>\n",
       "</table>\n",
       "</div>"
      ],
      "text/plain": [
       "        STATIC_BFE      DEPTH\n",
       "count  1153.000000  12.000000\n",
       "mean     13.786644   2.333333\n",
       "std       2.996455   0.887625\n",
       "min       8.000000   1.000000\n",
       "25%      12.000000   1.750000\n",
       "50%      13.000000   3.000000\n",
       "75%      15.000000   3.000000\n",
       "max      34.000000   3.000000"
      ]
     },
     "execution_count": 47,
     "metadata": {},
     "output_type": "execute_result"
    }
   ],
   "source": [
    "print('replacing incorrectly inserted values (e.g. -9999) with nans.')\n",
    "\n",
    "for col in ['STATIC_BFE', 'DEPTH']:\n",
    "    \n",
    "    # if our column value is less than -1, replace with nan, else keep column value\n",
    "    pfirm_df[col] = np.where(pfirm_df[col] < -1, np.nan, pfirm_df[col])\n",
    "    \n",
    "pfirm_df.describe()    "
   ]
  },
  {
   "cell_type": "code",
   "execution_count": 48,
   "metadata": {},
   "outputs": [
    {
     "name": "stdout",
     "output_type": "stream",
     "text": [
      "null statistics:\n",
      "total nulls in dataframe: 16,395.\n"
     ]
    },
    {
     "data": {
      "text/html": [
       "<div>\n",
       "<style scoped>\n",
       "    .dataframe tbody tr th:only-of-type {\n",
       "        vertical-align: middle;\n",
       "    }\n",
       "\n",
       "    .dataframe tbody tr th {\n",
       "        vertical-align: top;\n",
       "    }\n",
       "\n",
       "    .dataframe thead th {\n",
       "        text-align: right;\n",
       "    }\n",
       "</style>\n",
       "<table border=\"1\" class=\"dataframe\">\n",
       "  <thead>\n",
       "    <tr style=\"text-align: right;\">\n",
       "      <th></th>\n",
       "      <th>count_null</th>\n",
       "      <th>normalized</th>\n",
       "    </tr>\n",
       "  </thead>\n",
       "  <tbody>\n",
       "    <tr>\n",
       "      <th>DEPTH</th>\n",
       "      <td>3973</td>\n",
       "      <td>0.997</td>\n",
       "    </tr>\n",
       "    <tr>\n",
       "      <th>FLOODWAY</th>\n",
       "      <td>3938</td>\n",
       "      <td>0.988</td>\n",
       "    </tr>\n",
       "    <tr>\n",
       "      <th>STATIC_BFE</th>\n",
       "      <td>2832</td>\n",
       "      <td>0.711</td>\n",
       "    </tr>\n",
       "    <tr>\n",
       "      <th>V_DATUM</th>\n",
       "      <td>2832</td>\n",
       "      <td>0.711</td>\n",
       "    </tr>\n",
       "    <tr>\n",
       "      <th>LEN_UNIT</th>\n",
       "      <td>2820</td>\n",
       "      <td>0.708</td>\n",
       "    </tr>\n",
       "    <tr>\n",
       "      <th>FLD_AR_ID</th>\n",
       "      <td>0</td>\n",
       "      <td>0.000</td>\n",
       "    </tr>\n",
       "    <tr>\n",
       "      <th>FLD_ZONE</th>\n",
       "      <td>0</td>\n",
       "      <td>0.000</td>\n",
       "    </tr>\n",
       "    <tr>\n",
       "      <th>SFHA_TF</th>\n",
       "      <td>0</td>\n",
       "      <td>0.000</td>\n",
       "    </tr>\n",
       "    <tr>\n",
       "      <th>geometry</th>\n",
       "      <td>0</td>\n",
       "      <td>0.000</td>\n",
       "    </tr>\n",
       "  </tbody>\n",
       "</table>\n",
       "</div>"
      ],
      "text/plain": [
       "            count_null  normalized\n",
       "DEPTH             3973       0.997\n",
       "FLOODWAY          3938       0.988\n",
       "STATIC_BFE        2832       0.711\n",
       "V_DATUM           2832       0.711\n",
       "LEN_UNIT          2820       0.708\n",
       "FLD_AR_ID            0       0.000\n",
       "FLD_ZONE             0       0.000\n",
       "SFHA_TF              0       0.000\n",
       "geometry             0       0.000"
      ]
     },
     "execution_count": 48,
     "metadata": {},
     "output_type": "execute_result"
    }
   ],
   "source": [
    "s1 = pfirm_df.isnull().sum().sort_values(ascending=False)\n",
    "s2 = round(pfirm_df.isnull().sum().sort_values(ascending=False) / len(pfirm_df), 3)\n",
    "\n",
    "print('null statistics:')\n",
    "print('total nulls in dataframe: {:,}.'.format(s1.sum()))\n",
    "\n",
    "after_replace_df = pd.concat([s1.rename('count_null'), s2.rename('normalized')], axis=1)\n",
    "after_replace_df.head(len(after_replace_df))"
   ]
  },
  {
   "cell_type": "code",
   "execution_count": 49,
   "metadata": {},
   "outputs": [
    {
     "data": {
      "text/html": [
       "<div>\n",
       "<style scoped>\n",
       "    .dataframe tbody tr th:only-of-type {\n",
       "        vertical-align: middle;\n",
       "    }\n",
       "\n",
       "    .dataframe tbody tr th {\n",
       "        vertical-align: top;\n",
       "    }\n",
       "\n",
       "    .dataframe thead th {\n",
       "        text-align: right;\n",
       "    }\n",
       "</style>\n",
       "<table border=\"1\" class=\"dataframe\">\n",
       "  <thead>\n",
       "    <tr style=\"text-align: right;\">\n",
       "      <th></th>\n",
       "      <th>count_null</th>\n",
       "      <th>normalized</th>\n",
       "      <th>count_after</th>\n",
       "      <th>normalized_after</th>\n",
       "    </tr>\n",
       "  </thead>\n",
       "  <tbody>\n",
       "    <tr>\n",
       "      <th>FLOODWAY</th>\n",
       "      <td>3938</td>\n",
       "      <td>0.988</td>\n",
       "      <td>3938</td>\n",
       "      <td>0.988</td>\n",
       "    </tr>\n",
       "    <tr>\n",
       "      <th>V_DATUM</th>\n",
       "      <td>2832</td>\n",
       "      <td>0.711</td>\n",
       "      <td>2832</td>\n",
       "      <td>0.711</td>\n",
       "    </tr>\n",
       "    <tr>\n",
       "      <th>LEN_UNIT</th>\n",
       "      <td>2820</td>\n",
       "      <td>0.708</td>\n",
       "      <td>2820</td>\n",
       "      <td>0.708</td>\n",
       "    </tr>\n",
       "    <tr>\n",
       "      <th>FLD_AR_ID</th>\n",
       "      <td>0</td>\n",
       "      <td>0.000</td>\n",
       "      <td>0</td>\n",
       "      <td>0.000</td>\n",
       "    </tr>\n",
       "    <tr>\n",
       "      <th>FLD_ZONE</th>\n",
       "      <td>0</td>\n",
       "      <td>0.000</td>\n",
       "      <td>0</td>\n",
       "      <td>0.000</td>\n",
       "    </tr>\n",
       "    <tr>\n",
       "      <th>SFHA_TF</th>\n",
       "      <td>0</td>\n",
       "      <td>0.000</td>\n",
       "      <td>0</td>\n",
       "      <td>0.000</td>\n",
       "    </tr>\n",
       "    <tr>\n",
       "      <th>STATIC_BFE</th>\n",
       "      <td>0</td>\n",
       "      <td>0.000</td>\n",
       "      <td>2832</td>\n",
       "      <td>0.711</td>\n",
       "    </tr>\n",
       "    <tr>\n",
       "      <th>DEPTH</th>\n",
       "      <td>0</td>\n",
       "      <td>0.000</td>\n",
       "      <td>3973</td>\n",
       "      <td>0.997</td>\n",
       "    </tr>\n",
       "    <tr>\n",
       "      <th>geometry</th>\n",
       "      <td>0</td>\n",
       "      <td>0.000</td>\n",
       "      <td>0</td>\n",
       "      <td>0.000</td>\n",
       "    </tr>\n",
       "  </tbody>\n",
       "</table>\n",
       "</div>"
      ],
      "text/plain": [
       "            count_null  normalized  count_after  normalized_after\n",
       "FLOODWAY          3938       0.988         3938             0.988\n",
       "V_DATUM           2832       0.711         2832             0.711\n",
       "LEN_UNIT          2820       0.708         2820             0.708\n",
       "FLD_AR_ID            0       0.000            0             0.000\n",
       "FLD_ZONE             0       0.000            0             0.000\n",
       "SFHA_TF              0       0.000            0             0.000\n",
       "STATIC_BFE           0       0.000         2832             0.711\n",
       "DEPTH                0       0.000         3973             0.997\n",
       "geometry             0       0.000            0             0.000"
      ]
     },
     "execution_count": 49,
     "metadata": {},
     "output_type": "execute_result"
    }
   ],
   "source": [
    "pd.concat([before_replace_df, \n",
    "           after_replace_df.rename(columns={'count_null':'count_after', \n",
    "                                            'normalized':'normalized_after'})], axis=1)"
   ]
  },
  {
   "cell_type": "markdown",
   "metadata": {},
   "source": [
    "You can see that both columns static_bfe and depth have a significant amount of null values after replacing -9999 with null."
   ]
  },
  {
   "cell_type": "markdown",
   "metadata": {},
   "source": [
    "## 3.2 Reviewing summary statistics by flood zone after filling  in nulls"
   ]
  },
  {
   "cell_type": "code",
   "execution_count": 50,
   "metadata": {},
   "outputs": [
    {
     "name": "stdout",
     "output_type": "stream",
     "text": [
      "reviewing summary statistics for static base flood elevations by flood zone:\n"
     ]
    },
    {
     "data": {
      "text/html": [
       "<div>\n",
       "<style scoped>\n",
       "    .dataframe tbody tr th:only-of-type {\n",
       "        vertical-align: middle;\n",
       "    }\n",
       "\n",
       "    .dataframe tbody tr th {\n",
       "        vertical-align: top;\n",
       "    }\n",
       "\n",
       "    .dataframe thead th {\n",
       "        text-align: right;\n",
       "    }\n",
       "</style>\n",
       "<table border=\"1\" class=\"dataframe\">\n",
       "  <thead>\n",
       "    <tr style=\"text-align: right;\">\n",
       "      <th></th>\n",
       "      <th>count</th>\n",
       "      <th>mean</th>\n",
       "      <th>std</th>\n",
       "      <th>min</th>\n",
       "      <th>25%</th>\n",
       "      <th>50%</th>\n",
       "      <th>75%</th>\n",
       "      <th>max</th>\n",
       "    </tr>\n",
       "    <tr>\n",
       "      <th>FLD_ZONE</th>\n",
       "      <th></th>\n",
       "      <th></th>\n",
       "      <th></th>\n",
       "      <th></th>\n",
       "      <th></th>\n",
       "      <th></th>\n",
       "      <th></th>\n",
       "      <th></th>\n",
       "    </tr>\n",
       "  </thead>\n",
       "  <tbody>\n",
       "    <tr>\n",
       "      <th>0.2 PCT ANNUAL CHANCE FLOOD HAZARD</th>\n",
       "      <td>0.0</td>\n",
       "      <td>NaN</td>\n",
       "      <td>NaN</td>\n",
       "      <td>NaN</td>\n",
       "      <td>NaN</td>\n",
       "      <td>NaN</td>\n",
       "      <td>NaN</td>\n",
       "      <td>NaN</td>\n",
       "    </tr>\n",
       "    <tr>\n",
       "      <th>A</th>\n",
       "      <td>0.0</td>\n",
       "      <td>NaN</td>\n",
       "      <td>NaN</td>\n",
       "      <td>NaN</td>\n",
       "      <td>NaN</td>\n",
       "      <td>NaN</td>\n",
       "      <td>NaN</td>\n",
       "      <td>NaN</td>\n",
       "    </tr>\n",
       "    <tr>\n",
       "      <th>AE</th>\n",
       "      <td>733.0</td>\n",
       "      <td>12.442019</td>\n",
       "      <td>1.888557</td>\n",
       "      <td>8.0</td>\n",
       "      <td>11.0</td>\n",
       "      <td>12.0</td>\n",
       "      <td>14.0</td>\n",
       "      <td>23.0</td>\n",
       "    </tr>\n",
       "    <tr>\n",
       "      <th>AO</th>\n",
       "      <td>0.0</td>\n",
       "      <td>NaN</td>\n",
       "      <td>NaN</td>\n",
       "      <td>NaN</td>\n",
       "      <td>NaN</td>\n",
       "      <td>NaN</td>\n",
       "      <td>NaN</td>\n",
       "      <td>NaN</td>\n",
       "    </tr>\n",
       "    <tr>\n",
       "      <th>OPEN WATER</th>\n",
       "      <td>0.0</td>\n",
       "      <td>NaN</td>\n",
       "      <td>NaN</td>\n",
       "      <td>NaN</td>\n",
       "      <td>NaN</td>\n",
       "      <td>NaN</td>\n",
       "      <td>NaN</td>\n",
       "      <td>NaN</td>\n",
       "    </tr>\n",
       "    <tr>\n",
       "      <th>VE</th>\n",
       "      <td>420.0</td>\n",
       "      <td>16.133333</td>\n",
       "      <td>3.126045</td>\n",
       "      <td>11.0</td>\n",
       "      <td>14.0</td>\n",
       "      <td>16.0</td>\n",
       "      <td>17.0</td>\n",
       "      <td>34.0</td>\n",
       "    </tr>\n",
       "    <tr>\n",
       "      <th>X</th>\n",
       "      <td>0.0</td>\n",
       "      <td>NaN</td>\n",
       "      <td>NaN</td>\n",
       "      <td>NaN</td>\n",
       "      <td>NaN</td>\n",
       "      <td>NaN</td>\n",
       "      <td>NaN</td>\n",
       "      <td>NaN</td>\n",
       "    </tr>\n",
       "  </tbody>\n",
       "</table>\n",
       "</div>"
      ],
      "text/plain": [
       "                                    count       mean       std   min   25%  \\\n",
       "FLD_ZONE                                                                     \n",
       "0.2 PCT ANNUAL CHANCE FLOOD HAZARD    0.0        NaN       NaN   NaN   NaN   \n",
       "A                                     0.0        NaN       NaN   NaN   NaN   \n",
       "AE                                  733.0  12.442019  1.888557   8.0  11.0   \n",
       "AO                                    0.0        NaN       NaN   NaN   NaN   \n",
       "OPEN WATER                            0.0        NaN       NaN   NaN   NaN   \n",
       "VE                                  420.0  16.133333  3.126045  11.0  14.0   \n",
       "X                                     0.0        NaN       NaN   NaN   NaN   \n",
       "\n",
       "                                     50%   75%   max  \n",
       "FLD_ZONE                                              \n",
       "0.2 PCT ANNUAL CHANCE FLOOD HAZARD   NaN   NaN   NaN  \n",
       "A                                    NaN   NaN   NaN  \n",
       "AE                                  12.0  14.0  23.0  \n",
       "AO                                   NaN   NaN   NaN  \n",
       "OPEN WATER                           NaN   NaN   NaN  \n",
       "VE                                  16.0  17.0  34.0  \n",
       "X                                    NaN   NaN   NaN  "
      ]
     },
     "execution_count": 50,
     "metadata": {},
     "output_type": "execute_result"
    }
   ],
   "source": [
    "print('reviewing summary statistics for static base flood elevations by flood zone:')\n",
    "\n",
    "pfirm_df.groupby(by=['FLD_ZONE'])['STATIC_BFE'].describe()"
   ]
  },
  {
   "cell_type": "code",
   "execution_count": 51,
   "metadata": {},
   "outputs": [
    {
     "data": {
      "text/html": [
       "<div>\n",
       "<style scoped>\n",
       "    .dataframe tbody tr th:only-of-type {\n",
       "        vertical-align: middle;\n",
       "    }\n",
       "\n",
       "    .dataframe tbody tr th {\n",
       "        vertical-align: top;\n",
       "    }\n",
       "\n",
       "    .dataframe thead th {\n",
       "        text-align: right;\n",
       "    }\n",
       "</style>\n",
       "<table border=\"1\" class=\"dataframe\">\n",
       "  <thead>\n",
       "    <tr style=\"text-align: right;\">\n",
       "      <th></th>\n",
       "      <th></th>\n",
       "      <th>count</th>\n",
       "      <th>mean</th>\n",
       "      <th>std</th>\n",
       "      <th>min</th>\n",
       "      <th>25%</th>\n",
       "      <th>50%</th>\n",
       "      <th>75%</th>\n",
       "      <th>max</th>\n",
       "    </tr>\n",
       "    <tr>\n",
       "      <th>SFHA_TF</th>\n",
       "      <th>FLD_ZONE</th>\n",
       "      <th></th>\n",
       "      <th></th>\n",
       "      <th></th>\n",
       "      <th></th>\n",
       "      <th></th>\n",
       "      <th></th>\n",
       "      <th></th>\n",
       "      <th></th>\n",
       "    </tr>\n",
       "  </thead>\n",
       "  <tbody>\n",
       "    <tr>\n",
       "      <th rowspan=\"4\" valign=\"top\">T</th>\n",
       "      <th>A</th>\n",
       "      <td>0.0</td>\n",
       "      <td>NaN</td>\n",
       "      <td>NaN</td>\n",
       "      <td>NaN</td>\n",
       "      <td>NaN</td>\n",
       "      <td>NaN</td>\n",
       "      <td>NaN</td>\n",
       "      <td>NaN</td>\n",
       "    </tr>\n",
       "    <tr>\n",
       "      <th>AE</th>\n",
       "      <td>733.0</td>\n",
       "      <td>12.442019</td>\n",
       "      <td>1.888557</td>\n",
       "      <td>8.0</td>\n",
       "      <td>11.0</td>\n",
       "      <td>12.0</td>\n",
       "      <td>14.0</td>\n",
       "      <td>23.0</td>\n",
       "    </tr>\n",
       "    <tr>\n",
       "      <th>AO</th>\n",
       "      <td>0.0</td>\n",
       "      <td>NaN</td>\n",
       "      <td>NaN</td>\n",
       "      <td>NaN</td>\n",
       "      <td>NaN</td>\n",
       "      <td>NaN</td>\n",
       "      <td>NaN</td>\n",
       "      <td>NaN</td>\n",
       "    </tr>\n",
       "    <tr>\n",
       "      <th>VE</th>\n",
       "      <td>420.0</td>\n",
       "      <td>16.133333</td>\n",
       "      <td>3.126045</td>\n",
       "      <td>11.0</td>\n",
       "      <td>14.0</td>\n",
       "      <td>16.0</td>\n",
       "      <td>17.0</td>\n",
       "      <td>34.0</td>\n",
       "    </tr>\n",
       "    <tr>\n",
       "      <th rowspan=\"3\" valign=\"top\">F</th>\n",
       "      <th>0.2 PCT ANNUAL CHANCE FLOOD HAZARD</th>\n",
       "      <td>0.0</td>\n",
       "      <td>NaN</td>\n",
       "      <td>NaN</td>\n",
       "      <td>NaN</td>\n",
       "      <td>NaN</td>\n",
       "      <td>NaN</td>\n",
       "      <td>NaN</td>\n",
       "      <td>NaN</td>\n",
       "    </tr>\n",
       "    <tr>\n",
       "      <th>OPEN WATER</th>\n",
       "      <td>0.0</td>\n",
       "      <td>NaN</td>\n",
       "      <td>NaN</td>\n",
       "      <td>NaN</td>\n",
       "      <td>NaN</td>\n",
       "      <td>NaN</td>\n",
       "      <td>NaN</td>\n",
       "      <td>NaN</td>\n",
       "    </tr>\n",
       "    <tr>\n",
       "      <th>X</th>\n",
       "      <td>0.0</td>\n",
       "      <td>NaN</td>\n",
       "      <td>NaN</td>\n",
       "      <td>NaN</td>\n",
       "      <td>NaN</td>\n",
       "      <td>NaN</td>\n",
       "      <td>NaN</td>\n",
       "      <td>NaN</td>\n",
       "    </tr>\n",
       "  </tbody>\n",
       "</table>\n",
       "</div>"
      ],
      "text/plain": [
       "                                            count       mean       std   min  \\\n",
       "SFHA_TF FLD_ZONE                                                               \n",
       "T       A                                     0.0        NaN       NaN   NaN   \n",
       "        AE                                  733.0  12.442019  1.888557   8.0   \n",
       "        AO                                    0.0        NaN       NaN   NaN   \n",
       "        VE                                  420.0  16.133333  3.126045  11.0   \n",
       "F       0.2 PCT ANNUAL CHANCE FLOOD HAZARD    0.0        NaN       NaN   NaN   \n",
       "        OPEN WATER                            0.0        NaN       NaN   NaN   \n",
       "        X                                     0.0        NaN       NaN   NaN   \n",
       "\n",
       "                                             25%   50%   75%   max  \n",
       "SFHA_TF FLD_ZONE                                                    \n",
       "T       A                                    NaN   NaN   NaN   NaN  \n",
       "        AE                                  11.0  12.0  14.0  23.0  \n",
       "        AO                                   NaN   NaN   NaN   NaN  \n",
       "        VE                                  14.0  16.0  17.0  34.0  \n",
       "F       0.2 PCT ANNUAL CHANCE FLOOD HAZARD   NaN   NaN   NaN   NaN  \n",
       "        OPEN WATER                           NaN   NaN   NaN   NaN  \n",
       "        X                                    NaN   NaN   NaN   NaN  "
      ]
     },
     "execution_count": 51,
     "metadata": {},
     "output_type": "execute_result"
    }
   ],
   "source": [
    "sfha_df = pfirm_df.groupby(by=['SFHA_TF', 'FLD_ZONE'])['STATIC_BFE'].describe()\n",
    "\n",
    "sfha_df.sort_values(by='SFHA_TF', ascending=False)"
   ]
  },
  {
   "cell_type": "markdown",
   "metadata": {},
   "source": [
    "Performing summary statistics of static base flood elevations grouped by Special Flood Hazard Area (True/False) and Flood Zone. Zones AE and VE are the only ones with elevation values, and the remaining zones have null values."
   ]
  },
  {
   "cell_type": "code",
   "execution_count": 52,
   "metadata": {},
   "outputs": [
    {
     "name": "stdout",
     "output_type": "stream",
     "text": [
      "distribution of numeric columns. this is perhaps the true distribution of these columns:\n"
     ]
    },
    {
     "data": {
      "image/png": "[encoded data removed]",
      "text/plain": [
       "<Figure size 864x432 with 2 Axes>"
      ]
     },
     "metadata": {
      "needs_background": "light"
     },
     "output_type": "display_data"
    }
   ],
   "source": [
    "print('distribution of numeric columns. this is perhaps the true distribution of these columns:')\n",
    "\n",
    "hist = pfirm_df.hist(figsize=(12,6), bins=25)\n",
    "\n",
    "for ax in hist.flatten():\n",
    "    ax.set_xlabel(\"ft.\", fontsize=12)\n",
    "    ax.set_ylabel(\"Count\", fontsize=12)\n",
    "    \n",
    "plt.tight_layout()    "
   ]
  },
  {
   "cell_type": "code",
   "execution_count": 53,
   "metadata": {},
   "outputs": [
    {
     "name": "stdout",
     "output_type": "stream",
     "text": [
      "inspecting the distribution of numeric columns with box plots:\n"
     ]
    },
    {
     "data": {
      "image/png": "[encoded data removed]",
      "text/plain": [
       "<Figure size 720x864 with 2 Axes>"
      ]
     },
     "metadata": {
      "needs_background": "light"
     },
     "output_type": "display_data"
    }
   ],
   "source": [
    "print('inspecting the distribution of numeric columns with box plots:')\n",
    "\n",
    "fig, axs = plt.subplots(2, 1, figsize=(10,12))\n",
    "\n",
    "for ax, col in zip(axs.flat, ['STATIC_BFE', 'DEPTH']):\n",
    "\n",
    "    sns.boxplot(x=col, \n",
    "                y=\"FLD_ZONE\", \n",
    "                data=pfirm_df, \n",
    "                ax=ax)\n",
    "    ax.set_xlabel(col + ' (ft.)')"
   ]
  },
  {
   "cell_type": "markdown",
   "metadata": {},
   "source": [
    "Flood zones VE and AE are the only zones that have a static base flood elevation (BFE) value. Flood zone AO is the only zone with a depth elevation, although these depths are very small."
   ]
  },
  {
   "cell_type": "markdown",
   "metadata": {},
   "source": [
    "## 3.2 Dropping unnecessary flood zone values"
   ]
  },
  {
   "cell_type": "markdown",
   "metadata": {},
   "source": [
    "There are two flood zones in particular, X and OPEN WATER, that may be good candidates to drop. We don't want to drop any flood zones in the special flood hazard area (AE, VE, A, and AO), and we also don't want to drop the 0.2 % annual chance flood zone (although outside of the special flood hazard area, this information is still quite useful). Let's see if we can safely drop the previously mentioned values safely."
   ]
  },
  {
   "cell_type": "code",
   "execution_count": 54,
   "metadata": {},
   "outputs": [
    {
     "data": {
      "text/plain": [
       "0.2 PCT ANNUAL CHANCE FLOOD HAZARD    1726\n",
       "AE                                    1269\n",
       "X                                      529\n",
       "VE                                     420\n",
       "A                                       21\n",
       "AO                                      12\n",
       "OPEN WATER                               8\n",
       "Name: FLD_ZONE, dtype: int64"
      ]
     },
     "execution_count": 54,
     "metadata": {},
     "output_type": "execute_result"
    }
   ],
   "source": [
    "# number of records in each flood zone\n",
    "pfirm_df['FLD_ZONE'].value_counts()"
   ]
  },
  {
   "cell_type": "code",
   "execution_count": 55,
   "metadata": {},
   "outputs": [
    {
     "data": {
      "text/html": [
       "<div>\n",
       "<style scoped>\n",
       "    .dataframe tbody tr th:only-of-type {\n",
       "        vertical-align: middle;\n",
       "    }\n",
       "\n",
       "    .dataframe tbody tr th {\n",
       "        vertical-align: top;\n",
       "    }\n",
       "\n",
       "    .dataframe thead th {\n",
       "        text-align: right;\n",
       "    }\n",
       "</style>\n",
       "<table border=\"1\" class=\"dataframe\">\n",
       "  <thead>\n",
       "    <tr style=\"text-align: right;\">\n",
       "      <th></th>\n",
       "      <th>FLD_AR_ID</th>\n",
       "      <th>FLD_ZONE</th>\n",
       "      <th>FLOODWAY</th>\n",
       "      <th>SFHA_TF</th>\n",
       "      <th>STATIC_BFE</th>\n",
       "      <th>V_DATUM</th>\n",
       "      <th>DEPTH</th>\n",
       "      <th>LEN_UNIT</th>\n",
       "      <th>geometry</th>\n",
       "    </tr>\n",
       "  </thead>\n",
       "  <tbody>\n",
       "    <tr>\n",
       "      <th>1</th>\n",
       "      <td>82</td>\n",
       "      <td>X</td>\n",
       "      <td>None</td>\n",
       "      <td>F</td>\n",
       "      <td>NaN</td>\n",
       "      <td>None</td>\n",
       "      <td>NaN</td>\n",
       "      <td>None</td>\n",
       "      <td>POLYGON ((1033748.952 263778.464, 1033752.656 ...</td>\n",
       "    </tr>\n",
       "    <tr>\n",
       "      <th>6</th>\n",
       "      <td>87</td>\n",
       "      <td>X</td>\n",
       "      <td>None</td>\n",
       "      <td>F</td>\n",
       "      <td>NaN</td>\n",
       "      <td>None</td>\n",
       "      <td>NaN</td>\n",
       "      <td>None</td>\n",
       "      <td>POLYGON ((1034013.168 257011.473, 1034007.732 ...</td>\n",
       "    </tr>\n",
       "    <tr>\n",
       "      <th>11</th>\n",
       "      <td>92</td>\n",
       "      <td>X</td>\n",
       "      <td>None</td>\n",
       "      <td>F</td>\n",
       "      <td>NaN</td>\n",
       "      <td>None</td>\n",
       "      <td>NaN</td>\n",
       "      <td>None</td>\n",
       "      <td>POLYGON ((1043995.696 257160.314, 1043996.904 ...</td>\n",
       "    </tr>\n",
       "    <tr>\n",
       "      <th>15</th>\n",
       "      <td>96</td>\n",
       "      <td>X</td>\n",
       "      <td>None</td>\n",
       "      <td>F</td>\n",
       "      <td>NaN</td>\n",
       "      <td>None</td>\n",
       "      <td>NaN</td>\n",
       "      <td>None</td>\n",
       "      <td>POLYGON ((1034329.553 253484.038, 1034317.702 ...</td>\n",
       "    </tr>\n",
       "    <tr>\n",
       "      <th>19</th>\n",
       "      <td>100</td>\n",
       "      <td>X</td>\n",
       "      <td>None</td>\n",
       "      <td>F</td>\n",
       "      <td>NaN</td>\n",
       "      <td>None</td>\n",
       "      <td>NaN</td>\n",
       "      <td>None</td>\n",
       "      <td>POLYGON ((1029438.728 251094.008, 1029442.937 ...</td>\n",
       "    </tr>\n",
       "  </tbody>\n",
       "</table>\n",
       "</div>"
      ],
      "text/plain": [
       "   FLD_AR_ID FLD_ZONE FLOODWAY SFHA_TF  STATIC_BFE V_DATUM  DEPTH LEN_UNIT  \\\n",
       "1         82        X     None       F         NaN    None    NaN     None   \n",
       "6         87        X     None       F         NaN    None    NaN     None   \n",
       "11        92        X     None       F         NaN    None    NaN     None   \n",
       "15        96        X     None       F         NaN    None    NaN     None   \n",
       "19       100        X     None       F         NaN    None    NaN     None   \n",
       "\n",
       "                                             geometry  \n",
       "1   POLYGON ((1033748.952 263778.464, 1033752.656 ...  \n",
       "6   POLYGON ((1034013.168 257011.473, 1034007.732 ...  \n",
       "11  POLYGON ((1043995.696 257160.314, 1043996.904 ...  \n",
       "15  POLYGON ((1034329.553 253484.038, 1034317.702 ...  \n",
       "19  POLYGON ((1029438.728 251094.008, 1029442.937 ...  "
      ]
     },
     "execution_count": 55,
     "metadata": {},
     "output_type": "execute_result"
    }
   ],
   "source": [
    "# preview the dataframe where flood zones are open water and x\n",
    "pfirm_df.loc[pfirm_df['FLD_ZONE'].isin(['OPEN WATER', 'X'])].head()"
   ]
  },
  {
   "cell_type": "code",
   "execution_count": 56,
   "metadata": {},
   "outputs": [
    {
     "data": {
      "text/html": [
       "<div>\n",
       "<style scoped>\n",
       "    .dataframe tbody tr th:only-of-type {\n",
       "        vertical-align: middle;\n",
       "    }\n",
       "\n",
       "    .dataframe tbody tr th {\n",
       "        vertical-align: top;\n",
       "    }\n",
       "\n",
       "    .dataframe thead th {\n",
       "        text-align: right;\n",
       "    }\n",
       "</style>\n",
       "<table border=\"1\" class=\"dataframe\">\n",
       "  <thead>\n",
       "    <tr style=\"text-align: right;\">\n",
       "      <th></th>\n",
       "      <th>FLD_AR_ID</th>\n",
       "      <th>FLD_ZONE</th>\n",
       "      <th>FLOODWAY</th>\n",
       "      <th>SFHA_TF</th>\n",
       "      <th>STATIC_BFE</th>\n",
       "      <th>V_DATUM</th>\n",
       "      <th>DEPTH</th>\n",
       "      <th>LEN_UNIT</th>\n",
       "    </tr>\n",
       "  </thead>\n",
       "  <tbody>\n",
       "    <tr>\n",
       "      <th>count</th>\n",
       "      <td>537</td>\n",
       "      <td>537</td>\n",
       "      <td>0</td>\n",
       "      <td>537</td>\n",
       "      <td>0.0</td>\n",
       "      <td>0</td>\n",
       "      <td>0.0</td>\n",
       "      <td>0</td>\n",
       "    </tr>\n",
       "    <tr>\n",
       "      <th>unique</th>\n",
       "      <td>537</td>\n",
       "      <td>2</td>\n",
       "      <td>0</td>\n",
       "      <td>1</td>\n",
       "      <td>NaN</td>\n",
       "      <td>0</td>\n",
       "      <td>NaN</td>\n",
       "      <td>0</td>\n",
       "    </tr>\n",
       "    <tr>\n",
       "      <th>top</th>\n",
       "      <td>2501</td>\n",
       "      <td>X</td>\n",
       "      <td>NaN</td>\n",
       "      <td>F</td>\n",
       "      <td>NaN</td>\n",
       "      <td>NaN</td>\n",
       "      <td>NaN</td>\n",
       "      <td>NaN</td>\n",
       "    </tr>\n",
       "    <tr>\n",
       "      <th>freq</th>\n",
       "      <td>1</td>\n",
       "      <td>529</td>\n",
       "      <td>NaN</td>\n",
       "      <td>537</td>\n",
       "      <td>NaN</td>\n",
       "      <td>NaN</td>\n",
       "      <td>NaN</td>\n",
       "      <td>NaN</td>\n",
       "    </tr>\n",
       "    <tr>\n",
       "      <th>mean</th>\n",
       "      <td>NaN</td>\n",
       "      <td>NaN</td>\n",
       "      <td>NaN</td>\n",
       "      <td>NaN</td>\n",
       "      <td>NaN</td>\n",
       "      <td>NaN</td>\n",
       "      <td>NaN</td>\n",
       "      <td>NaN</td>\n",
       "    </tr>\n",
       "    <tr>\n",
       "      <th>std</th>\n",
       "      <td>NaN</td>\n",
       "      <td>NaN</td>\n",
       "      <td>NaN</td>\n",
       "      <td>NaN</td>\n",
       "      <td>NaN</td>\n",
       "      <td>NaN</td>\n",
       "      <td>NaN</td>\n",
       "      <td>NaN</td>\n",
       "    </tr>\n",
       "    <tr>\n",
       "      <th>min</th>\n",
       "      <td>NaN</td>\n",
       "      <td>NaN</td>\n",
       "      <td>NaN</td>\n",
       "      <td>NaN</td>\n",
       "      <td>NaN</td>\n",
       "      <td>NaN</td>\n",
       "      <td>NaN</td>\n",
       "      <td>NaN</td>\n",
       "    </tr>\n",
       "    <tr>\n",
       "      <th>25%</th>\n",
       "      <td>NaN</td>\n",
       "      <td>NaN</td>\n",
       "      <td>NaN</td>\n",
       "      <td>NaN</td>\n",
       "      <td>NaN</td>\n",
       "      <td>NaN</td>\n",
       "      <td>NaN</td>\n",
       "      <td>NaN</td>\n",
       "    </tr>\n",
       "    <tr>\n",
       "      <th>50%</th>\n",
       "      <td>NaN</td>\n",
       "      <td>NaN</td>\n",
       "      <td>NaN</td>\n",
       "      <td>NaN</td>\n",
       "      <td>NaN</td>\n",
       "      <td>NaN</td>\n",
       "      <td>NaN</td>\n",
       "      <td>NaN</td>\n",
       "    </tr>\n",
       "    <tr>\n",
       "      <th>75%</th>\n",
       "      <td>NaN</td>\n",
       "      <td>NaN</td>\n",
       "      <td>NaN</td>\n",
       "      <td>NaN</td>\n",
       "      <td>NaN</td>\n",
       "      <td>NaN</td>\n",
       "      <td>NaN</td>\n",
       "      <td>NaN</td>\n",
       "    </tr>\n",
       "    <tr>\n",
       "      <th>max</th>\n",
       "      <td>NaN</td>\n",
       "      <td>NaN</td>\n",
       "      <td>NaN</td>\n",
       "      <td>NaN</td>\n",
       "      <td>NaN</td>\n",
       "      <td>NaN</td>\n",
       "      <td>NaN</td>\n",
       "      <td>NaN</td>\n",
       "    </tr>\n",
       "  </tbody>\n",
       "</table>\n",
       "</div>"
      ],
      "text/plain": [
       "       FLD_AR_ID FLD_ZONE FLOODWAY SFHA_TF  STATIC_BFE V_DATUM  DEPTH LEN_UNIT\n",
       "count        537      537        0     537         0.0       0    0.0        0\n",
       "unique       537        2        0       1         NaN       0    NaN        0\n",
       "top         2501        X      NaN       F         NaN     NaN    NaN      NaN\n",
       "freq           1      529      NaN     537         NaN     NaN    NaN      NaN\n",
       "mean         NaN      NaN      NaN     NaN         NaN     NaN    NaN      NaN\n",
       "std          NaN      NaN      NaN     NaN         NaN     NaN    NaN      NaN\n",
       "min          NaN      NaN      NaN     NaN         NaN     NaN    NaN      NaN\n",
       "25%          NaN      NaN      NaN     NaN         NaN     NaN    NaN      NaN\n",
       "50%          NaN      NaN      NaN     NaN         NaN     NaN    NaN      NaN\n",
       "75%          NaN      NaN      NaN     NaN         NaN     NaN    NaN      NaN\n",
       "max          NaN      NaN      NaN     NaN         NaN     NaN    NaN      NaN"
      ]
     },
     "execution_count": 56,
     "metadata": {},
     "output_type": "execute_result"
    }
   ],
   "source": [
    "# summary statistics where flood zones are open water and x\n",
    "pfirm_df.loc[pfirm_df['FLD_ZONE'].isin(['OPEN WATER', 'X'])].iloc[:, :-1].describe(include='all')"
   ]
  },
  {
   "cell_type": "code",
   "execution_count": 57,
   "metadata": {},
   "outputs": [
    {
     "data": {
      "text/html": [
       "<div>\n",
       "<style scoped>\n",
       "    .dataframe tbody tr th:only-of-type {\n",
       "        vertical-align: middle;\n",
       "    }\n",
       "\n",
       "    .dataframe tbody tr th {\n",
       "        vertical-align: top;\n",
       "    }\n",
       "\n",
       "    .dataframe thead th {\n",
       "        text-align: right;\n",
       "    }\n",
       "</style>\n",
       "<table border=\"1\" class=\"dataframe\">\n",
       "  <thead>\n",
       "    <tr style=\"text-align: right;\">\n",
       "      <th></th>\n",
       "      <th></th>\n",
       "      <th>FLD_AR_ID</th>\n",
       "      <th>FLOODWAY</th>\n",
       "      <th>STATIC_BFE</th>\n",
       "      <th>V_DATUM</th>\n",
       "      <th>DEPTH</th>\n",
       "      <th>LEN_UNIT</th>\n",
       "      <th>geometry</th>\n",
       "    </tr>\n",
       "    <tr>\n",
       "      <th>FLD_ZONE</th>\n",
       "      <th>SFHA_TF</th>\n",
       "      <th></th>\n",
       "      <th></th>\n",
       "      <th></th>\n",
       "      <th></th>\n",
       "      <th></th>\n",
       "      <th></th>\n",
       "      <th></th>\n",
       "    </tr>\n",
       "  </thead>\n",
       "  <tbody>\n",
       "    <tr>\n",
       "      <th>OPEN WATER</th>\n",
       "      <th>F</th>\n",
       "      <td>8</td>\n",
       "      <td>0</td>\n",
       "      <td>0</td>\n",
       "      <td>0</td>\n",
       "      <td>0</td>\n",
       "      <td>0</td>\n",
       "      <td>8</td>\n",
       "    </tr>\n",
       "    <tr>\n",
       "      <th>X</th>\n",
       "      <th>F</th>\n",
       "      <td>529</td>\n",
       "      <td>0</td>\n",
       "      <td>0</td>\n",
       "      <td>0</td>\n",
       "      <td>0</td>\n",
       "      <td>0</td>\n",
       "      <td>529</td>\n",
       "    </tr>\n",
       "  </tbody>\n",
       "</table>\n",
       "</div>"
      ],
      "text/plain": [
       "                    FLD_AR_ID  FLOODWAY  STATIC_BFE  V_DATUM  DEPTH  LEN_UNIT  \\\n",
       "FLD_ZONE   SFHA_TF                                                              \n",
       "OPEN WATER F                8         0           0        0      0         0   \n",
       "X          F              529         0           0        0      0         0   \n",
       "\n",
       "                    geometry  \n",
       "FLD_ZONE   SFHA_TF            \n",
       "OPEN WATER F               8  \n",
       "X          F             529  "
      ]
     },
     "execution_count": 57,
     "metadata": {},
     "output_type": "execute_result"
    }
   ],
   "source": [
    "# preview count of records grouped by flood zones are open water and x\n",
    "d1 = pfirm_df.loc[pfirm_df['FLD_ZONE'].isin(['OPEN WATER', 'X'])]\n",
    "\n",
    "d1.groupby(by=['FLD_ZONE', 'SFHA_TF']).count()"
   ]
  },
  {
   "cell_type": "code",
   "execution_count": 58,
   "metadata": {},
   "outputs": [
    {
     "name": "stdout",
     "output_type": "stream",
     "text": [
      "number of records in total data frame: 3,985\n",
      "number of records to drop where flood zone is open water and x: 537\n",
      "number of records in dataframe after dropping open water and x zones: 3,448\n"
     ]
    }
   ],
   "source": [
    "print('number of records in total data frame: {:,}'.format(pfirm_df.shape[0]))\n",
    "\n",
    "length = pfirm_df.loc[pfirm_df['FLD_ZONE'].isin(['OPEN WATER', 'X'])].shape[0]\n",
    "print('number of records to drop where flood zone is open water and x: {:,}'.format(length))\n",
    "\n",
    "pfirm_df = pfirm_df.loc[~pfirm_df['FLD_ZONE'].isin(['OPEN WATER', 'X'])]\n",
    "print('number of records in dataframe after dropping open water and x zones: {:,}'.format(pfirm_df.shape[0]))"
   ]
  },
  {
   "cell_type": "code",
   "execution_count": 59,
   "metadata": {},
   "outputs": [
    {
     "data": {
      "text/html": [
       "<div>\n",
       "<style scoped>\n",
       "    .dataframe tbody tr th:only-of-type {\n",
       "        vertical-align: middle;\n",
       "    }\n",
       "\n",
       "    .dataframe tbody tr th {\n",
       "        vertical-align: top;\n",
       "    }\n",
       "\n",
       "    .dataframe thead th {\n",
       "        text-align: right;\n",
       "    }\n",
       "</style>\n",
       "<table border=\"1\" class=\"dataframe\">\n",
       "  <thead>\n",
       "    <tr style=\"text-align: right;\">\n",
       "      <th></th>\n",
       "      <th></th>\n",
       "      <th>FLD_AR_ID</th>\n",
       "      <th>FLOODWAY</th>\n",
       "      <th>STATIC_BFE</th>\n",
       "      <th>V_DATUM</th>\n",
       "      <th>DEPTH</th>\n",
       "      <th>LEN_UNIT</th>\n",
       "      <th>geometry</th>\n",
       "    </tr>\n",
       "    <tr>\n",
       "      <th>SFHA_TF</th>\n",
       "      <th>FLD_ZONE</th>\n",
       "      <th></th>\n",
       "      <th></th>\n",
       "      <th></th>\n",
       "      <th></th>\n",
       "      <th></th>\n",
       "      <th></th>\n",
       "      <th></th>\n",
       "    </tr>\n",
       "  </thead>\n",
       "  <tbody>\n",
       "    <tr>\n",
       "      <th>F</th>\n",
       "      <th>0.2 PCT ANNUAL CHANCE FLOOD HAZARD</th>\n",
       "      <td>1726</td>\n",
       "      <td>0</td>\n",
       "      <td>0</td>\n",
       "      <td>0</td>\n",
       "      <td>0</td>\n",
       "      <td>0</td>\n",
       "      <td>1726</td>\n",
       "    </tr>\n",
       "    <tr>\n",
       "      <th rowspan=\"4\" valign=\"top\">T</th>\n",
       "      <th>A</th>\n",
       "      <td>21</td>\n",
       "      <td>0</td>\n",
       "      <td>0</td>\n",
       "      <td>0</td>\n",
       "      <td>0</td>\n",
       "      <td>0</td>\n",
       "      <td>21</td>\n",
       "    </tr>\n",
       "    <tr>\n",
       "      <th>AE</th>\n",
       "      <td>1269</td>\n",
       "      <td>47</td>\n",
       "      <td>733</td>\n",
       "      <td>733</td>\n",
       "      <td>0</td>\n",
       "      <td>733</td>\n",
       "      <td>1269</td>\n",
       "    </tr>\n",
       "    <tr>\n",
       "      <th>AO</th>\n",
       "      <td>12</td>\n",
       "      <td>0</td>\n",
       "      <td>0</td>\n",
       "      <td>0</td>\n",
       "      <td>12</td>\n",
       "      <td>12</td>\n",
       "      <td>12</td>\n",
       "    </tr>\n",
       "    <tr>\n",
       "      <th>VE</th>\n",
       "      <td>420</td>\n",
       "      <td>0</td>\n",
       "      <td>420</td>\n",
       "      <td>420</td>\n",
       "      <td>0</td>\n",
       "      <td>420</td>\n",
       "      <td>420</td>\n",
       "    </tr>\n",
       "  </tbody>\n",
       "</table>\n",
       "</div>"
      ],
      "text/plain": [
       "                                            FLD_AR_ID  FLOODWAY  STATIC_BFE  \\\n",
       "SFHA_TF FLD_ZONE                                                              \n",
       "F       0.2 PCT ANNUAL CHANCE FLOOD HAZARD       1726         0           0   \n",
       "T       A                                          21         0           0   \n",
       "        AE                                       1269        47         733   \n",
       "        AO                                         12         0           0   \n",
       "        VE                                        420         0         420   \n",
       "\n",
       "                                            V_DATUM  DEPTH  LEN_UNIT  geometry  \n",
       "SFHA_TF FLD_ZONE                                                                \n",
       "F       0.2 PCT ANNUAL CHANCE FLOOD HAZARD        0      0         0      1726  \n",
       "T       A                                         0      0         0        21  \n",
       "        AE                                      733      0       733      1269  \n",
       "        AO                                        0     12        12        12  \n",
       "        VE                                      420      0       420       420  "
      ]
     },
     "execution_count": 59,
     "metadata": {},
     "output_type": "execute_result"
    }
   ],
   "source": [
    "# our dropped flood zones are no longer included in dataframe\n",
    "pfirm_df.groupby(by=['SFHA_TF', 'FLD_ZONE']).count()"
   ]
  },
  {
   "cell_type": "code",
   "execution_count": 60,
   "metadata": {},
   "outputs": [
    {
     "data": {
      "text/plain": [
       "0.2 PCT ANNUAL CHANCE FLOOD HAZARD    1726\n",
       "AE                                    1269\n",
       "VE                                     420\n",
       "A                                       21\n",
       "AO                                      12\n",
       "Name: FLD_ZONE, dtype: int64"
      ]
     },
     "execution_count": 60,
     "metadata": {},
     "output_type": "execute_result"
    }
   ],
   "source": [
    "# number of records in each flood zone\n",
    "pfirm_df['FLD_ZONE'].value_counts()"
   ]
  },
  {
   "cell_type": "code",
   "execution_count": 61,
   "metadata": {},
   "outputs": [
    {
     "data": {
      "text/plain": [
       "<AxesSubplot:>"
      ]
     },
     "execution_count": 61,
     "metadata": {},
     "output_type": "execute_result"
    },
    {
     "data": {
      "image/png": "[encoded data removed]",
      "text/plain": [
       "<Figure size 432x288 with 1 Axes>"
      ]
     },
     "metadata": {
      "needs_background": "light"
     },
     "output_type": "display_data"
    }
   ],
   "source": [
    "# a quick preview of our map after dropping open water and x flood zones\n",
    "pfirm_df.plot()"
   ]
  },
  {
   "cell_type": "code",
   "execution_count": 62,
   "metadata": {},
   "outputs": [
    {
     "data": {
      "text/html": [
       "<div>\n",
       "<style scoped>\n",
       "    .dataframe tbody tr th:only-of-type {\n",
       "        vertical-align: middle;\n",
       "    }\n",
       "\n",
       "    .dataframe tbody tr th {\n",
       "        vertical-align: top;\n",
       "    }\n",
       "\n",
       "    .dataframe thead th {\n",
       "        text-align: right;\n",
       "    }\n",
       "</style>\n",
       "<table border=\"1\" class=\"dataframe\">\n",
       "  <thead>\n",
       "    <tr style=\"text-align: right;\">\n",
       "      <th></th>\n",
       "      <th>FLD_AR_ID</th>\n",
       "      <th>FLD_ZONE</th>\n",
       "      <th>FLOODWAY</th>\n",
       "      <th>SFHA_TF</th>\n",
       "      <th>STATIC_BFE</th>\n",
       "      <th>V_DATUM</th>\n",
       "      <th>DEPTH</th>\n",
       "      <th>LEN_UNIT</th>\n",
       "    </tr>\n",
       "  </thead>\n",
       "  <tbody>\n",
       "    <tr>\n",
       "      <th>count</th>\n",
       "      <td>3448</td>\n",
       "      <td>3448</td>\n",
       "      <td>47</td>\n",
       "      <td>3448</td>\n",
       "      <td>1153.000000</td>\n",
       "      <td>1153</td>\n",
       "      <td>12.000000</td>\n",
       "      <td>1165</td>\n",
       "    </tr>\n",
       "    <tr>\n",
       "      <th>unique</th>\n",
       "      <td>3448</td>\n",
       "      <td>5</td>\n",
       "      <td>1</td>\n",
       "      <td>2</td>\n",
       "      <td>NaN</td>\n",
       "      <td>1</td>\n",
       "      <td>NaN</td>\n",
       "      <td>1</td>\n",
       "    </tr>\n",
       "    <tr>\n",
       "      <th>top</th>\n",
       "      <td>3786</td>\n",
       "      <td>0.2 PCT ANNUAL CHANCE FLOOD HAZARD</td>\n",
       "      <td>FLOODWAY</td>\n",
       "      <td>F</td>\n",
       "      <td>NaN</td>\n",
       "      <td>NAVD88</td>\n",
       "      <td>NaN</td>\n",
       "      <td>FEET</td>\n",
       "    </tr>\n",
       "    <tr>\n",
       "      <th>freq</th>\n",
       "      <td>1</td>\n",
       "      <td>1726</td>\n",
       "      <td>47</td>\n",
       "      <td>1726</td>\n",
       "      <td>NaN</td>\n",
       "      <td>1153</td>\n",
       "      <td>NaN</td>\n",
       "      <td>1165</td>\n",
       "    </tr>\n",
       "    <tr>\n",
       "      <th>mean</th>\n",
       "      <td>NaN</td>\n",
       "      <td>NaN</td>\n",
       "      <td>NaN</td>\n",
       "      <td>NaN</td>\n",
       "      <td>13.786644</td>\n",
       "      <td>NaN</td>\n",
       "      <td>2.333333</td>\n",
       "      <td>NaN</td>\n",
       "    </tr>\n",
       "    <tr>\n",
       "      <th>std</th>\n",
       "      <td>NaN</td>\n",
       "      <td>NaN</td>\n",
       "      <td>NaN</td>\n",
       "      <td>NaN</td>\n",
       "      <td>2.996455</td>\n",
       "      <td>NaN</td>\n",
       "      <td>0.887625</td>\n",
       "      <td>NaN</td>\n",
       "    </tr>\n",
       "    <tr>\n",
       "      <th>min</th>\n",
       "      <td>NaN</td>\n",
       "      <td>NaN</td>\n",
       "      <td>NaN</td>\n",
       "      <td>NaN</td>\n",
       "      <td>8.000000</td>\n",
       "      <td>NaN</td>\n",
       "      <td>1.000000</td>\n",
       "      <td>NaN</td>\n",
       "    </tr>\n",
       "    <tr>\n",
       "      <th>25%</th>\n",
       "      <td>NaN</td>\n",
       "      <td>NaN</td>\n",
       "      <td>NaN</td>\n",
       "      <td>NaN</td>\n",
       "      <td>12.000000</td>\n",
       "      <td>NaN</td>\n",
       "      <td>1.750000</td>\n",
       "      <td>NaN</td>\n",
       "    </tr>\n",
       "    <tr>\n",
       "      <th>50%</th>\n",
       "      <td>NaN</td>\n",
       "      <td>NaN</td>\n",
       "      <td>NaN</td>\n",
       "      <td>NaN</td>\n",
       "      <td>13.000000</td>\n",
       "      <td>NaN</td>\n",
       "      <td>3.000000</td>\n",
       "      <td>NaN</td>\n",
       "    </tr>\n",
       "    <tr>\n",
       "      <th>75%</th>\n",
       "      <td>NaN</td>\n",
       "      <td>NaN</td>\n",
       "      <td>NaN</td>\n",
       "      <td>NaN</td>\n",
       "      <td>15.000000</td>\n",
       "      <td>NaN</td>\n",
       "      <td>3.000000</td>\n",
       "      <td>NaN</td>\n",
       "    </tr>\n",
       "    <tr>\n",
       "      <th>max</th>\n",
       "      <td>NaN</td>\n",
       "      <td>NaN</td>\n",
       "      <td>NaN</td>\n",
       "      <td>NaN</td>\n",
       "      <td>34.000000</td>\n",
       "      <td>NaN</td>\n",
       "      <td>3.000000</td>\n",
       "      <td>NaN</td>\n",
       "    </tr>\n",
       "  </tbody>\n",
       "</table>\n",
       "</div>"
      ],
      "text/plain": [
       "       FLD_AR_ID                            FLD_ZONE  FLOODWAY SFHA_TF  \\\n",
       "count       3448                                3448        47    3448   \n",
       "unique      3448                                   5         1       2   \n",
       "top         3786  0.2 PCT ANNUAL CHANCE FLOOD HAZARD  FLOODWAY       F   \n",
       "freq           1                                1726        47    1726   \n",
       "mean         NaN                                 NaN       NaN     NaN   \n",
       "std          NaN                                 NaN       NaN     NaN   \n",
       "min          NaN                                 NaN       NaN     NaN   \n",
       "25%          NaN                                 NaN       NaN     NaN   \n",
       "50%          NaN                                 NaN       NaN     NaN   \n",
       "75%          NaN                                 NaN       NaN     NaN   \n",
       "max          NaN                                 NaN       NaN     NaN   \n",
       "\n",
       "         STATIC_BFE V_DATUM      DEPTH LEN_UNIT  \n",
       "count   1153.000000    1153  12.000000     1165  \n",
       "unique          NaN       1        NaN        1  \n",
       "top             NaN  NAVD88        NaN     FEET  \n",
       "freq            NaN    1153        NaN     1165  \n",
       "mean      13.786644     NaN   2.333333      NaN  \n",
       "std        2.996455     NaN   0.887625      NaN  \n",
       "min        8.000000     NaN   1.000000      NaN  \n",
       "25%       12.000000     NaN   1.750000      NaN  \n",
       "50%       13.000000     NaN   3.000000      NaN  \n",
       "75%       15.000000     NaN   3.000000      NaN  \n",
       "max       34.000000     NaN   3.000000      NaN  "
      ]
     },
     "execution_count": 62,
     "metadata": {},
     "output_type": "execute_result"
    }
   ],
   "source": [
    "# summary statistics of data\n",
    "pfirm_df.iloc[:, :-1].describe(include='all')"
   ]
  },
  {
   "cell_type": "code",
   "execution_count": 63,
   "metadata": {},
   "outputs": [
    {
     "name": "stdout",
     "output_type": "stream",
     "text": [
      "<class 'geopandas.geodataframe.GeoDataFrame'>\n",
      "Int64Index: 3448 entries, 0 to 3984\n",
      "Data columns (total 9 columns):\n",
      " #   Column      Non-Null Count  Dtype   \n",
      "---  ------      --------------  -----   \n",
      " 0   FLD_AR_ID   3448 non-null   object  \n",
      " 1   FLD_ZONE    3448 non-null   object  \n",
      " 2   FLOODWAY    47 non-null     object  \n",
      " 3   SFHA_TF     3448 non-null   object  \n",
      " 4   STATIC_BFE  1153 non-null   float64 \n",
      " 5   V_DATUM     1153 non-null   object  \n",
      " 6   DEPTH       12 non-null     float64 \n",
      " 7   LEN_UNIT    1165 non-null   object  \n",
      " 8   geometry    3448 non-null   geometry\n",
      "dtypes: float64(2), geometry(1), object(6)\n",
      "memory usage: 269.4+ KB\n"
     ]
    }
   ],
   "source": [
    "# summary of data\n",
    "pfirm_df.info()"
   ]
  },
  {
   "cell_type": "code",
   "execution_count": 64,
   "metadata": {},
   "outputs": [
    {
     "data": {
      "image/png": "[encoded data removed]",
      "text/plain": [
       "<Figure size 720x432 with 1 Axes>"
      ]
     },
     "metadata": {
      "needs_background": "light"
     },
     "output_type": "display_data"
    }
   ],
   "source": [
    "fig, ax = plt.subplots(figsize=(10, 6))\n",
    "\n",
    "sns.histplot(pfirm_df, \n",
    "             x='STATIC_BFE', \n",
    "             hue='FLD_ZONE', \n",
    "             multiple=\"stack\")\n",
    "\n",
    "plt.tight_layout()"
   ]
  },
  {
   "cell_type": "markdown",
   "metadata": {},
   "source": [
    "Distribution of static base flood elevations (ft.) by flood zone."
   ]
  },
  {
   "cell_type": "code",
   "execution_count": 65,
   "metadata": {},
   "outputs": [
    {
     "data": {
      "image/png": "[encoded data removed]",
      "text/plain": [
       "<Figure size 720x432 with 1 Axes>"
      ]
     },
     "metadata": {
      "needs_background": "light"
     },
     "output_type": "display_data"
    }
   ],
   "source": [
    "fig, ax = plt.subplots(figsize=(10, 6))\n",
    "\n",
    "sns.histplot(pfirm_df, \n",
    "             x='STATIC_BFE', \n",
    "             hue='FLD_ZONE', \n",
    "             multiple=\"stack\", \n",
    "             element='step')\n",
    "\n",
    "plt.tight_layout()"
   ]
  },
  {
   "cell_type": "markdown",
   "metadata": {},
   "source": [
    "Distribution of static base flood elevations (ft.) by flood zone where element = step."
   ]
  },
  {
   "cell_type": "code",
   "execution_count": 66,
   "metadata": {},
   "outputs": [
    {
     "data": {
      "image/png": "[encoded data removed]",
      "text/plain": [
       "<Figure size 432x288 with 1 Axes>"
      ]
     },
     "metadata": {
      "needs_background": "light"
     },
     "output_type": "display_data"
    },
    {
     "data": {
      "image/png": "[encoded data removed]",
      "text/plain": [
       "<Figure size 432x288 with 1 Axes>"
      ]
     },
     "metadata": {
      "needs_background": "light"
     },
     "output_type": "display_data"
    },
    {
     "data": {
      "image/png": "[encoded data removed]",
      "text/plain": [
       "<Figure size 432x288 with 1 Axes>"
      ]
     },
     "metadata": {
      "needs_background": "light"
     },
     "output_type": "display_data"
    },
    {
     "data": {
      "image/png": "[encoded data removed]",
      "text/plain": [
       "<Figure size 432x288 with 1 Axes>"
      ]
     },
     "metadata": {
      "needs_background": "light"
     },
     "output_type": "display_data"
    },
    {
     "data": {
      "image/png": "[encoded data removed]",
      "text/plain": [
       "<Figure size 432x288 with 1 Axes>"
      ]
     },
     "metadata": {
      "needs_background": "light"
     },
     "output_type": "display_data"
    }
   ],
   "source": [
    "# plotting static base flood elevations distribution by flood zone per plot\n",
    "\n",
    "zones = pfirm_df['FLD_ZONE'].unique()\n",
    "\n",
    "for zone in zones:\n",
    "    plt.figure()\n",
    "    plot = pfirm_df.loc[pfirm_df['FLD_ZONE'] == zone]\n",
    "    \n",
    "    sns.histplot(plot, x='STATIC_BFE')\n",
    "    plt.title('FLD_ZONE = {}'.format(zone))"
   ]
  },
  {
   "cell_type": "code",
   "execution_count": 67,
   "metadata": {},
   "outputs": [
    {
     "data": {
      "text/plain": [
       "F    1726\n",
       "T    1722\n",
       "Name: SFHA_TF, dtype: int64"
      ]
     },
     "execution_count": 67,
     "metadata": {},
     "output_type": "execute_result"
    }
   ],
   "source": [
    "# previewing count of flood zones by within special flood hazard area\n",
    "pfirm_df['SFHA_TF'].value_counts()"
   ]
  },
  {
   "cell_type": "code",
   "execution_count": 68,
   "metadata": {},
   "outputs": [
    {
     "data": {
      "text/html": [
       "<div>\n",
       "<style scoped>\n",
       "    .dataframe tbody tr th:only-of-type {\n",
       "        vertical-align: middle;\n",
       "    }\n",
       "\n",
       "    .dataframe tbody tr th {\n",
       "        vertical-align: top;\n",
       "    }\n",
       "\n",
       "    .dataframe thead th {\n",
       "        text-align: right;\n",
       "    }\n",
       "</style>\n",
       "<table border=\"1\" class=\"dataframe\">\n",
       "  <thead>\n",
       "    <tr style=\"text-align: right;\">\n",
       "      <th></th>\n",
       "      <th>count</th>\n",
       "      <th>mean</th>\n",
       "      <th>std</th>\n",
       "      <th>min</th>\n",
       "      <th>25%</th>\n",
       "      <th>50%</th>\n",
       "      <th>75%</th>\n",
       "      <th>max</th>\n",
       "    </tr>\n",
       "    <tr>\n",
       "      <th>SFHA_TF</th>\n",
       "      <th></th>\n",
       "      <th></th>\n",
       "      <th></th>\n",
       "      <th></th>\n",
       "      <th></th>\n",
       "      <th></th>\n",
       "      <th></th>\n",
       "      <th></th>\n",
       "    </tr>\n",
       "  </thead>\n",
       "  <tbody>\n",
       "    <tr>\n",
       "      <th>F</th>\n",
       "      <td>0.0</td>\n",
       "      <td>NaN</td>\n",
       "      <td>NaN</td>\n",
       "      <td>NaN</td>\n",
       "      <td>NaN</td>\n",
       "      <td>NaN</td>\n",
       "      <td>NaN</td>\n",
       "      <td>NaN</td>\n",
       "    </tr>\n",
       "    <tr>\n",
       "      <th>T</th>\n",
       "      <td>1153.0</td>\n",
       "      <td>13.786644</td>\n",
       "      <td>2.996455</td>\n",
       "      <td>8.0</td>\n",
       "      <td>12.0</td>\n",
       "      <td>13.0</td>\n",
       "      <td>15.0</td>\n",
       "      <td>34.0</td>\n",
       "    </tr>\n",
       "  </tbody>\n",
       "</table>\n",
       "</div>"
      ],
      "text/plain": [
       "          count       mean       std  min   25%   50%   75%   max\n",
       "SFHA_TF                                                          \n",
       "F           0.0        NaN       NaN  NaN   NaN   NaN   NaN   NaN\n",
       "T        1153.0  13.786644  2.996455  8.0  12.0  13.0  15.0  34.0"
      ]
     },
     "execution_count": 68,
     "metadata": {},
     "output_type": "execute_result"
    }
   ],
   "source": [
    "# summary statistics of static base flood elevations by special flood hazard area\n",
    "pfirm_df.groupby(by=['SFHA_TF'])['STATIC_BFE'].describe()"
   ]
  },
  {
   "cell_type": "markdown",
   "metadata": {},
   "source": [
    "# 4. Inspect the geometry of the data"
   ]
  },
  {
   "cell_type": "markdown",
   "metadata": {},
   "source": [
    "## 4.1 Mapping the flood zone"
   ]
  },
  {
   "cell_type": "code",
   "execution_count": 69,
   "metadata": {},
   "outputs": [
    {
     "data": {
      "text/html": [
       "<div>\n",
       "<style scoped>\n",
       "    .dataframe tbody tr th:only-of-type {\n",
       "        vertical-align: middle;\n",
       "    }\n",
       "\n",
       "    .dataframe tbody tr th {\n",
       "        vertical-align: top;\n",
       "    }\n",
       "\n",
       "    .dataframe thead th {\n",
       "        text-align: right;\n",
       "    }\n",
       "</style>\n",
       "<table border=\"1\" class=\"dataframe\">\n",
       "  <thead>\n",
       "    <tr style=\"text-align: right;\">\n",
       "      <th></th>\n",
       "      <th>boro_code</th>\n",
       "      <th>boro_name</th>\n",
       "      <th>shape_area</th>\n",
       "      <th>shape_leng</th>\n",
       "      <th>geometry</th>\n",
       "    </tr>\n",
       "  </thead>\n",
       "  <tbody>\n",
       "    <tr>\n",
       "      <th>0</th>\n",
       "      <td>2.0</td>\n",
       "      <td>Bronx</td>\n",
       "      <td>1.187194e+09</td>\n",
       "      <td>463868.937681</td>\n",
       "      <td>MULTIPOLYGON (((-73.89681 40.79581, -73.89694 ...</td>\n",
       "    </tr>\n",
       "    <tr>\n",
       "      <th>1</th>\n",
       "      <td>1.0</td>\n",
       "      <td>Manhattan</td>\n",
       "      <td>6.365759e+08</td>\n",
       "      <td>359804.890798</td>\n",
       "      <td>MULTIPOLYGON (((-74.01093 40.68449, -74.01193 ...</td>\n",
       "    </tr>\n",
       "    <tr>\n",
       "      <th>2</th>\n",
       "      <td>5.0</td>\n",
       "      <td>Staten Island</td>\n",
       "      <td>1.623636e+09</td>\n",
       "      <td>325929.794027</td>\n",
       "      <td>MULTIPOLYGON (((-74.05051 40.56642, -74.05047 ...</td>\n",
       "    </tr>\n",
       "    <tr>\n",
       "      <th>3</th>\n",
       "      <td>3.0</td>\n",
       "      <td>Brooklyn</td>\n",
       "      <td>1.934174e+09</td>\n",
       "      <td>728195.197649</td>\n",
       "      <td>MULTIPOLYGON (((-73.86327 40.58388, -73.86381 ...</td>\n",
       "    </tr>\n",
       "    <tr>\n",
       "      <th>4</th>\n",
       "      <td>4.0</td>\n",
       "      <td>Queens</td>\n",
       "      <td>3.040205e+09</td>\n",
       "      <td>900270.512975</td>\n",
       "      <td>MULTIPOLYGON (((-73.82645 40.59053, -73.82642 ...</td>\n",
       "    </tr>\n",
       "  </tbody>\n",
       "</table>\n",
       "</div>"
      ],
      "text/plain": [
       "   boro_code      boro_name    shape_area     shape_leng  \\\n",
       "0        2.0          Bronx  1.187194e+09  463868.937681   \n",
       "1        1.0      Manhattan  6.365759e+08  359804.890798   \n",
       "2        5.0  Staten Island  1.623636e+09  325929.794027   \n",
       "3        3.0       Brooklyn  1.934174e+09  728195.197649   \n",
       "4        4.0         Queens  3.040205e+09  900270.512975   \n",
       "\n",
       "                                            geometry  \n",
       "0  MULTIPOLYGON (((-73.89681 40.79581, -73.89694 ...  \n",
       "1  MULTIPOLYGON (((-74.01093 40.68449, -74.01193 ...  \n",
       "2  MULTIPOLYGON (((-74.05051 40.56642, -74.05047 ...  \n",
       "3  MULTIPOLYGON (((-73.86327 40.58388, -73.86381 ...  \n",
       "4  MULTIPOLYGON (((-73.82645 40.59053, -73.82642 ...  "
      ]
     },
     "execution_count": 69,
     "metadata": {},
     "output_type": "execute_result"
    }
   ],
   "source": [
    "# importing borough boundaries for better aesthetics\n",
    "path = 'https://data.cityofnewyork.us/api/geospatial/tqmj-j8zm?method=export&format=Shapefile'\n",
    "\n",
    "borough_gdf = gpd.read_file(path)\n",
    "borough_gdf.head()"
   ]
  },
  {
   "cell_type": "code",
   "execution_count": 70,
   "metadata": {},
   "outputs": [
    {
     "data": {
      "text/plain": [
       "<AxesSubplot:>"
      ]
     },
     "execution_count": 70,
     "metadata": {},
     "output_type": "execute_result"
    },
    {
     "data": {
      "image/png": "[encoded data removed]",
      "text/plain": [
       "<Figure size 432x288 with 1 Axes>"
      ]
     },
     "metadata": {
      "needs_background": "light"
     },
     "output_type": "display_data"
    }
   ],
   "source": [
    "borough_gdf.plot()"
   ]
  },
  {
   "cell_type": "code",
   "execution_count": 71,
   "metadata": {},
   "outputs": [
    {
     "name": "stdout",
     "output_type": "stream",
     "text": [
      "epsg:2263\n"
     ]
    },
    {
     "data": {
      "text/plain": [
       "<AxesSubplot:>"
      ]
     },
     "execution_count": 71,
     "metadata": {},
     "output_type": "execute_result"
    },
    {
     "data": {
      "image/png": "[encoded data removed]",
      "text/plain": [
       "<Figure size 432x288 with 1 Axes>"
      ]
     },
     "metadata": {
      "needs_background": "light"
     },
     "output_type": "display_data"
    }
   ],
   "source": [
    "borough_gdf = borough_gdf.to_crs(epsg=2263)\n",
    "print(borough_gdf.crs)\n",
    "\n",
    "borough_gdf.plot()"
   ]
  },
  {
   "cell_type": "code",
   "execution_count": 72,
   "metadata": {},
   "outputs": [
    {
     "data": {
      "text/plain": [
       "<AxesSubplot:>"
      ]
     },
     "execution_count": 72,
     "metadata": {},
     "output_type": "execute_result"
    },
    {
     "data": {
      "image/png": "[encoded data removed]",
      "text/plain": [
       "<Figure size 720x720 with 1 Axes>"
      ]
     },
     "metadata": {
      "needs_background": "light"
     },
     "output_type": "display_data"
    }
   ],
   "source": [
    "fig, ax = plt.subplots(figsize=(10, 10))\n",
    "\n",
    "pfirm_df.plot(ax=ax)\n",
    "borough_gdf.plot(ax=ax, \n",
    "                 facecolor='none', \n",
    "                 edgecolor='black', \n",
    "                 zorder=1)"
   ]
  },
  {
   "cell_type": "code",
   "execution_count": 73,
   "metadata": {},
   "outputs": [
    {
     "data": {
      "text/plain": [
       "<Projected CRS: EPSG:2263>\n",
       "Name: NAD83 / New York Long Island (ftUS)\n",
       "Axis Info [cartesian]:\n",
       "- X[east]: Easting (US survey foot)\n",
       "- Y[north]: Northing (US survey foot)\n",
       "Area of Use:\n",
       "- name: USA - New York - SPCS - Long Island\n",
       "- bounds: (-74.26, 40.47, -71.8, 41.3)\n",
       "Coordinate Operation:\n",
       "- name: SPCS83 New York Long Island zone (US Survey feet)\n",
       "- method: Lambert Conic Conformal (2SP)\n",
       "Datum: North American Datum 1983\n",
       "- Ellipsoid: GRS 1980\n",
       "- Prime Meridian: Greenwich"
      ]
     },
     "execution_count": 73,
     "metadata": {},
     "output_type": "execute_result"
    }
   ],
   "source": [
    "pfirm_df.crs"
   ]
  },
  {
   "cell_type": "code",
   "execution_count": 74,
   "metadata": {},
   "outputs": [
    {
     "data": {
      "text/html": [
       "<div>\n",
       "<style scoped>\n",
       "    .dataframe tbody tr th:only-of-type {\n",
       "        vertical-align: middle;\n",
       "    }\n",
       "\n",
       "    .dataframe tbody tr th {\n",
       "        vertical-align: top;\n",
       "    }\n",
       "\n",
       "    .dataframe thead th {\n",
       "        text-align: right;\n",
       "    }\n",
       "</style>\n",
       "<table border=\"1\" class=\"dataframe\">\n",
       "  <thead>\n",
       "    <tr style=\"text-align: right;\">\n",
       "      <th></th>\n",
       "      <th>FLD_AR_ID</th>\n",
       "      <th>FLD_ZONE</th>\n",
       "      <th>FLOODWAY</th>\n",
       "      <th>SFHA_TF</th>\n",
       "      <th>STATIC_BFE</th>\n",
       "      <th>V_DATUM</th>\n",
       "      <th>DEPTH</th>\n",
       "      <th>LEN_UNIT</th>\n",
       "      <th>geometry</th>\n",
       "      <th>wgs84</th>\n",
       "    </tr>\n",
       "  </thead>\n",
       "  <tbody>\n",
       "    <tr>\n",
       "      <th>0</th>\n",
       "      <td>81</td>\n",
       "      <td>AE</td>\n",
       "      <td>None</td>\n",
       "      <td>T</td>\n",
       "      <td>13.0</td>\n",
       "      <td>NAVD88</td>\n",
       "      <td>NaN</td>\n",
       "      <td>FEET</td>\n",
       "      <td>POLYGON ((1032001.691 263867.839, 1032006.047 ...</td>\n",
       "      <td>POLYGON ((-73.82729 40.89080, -73.82728 40.890...</td>\n",
       "    </tr>\n",
       "    <tr>\n",
       "      <th>2</th>\n",
       "      <td>83</td>\n",
       "      <td>0.2 PCT ANNUAL CHANCE FLOOD HAZARD</td>\n",
       "      <td>None</td>\n",
       "      <td>F</td>\n",
       "      <td>NaN</td>\n",
       "      <td>None</td>\n",
       "      <td>NaN</td>\n",
       "      <td>None</td>\n",
       "      <td>POLYGON ((1033309.701 263544.181, 1033322.210 ...</td>\n",
       "      <td>POLYGON ((-73.82256 40.88991, -73.82252 40.889...</td>\n",
       "    </tr>\n",
       "    <tr>\n",
       "      <th>3</th>\n",
       "      <td>84</td>\n",
       "      <td>0.2 PCT ANNUAL CHANCE FLOOD HAZARD</td>\n",
       "      <td>None</td>\n",
       "      <td>F</td>\n",
       "      <td>NaN</td>\n",
       "      <td>None</td>\n",
       "      <td>NaN</td>\n",
       "      <td>None</td>\n",
       "      <td>POLYGON ((1033414.148 262658.868, 1033414.934 ...</td>\n",
       "      <td>POLYGON ((-73.82219 40.88747, -73.82219 40.887...</td>\n",
       "    </tr>\n",
       "    <tr>\n",
       "      <th>4</th>\n",
       "      <td>85</td>\n",
       "      <td>0.2 PCT ANNUAL CHANCE FLOOD HAZARD</td>\n",
       "      <td>None</td>\n",
       "      <td>F</td>\n",
       "      <td>NaN</td>\n",
       "      <td>None</td>\n",
       "      <td>NaN</td>\n",
       "      <td>None</td>\n",
       "      <td>POLYGON ((1034089.115 262466.034, 1034089.402 ...</td>\n",
       "      <td>POLYGON ((-73.81975 40.88694, -73.81975 40.886...</td>\n",
       "    </tr>\n",
       "    <tr>\n",
       "      <th>5</th>\n",
       "      <td>86</td>\n",
       "      <td>0.2 PCT ANNUAL CHANCE FLOOD HAZARD</td>\n",
       "      <td>None</td>\n",
       "      <td>F</td>\n",
       "      <td>NaN</td>\n",
       "      <td>None</td>\n",
       "      <td>NaN</td>\n",
       "      <td>None</td>\n",
       "      <td>POLYGON ((1033316.808 262437.816, 1033316.108 ...</td>\n",
       "      <td>POLYGON ((-73.82255 40.88687, -73.82255 40.886...</td>\n",
       "    </tr>\n",
       "  </tbody>\n",
       "</table>\n",
       "</div>"
      ],
      "text/plain": [
       "  FLD_AR_ID                            FLD_ZONE FLOODWAY SFHA_TF  STATIC_BFE  \\\n",
       "0        81                                  AE     None       T        13.0   \n",
       "2        83  0.2 PCT ANNUAL CHANCE FLOOD HAZARD     None       F         NaN   \n",
       "3        84  0.2 PCT ANNUAL CHANCE FLOOD HAZARD     None       F         NaN   \n",
       "4        85  0.2 PCT ANNUAL CHANCE FLOOD HAZARD     None       F         NaN   \n",
       "5        86  0.2 PCT ANNUAL CHANCE FLOOD HAZARD     None       F         NaN   \n",
       "\n",
       "  V_DATUM  DEPTH LEN_UNIT                                           geometry  \\\n",
       "0  NAVD88    NaN     FEET  POLYGON ((1032001.691 263867.839, 1032006.047 ...   \n",
       "2    None    NaN     None  POLYGON ((1033309.701 263544.181, 1033322.210 ...   \n",
       "3    None    NaN     None  POLYGON ((1033414.148 262658.868, 1033414.934 ...   \n",
       "4    None    NaN     None  POLYGON ((1034089.115 262466.034, 1034089.402 ...   \n",
       "5    None    NaN     None  POLYGON ((1033316.808 262437.816, 1033316.108 ...   \n",
       "\n",
       "                                               wgs84  \n",
       "0  POLYGON ((-73.82729 40.89080, -73.82728 40.890...  \n",
       "2  POLYGON ((-73.82256 40.88991, -73.82252 40.889...  \n",
       "3  POLYGON ((-73.82219 40.88747, -73.82219 40.887...  \n",
       "4  POLYGON ((-73.81975 40.88694, -73.81975 40.886...  \n",
       "5  POLYGON ((-73.82255 40.88687, -73.82255 40.886...  "
      ]
     },
     "execution_count": 74,
     "metadata": {},
     "output_type": "execute_result"
    }
   ],
   "source": [
    "# adding a column for our geometry converted to WGS84\n",
    "pfirm_df['wgs84'] = pfirm_df.to_crs(epsg=4326)['geometry']\n",
    "\n",
    "pfirm_df.head()"
   ]
  },
  {
   "cell_type": "code",
   "execution_count": 75,
   "metadata": {},
   "outputs": [
    {
     "data": {
      "text/plain": [
       "<Projected CRS: EPSG:2263>\n",
       "Name: NAD83 / New York Long Island (ftUS)\n",
       "Axis Info [cartesian]:\n",
       "- X[east]: Easting (US survey foot)\n",
       "- Y[north]: Northing (US survey foot)\n",
       "Area of Use:\n",
       "- name: USA - New York - SPCS - Long Island\n",
       "- bounds: (-74.26, 40.47, -71.8, 41.3)\n",
       "Coordinate Operation:\n",
       "- name: SPCS83 New York Long Island zone (US Survey feet)\n",
       "- method: Lambert Conic Conformal (2SP)\n",
       "Datum: North American Datum 1983\n",
       "- Ellipsoid: GRS 1980\n",
       "- Prime Meridian: Greenwich"
      ]
     },
     "execution_count": 75,
     "metadata": {},
     "output_type": "execute_result"
    }
   ],
   "source": [
    "# make sure 2263 is still our active geometry\n",
    "pfirm_df.crs"
   ]
  },
  {
   "cell_type": "code",
   "execution_count": 76,
   "metadata": {},
   "outputs": [
    {
     "data": {
      "text/plain": [
       "<AxesSubplot:>"
      ]
     },
     "execution_count": 76,
     "metadata": {},
     "output_type": "execute_result"
    },
    {
     "data": {
      "image/png": "[encoded data removed]",
      "text/plain": [
       "<Figure size 720x720 with 1 Axes>"
      ]
     },
     "metadata": {
      "needs_background": "light"
     },
     "output_type": "display_data"
    }
   ],
   "source": [
    "fig, ax = plt.subplots(figsize=(10, 10))\n",
    "\n",
    "# plotting our map in WGS84\n",
    "pfirm_df.set_geometry('wgs84').plot(ax=ax)\n",
    "borough_gdf.to_crs(epsg=4326).plot(ax=ax, \n",
    "                                   facecolor='none', \n",
    "                                   edgecolor='black', \n",
    "                                   zorder=1)"
   ]
  },
  {
   "cell_type": "markdown",
   "metadata": {},
   "source": [
    "## 4.2 Analyzing the flood zone's area"
   ]
  },
  {
   "cell_type": "code",
   "execution_count": 77,
   "metadata": {},
   "outputs": [
    {
     "data": {
      "text/plain": [
       "0    1.414248e+07\n",
       "2    1.004589e+05\n",
       "3    1.935660e+05\n",
       "4    6.573445e+04\n",
       "5    1.275814e+05\n",
       "dtype: float64"
      ]
     },
     "execution_count": 77,
     "metadata": {},
     "output_type": "execute_result"
    }
   ],
   "source": [
    "pfirm_df.area.head()"
   ]
  },
  {
   "cell_type": "code",
   "execution_count": 78,
   "metadata": {},
   "outputs": [
    {
     "name": "stdout",
     "output_type": "stream",
     "text": [
      "flood zone area statistics:\n",
      "\n",
      "area in square feet: 2,805,616,808\n",
      "area in square miles: 101\n"
     ]
    }
   ],
   "source": [
    "print('flood zone area statistics:\\n')\n",
    "print('area in square feet: {:,.0f}'.format(pfirm_df.area.sum()))\n",
    "print('area in square miles: {:,.0f}'.format(pfirm_df.area.sum() / 5280**2))"
   ]
  },
  {
   "cell_type": "code",
   "execution_count": 79,
   "metadata": {},
   "outputs": [
    {
     "data": {
      "text/plain": [
       "AE    1269\n",
       "VE     420\n",
       "A       21\n",
       "AO      12\n",
       "Name: FLD_ZONE, dtype: int64"
      ]
     },
     "execution_count": 79,
     "metadata": {},
     "output_type": "execute_result"
    }
   ],
   "source": [
    "sfha_df = pfirm_df[~pfirm_df['FLD_ZONE'].isin(['0.2 PCT ANNUAL CHANCE FLOOD HAZARD'])]\n",
    "\n",
    "sfha_df['FLD_ZONE'].value_counts()"
   ]
  },
  {
   "cell_type": "code",
   "execution_count": 80,
   "metadata": {},
   "outputs": [
    {
     "name": "stdout",
     "output_type": "stream",
     "text": [
      "area statistics only of special flood hazard area zones:\n",
      "\n",
      "area in square feet: 2,251,096,443\n",
      "area in square miles: 81\n"
     ]
    }
   ],
   "source": [
    "print('area statistics only of special flood hazard area zones:\\n')\n",
    "print('area in square feet: {:,.0f}'.format(sfha_df.area.sum()))\n",
    "print('area in square miles: {:,.0f}'.format(sfha_df.area.sum() / 5280**2))"
   ]
  },
  {
   "cell_type": "code",
   "execution_count": 81,
   "metadata": {},
   "outputs": [
    {
     "data": {
      "text/plain": [
       "{'AE': 47.14892801490547,\n",
       " '0.2 PCT ANNUAL CHANCE FLOOD HAZARD': 19.890681149361665,\n",
       " 'VE': 33.36574122021985,\n",
       " 'AO': 0.035765507846687306,\n",
       " 'A': 0.1965393640507153}"
      ]
     },
     "execution_count": 81,
     "metadata": {},
     "output_type": "execute_result"
    }
   ],
   "source": [
    "zones = pfirm_df['FLD_ZONE'].unique()\n",
    "empty_dict = {}\n",
    "\n",
    "for zone in zones:\n",
    "    zone_df = pfirm_df.loc[pfirm_df['FLD_ZONE'] == zone]\n",
    "    zone_series = zone_df.area.sum() / 5280**2\n",
    "    \n",
    "    empty_dict.update({zone:zone_series})\n",
    "    \n",
    "empty_dict "
   ]
  },
  {
   "cell_type": "code",
   "execution_count": 82,
   "metadata": {},
   "outputs": [
    {
     "data": {
      "text/plain": [
       "Text(0.5, 1.0, 'Area by Flood Zone in NYC')"
      ]
     },
     "execution_count": 82,
     "metadata": {},
     "output_type": "execute_result"
    },
    {
     "data": {
      "image/png": "[encoded data removed]",
      "text/plain": [
       "<Figure size 576x576 with 1 Axes>"
      ]
     },
     "metadata": {
      "needs_background": "light"
     },
     "output_type": "display_data"
    }
   ],
   "source": [
    "s1 = pd.Series(empty_dict).rename('area (mi)')\n",
    "s1 = s1.reset_index().rename(columns={'index': 'zone'})\n",
    "s1 = s1.sort_values(by='area (mi)', ascending=False)\n",
    "\n",
    "fig, ax = plt.subplots(figsize=(8, 8))\n",
    "sns.barplot(data=s1, \n",
    "            x='area (mi)', \n",
    "            y='zone')\n",
    "\n",
    "plt.title('Area by Flood Zone in NYC', fontsize=15)"
   ]
  },
  {
   "cell_type": "code",
   "execution_count": 83,
   "metadata": {},
   "outputs": [
    {
     "data": {
      "text/plain": [
       "count      3448.000000\n",
       "mean       4894.029117\n",
       "std       14481.072675\n",
       "min           0.463140\n",
       "25%         636.531046\n",
       "50%        1542.380217\n",
       "75%        3811.199455\n",
       "max      405938.650099\n",
       "dtype: float64"
      ]
     },
     "execution_count": 83,
     "metadata": {},
     "output_type": "execute_result"
    }
   ],
   "source": [
    "pfirm_df.length.describe()"
   ]
  },
  {
   "cell_type": "code",
   "execution_count": 84,
   "metadata": {},
   "outputs": [
    {
     "data": {
      "text/html": [
       "<div>\n",
       "<style scoped>\n",
       "    .dataframe tbody tr th:only-of-type {\n",
       "        vertical-align: middle;\n",
       "    }\n",
       "\n",
       "    .dataframe tbody tr th {\n",
       "        vertical-align: top;\n",
       "    }\n",
       "\n",
       "    .dataframe thead th {\n",
       "        text-align: right;\n",
       "    }\n",
       "</style>\n",
       "<table border=\"1\" class=\"dataframe\">\n",
       "  <thead>\n",
       "    <tr style=\"text-align: right;\">\n",
       "      <th></th>\n",
       "      <th>minx</th>\n",
       "      <th>miny</th>\n",
       "      <th>maxx</th>\n",
       "      <th>maxy</th>\n",
       "    </tr>\n",
       "  </thead>\n",
       "  <tbody>\n",
       "    <tr>\n",
       "      <th>count</th>\n",
       "      <td>3.448000e+03</td>\n",
       "      <td>3448.000000</td>\n",
       "      <td>3.448000e+03</td>\n",
       "      <td>3448.000000</td>\n",
       "    </tr>\n",
       "    <tr>\n",
       "      <th>mean</th>\n",
       "      <td>9.816710e+05</td>\n",
       "      <td>175493.674790</td>\n",
       "      <td>9.826482e+05</td>\n",
       "      <td>176524.173693</td>\n",
       "    </tr>\n",
       "    <tr>\n",
       "      <th>std</th>\n",
       "      <td>4.451364e+04</td>\n",
       "      <td>41795.734222</td>\n",
       "      <td>4.482823e+04</td>\n",
       "      <td>42094.317127</td>\n",
       "    </tr>\n",
       "    <tr>\n",
       "      <th>min</th>\n",
       "      <td>9.126579e+05</td>\n",
       "      <td>119624.665656</td>\n",
       "      <td>9.135851e+05</td>\n",
       "      <td>121022.589698</td>\n",
       "    </tr>\n",
       "    <tr>\n",
       "      <th>25%</th>\n",
       "      <td>9.354287e+05</td>\n",
       "      <td>138170.949348</td>\n",
       "      <td>9.358368e+05</td>\n",
       "      <td>139033.238060</td>\n",
       "    </tr>\n",
       "    <tr>\n",
       "      <th>50%</th>\n",
       "      <td>9.865366e+05</td>\n",
       "      <td>160207.244924</td>\n",
       "      <td>9.879018e+05</td>\n",
       "      <td>161841.804975</td>\n",
       "    </tr>\n",
       "    <tr>\n",
       "      <th>75%</th>\n",
       "      <td>1.022851e+06</td>\n",
       "      <td>219186.451195</td>\n",
       "      <td>1.023877e+06</td>\n",
       "      <td>220337.171334</td>\n",
       "    </tr>\n",
       "    <tr>\n",
       "      <th>max</th>\n",
       "      <td>1.060159e+06</td>\n",
       "      <td>270122.592022</td>\n",
       "      <td>1.060540e+06</td>\n",
       "      <td>273138.514468</td>\n",
       "    </tr>\n",
       "  </tbody>\n",
       "</table>\n",
       "</div>"
      ],
      "text/plain": [
       "               minx           miny          maxx           maxy\n",
       "count  3.448000e+03    3448.000000  3.448000e+03    3448.000000\n",
       "mean   9.816710e+05  175493.674790  9.826482e+05  176524.173693\n",
       "std    4.451364e+04   41795.734222  4.482823e+04   42094.317127\n",
       "min    9.126579e+05  119624.665656  9.135851e+05  121022.589698\n",
       "25%    9.354287e+05  138170.949348  9.358368e+05  139033.238060\n",
       "50%    9.865366e+05  160207.244924  9.879018e+05  161841.804975\n",
       "75%    1.022851e+06  219186.451195  1.023877e+06  220337.171334\n",
       "max    1.060159e+06  270122.592022  1.060540e+06  273138.514468"
      ]
     },
     "execution_count": 84,
     "metadata": {},
     "output_type": "execute_result"
    }
   ],
   "source": [
    "pfirm_df.bounds.describe()"
   ]
  },
  {
   "cell_type": "code",
   "execution_count": null,
   "metadata": {},
   "outputs": [],
   "source": []
  }
 ],
 "metadata": {
  "kernelspec": {
   "display_name": "Python 3",
   "language": "python",
   "name": "python3"
  },
  "language_info": {
   "codemirror_mode": {
    "name": "ipython",
    "version": 3
   },
   "file_extension": ".py",
   "mimetype": "text/x-python",
   "name": "python",
   "nbconvert_exporter": "python",
   "pygments_lexer": "ipython3",
   "version": "3.7.1"
  }
 },
 "nbformat": 4,
 "nbformat_minor": 4
}
